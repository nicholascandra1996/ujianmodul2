{
 "cells": [
  {
   "cell_type": "markdown",
   "metadata": {},
   "source": [
    "# Ujian Modul 2 - Purwadhika Data Science JC Program\n",
    "\n",
    "## Context - Taken from Kaggle\n",
    "Did you know that claims can be filed against TSA? Sometimes US Terminal Security Agency (TSA) makes mistakes. People can get hurt and property can be damaged, lost, or stolen. Claims are generally filed against TSA for personal injuries and lost or damaged property during screenings and they keep records of every claim!\n",
    "\n",
    "### Content\n",
    "The dataset includes claims filed between 2002 through 2015.\n",
    "\n",
    "1. Claim Number\n",
    "1. Date Received\n",
    "1. Incident Date\n",
    "1. Airport Code\n",
    "1. Airport Name\n",
    "1. Airline Name\n",
    "1. Claim Type\n",
    "1. Claim Site\n",
    "1. Item\n",
    "1. Claim Amount\n",
    "1. Status\n",
    "1. Close Amount\n",
    "1. Disposition\n",
    "\n",
    "This data is coming from the Kaggle Dataset that contain the data of clain the been filed into the TSA. We would try to explore the data and clean the data partially (we would not clean and analyze everything as it would take more time than necessary) and we would only use 25% data from the original dataset.\n",
    "\n",
    "This exam scoring would be explained below:\n",
    "\n",
    "- This Notebook would have total score of 80 (+ 10 Bonus POINT for Bonus Question), which consist of:\n",
    "    - 40 POINT for the Question part (10 point for each question)\n",
    "    - 40 POINT for the preprocessing part by following the guide\n",
    "- The Dashboard would yield 20 POINT\n",
    "- The Maximum Score would be still 100, Bonus Question is just a Bonus. Work it if you have an extra time and already sure about all your other answer (or not sure about the other question, and need this bonus question to help)\n",
    "\n",
    "When you finish, upload your notebook contain all the answers and the script for the dashboard to your github. You do not need to upload the .csv file. "
   ]
  },
  {
   "cell_type": "markdown",
   "metadata": {},
   "source": [
    "Try to read the data and show all the important info first. For starter, try to understand what each column represent."
   ]
  },
  {
   "cell_type": "code",
   "execution_count": 355,
   "metadata": {
    "ExecuteTime": {
     "end_time": "2019-10-12T18:25:33.696101Z",
     "start_time": "2019-10-12T18:25:30.439737Z"
    }
   },
   "outputs": [],
   "source": [
    "import pandas as pd\n",
    "import numpy as np\n",
    "import matplotlib.pyplot as plt\n",
    "\n",
    "%matplotlib inline"
   ]
  },
  {
   "cell_type": "code",
   "execution_count": 356,
   "metadata": {
    "ExecuteTime": {
     "end_time": "2019-10-12T18:25:33.862002Z",
     "start_time": "2019-10-12T18:25:33.697102Z"
    }
   },
   "outputs": [],
   "source": [
    "tsa = pd.read_csv('tsa_claims_ujian.csv')"
   ]
  },
  {
   "cell_type": "code",
   "execution_count": 357,
   "metadata": {
    "ExecuteTime": {
     "end_time": "2019-10-12T18:25:33.876991Z",
     "start_time": "2019-10-12T18:25:33.862944Z"
    }
   },
   "outputs": [
    {
     "data": {
      "text/html": [
       "<div>\n",
       "<style scoped>\n",
       "    .dataframe tbody tr th:only-of-type {\n",
       "        vertical-align: middle;\n",
       "    }\n",
       "\n",
       "    .dataframe tbody tr th {\n",
       "        vertical-align: top;\n",
       "    }\n",
       "\n",
       "    .dataframe thead th {\n",
       "        text-align: right;\n",
       "    }\n",
       "</style>\n",
       "<table border=\"1\" class=\"dataframe\">\n",
       "  <thead>\n",
       "    <tr style=\"text-align: right;\">\n",
       "      <th></th>\n",
       "      <th>Claim Number</th>\n",
       "      <th>Date Received</th>\n",
       "      <th>Incident Date</th>\n",
       "      <th>Airport Code</th>\n",
       "      <th>Airport Name</th>\n",
       "      <th>Airline Name</th>\n",
       "      <th>Claim Type</th>\n",
       "      <th>Claim Site</th>\n",
       "      <th>Item</th>\n",
       "      <th>Claim Amount</th>\n",
       "      <th>Status</th>\n",
       "      <th>Close Amount</th>\n",
       "      <th>Disposition</th>\n",
       "    </tr>\n",
       "  </thead>\n",
       "  <tbody>\n",
       "    <tr>\n",
       "      <td>0</td>\n",
       "      <td>0909816M</td>\n",
       "      <td>7-Feb-02</td>\n",
       "      <td>1/6/2003 0:00</td>\n",
       "      <td>MIA</td>\n",
       "      <td>Miami International Airport</td>\n",
       "      <td>American Airlines</td>\n",
       "      <td>Property Damage</td>\n",
       "      <td>Checkpoint</td>\n",
       "      <td>Luggage (all types including footlockers)</td>\n",
       "      <td>$50.00</td>\n",
       "      <td>Approved</td>\n",
       "      <td>$50.00</td>\n",
       "      <td>Approve in Full</td>\n",
       "    </tr>\n",
       "    <tr>\n",
       "      <td>1</td>\n",
       "      <td>14268</td>\n",
       "      <td>20-Jun-02</td>\n",
       "      <td>6/16/2002 0:00</td>\n",
       "      <td>PHX</td>\n",
       "      <td>Phoenix Sky Harbor International</td>\n",
       "      <td>NaN</td>\n",
       "      <td>Property Damage</td>\n",
       "      <td>Checkpoint</td>\n",
       "      <td>Computer - Laptop</td>\n",
       "      <td>$2;270.09</td>\n",
       "      <td>Canceled</td>\n",
       "      <td>NaN</td>\n",
       "      <td>NaN</td>\n",
       "    </tr>\n",
       "    <tr>\n",
       "      <td>2</td>\n",
       "      <td>15242</td>\n",
       "      <td>12-Jul-02</td>\n",
       "      <td>5/31/2002 0:00</td>\n",
       "      <td>BWI</td>\n",
       "      <td>Baltimore/Washington Intl Thurgood Marshall</td>\n",
       "      <td>American Airlines</td>\n",
       "      <td>NaN</td>\n",
       "      <td>Other</td>\n",
       "      <td>Luggage (all types including footlockers)</td>\n",
       "      <td>$200.00</td>\n",
       "      <td>Denied</td>\n",
       "      <td>$0.00</td>\n",
       "      <td>Deny</td>\n",
       "    </tr>\n",
       "    <tr>\n",
       "      <td>3</td>\n",
       "      <td>16759</td>\n",
       "      <td>21-Aug-02</td>\n",
       "      <td>7/12/2002 0:00</td>\n",
       "      <td>BWI</td>\n",
       "      <td>Baltimore/Washington Intl Thurgood Marshall</td>\n",
       "      <td>Southwest Airlines</td>\n",
       "      <td>Passenger Property Loss</td>\n",
       "      <td>Checkpoint</td>\n",
       "      <td>Other</td>\n",
       "      <td>$21.44</td>\n",
       "      <td>Approved</td>\n",
       "      <td>$21.00</td>\n",
       "      <td>Approve in Full</td>\n",
       "    </tr>\n",
       "    <tr>\n",
       "      <td>4</td>\n",
       "      <td>17846</td>\n",
       "      <td>9-Sep-02</td>\n",
       "      <td>8/30/2002 0:00</td>\n",
       "      <td>BOS</td>\n",
       "      <td>Boston (Logan) International Airport</td>\n",
       "      <td>NaN</td>\n",
       "      <td>Property Damage</td>\n",
       "      <td>Checkpoint</td>\n",
       "      <td>Luggage (all types including footlockers)</td>\n",
       "      <td>$1;832.22</td>\n",
       "      <td>Canceled</td>\n",
       "      <td>$0.00</td>\n",
       "      <td>NaN</td>\n",
       "    </tr>\n",
       "  </tbody>\n",
       "</table>\n",
       "</div>"
      ],
      "text/plain": [
       "  Claim Number Date Received   Incident Date Airport Code  \\\n",
       "0     0909816M      7-Feb-02   1/6/2003 0:00          MIA   \n",
       "1        14268     20-Jun-02  6/16/2002 0:00          PHX   \n",
       "2        15242     12-Jul-02  5/31/2002 0:00          BWI   \n",
       "3        16759     21-Aug-02  7/12/2002 0:00          BWI   \n",
       "4        17846      9-Sep-02  8/30/2002 0:00          BOS   \n",
       "\n",
       "                                  Airport Name        Airline Name  \\\n",
       "0                  Miami International Airport   American Airlines   \n",
       "1             Phoenix Sky Harbor International                 NaN   \n",
       "2  Baltimore/Washington Intl Thurgood Marshall   American Airlines   \n",
       "3  Baltimore/Washington Intl Thurgood Marshall  Southwest Airlines   \n",
       "4         Boston (Logan) International Airport                 NaN   \n",
       "\n",
       "                Claim Type  Claim Site  \\\n",
       "0          Property Damage  Checkpoint   \n",
       "1          Property Damage  Checkpoint   \n",
       "2                      NaN       Other   \n",
       "3  Passenger Property Loss  Checkpoint   \n",
       "4          Property Damage  Checkpoint   \n",
       "\n",
       "                                        Item Claim Amount    Status  \\\n",
       "0  Luggage (all types including footlockers)      $50.00   Approved   \n",
       "1                          Computer - Laptop   $2;270.09   Canceled   \n",
       "2  Luggage (all types including footlockers)     $200.00     Denied   \n",
       "3                                      Other      $21.44   Approved   \n",
       "4  Luggage (all types including footlockers)   $1;832.22   Canceled   \n",
       "\n",
       "  Close Amount      Disposition  \n",
       "0      $50.00   Approve in Full  \n",
       "1          NaN              NaN  \n",
       "2       $0.00              Deny  \n",
       "3      $21.00   Approve in Full  \n",
       "4       $0.00               NaN  "
      ]
     },
     "execution_count": 357,
     "metadata": {},
     "output_type": "execute_result"
    }
   ],
   "source": [
    "tsa.head(5)"
   ]
  },
  {
   "cell_type": "code",
   "execution_count": 358,
   "metadata": {
    "ExecuteTime": {
     "end_time": "2019-10-12T18:25:33.889021Z",
     "start_time": "2019-10-12T18:25:33.878502Z"
    },
    "scrolled": true
   },
   "outputs": [
    {
     "data": {
      "text/html": [
       "<div>\n",
       "<style scoped>\n",
       "    .dataframe tbody tr th:only-of-type {\n",
       "        vertical-align: middle;\n",
       "    }\n",
       "\n",
       "    .dataframe tbody tr th {\n",
       "        vertical-align: top;\n",
       "    }\n",
       "\n",
       "    .dataframe thead th {\n",
       "        text-align: right;\n",
       "    }\n",
       "</style>\n",
       "<table border=\"1\" class=\"dataframe\">\n",
       "  <thead>\n",
       "    <tr style=\"text-align: right;\">\n",
       "      <th></th>\n",
       "      <th>Claim Number</th>\n",
       "      <th>Date Received</th>\n",
       "      <th>Incident Date</th>\n",
       "      <th>Airport Code</th>\n",
       "      <th>Airport Name</th>\n",
       "      <th>Airline Name</th>\n",
       "      <th>Claim Type</th>\n",
       "      <th>Claim Site</th>\n",
       "      <th>Item</th>\n",
       "      <th>Claim Amount</th>\n",
       "      <th>Status</th>\n",
       "      <th>Close Amount</th>\n",
       "      <th>Disposition</th>\n",
       "    </tr>\n",
       "  </thead>\n",
       "  <tbody>\n",
       "    <tr>\n",
       "      <td>51061</td>\n",
       "      <td>2015110926685</td>\n",
       "      <td>22-Oct-15</td>\n",
       "      <td>19-Oct-15</td>\n",
       "      <td>-</td>\n",
       "      <td>-</td>\n",
       "      <td>-</td>\n",
       "      <td>Property Damage</td>\n",
       "      <td>Checked Baggage</td>\n",
       "      <td>Baggage/Cases/Purses</td>\n",
       "      <td>-</td>\n",
       "      <td>-</td>\n",
       "      <td>NaN</td>\n",
       "      <td>NaN</td>\n",
       "    </tr>\n",
       "    <tr>\n",
       "      <td>51062</td>\n",
       "      <td>2015110226479</td>\n",
       "      <td>2-Nov-15</td>\n",
       "      <td>2-Nov-15</td>\n",
       "      <td>-</td>\n",
       "      <td>-</td>\n",
       "      <td>-</td>\n",
       "      <td>Passenger Property Loss</td>\n",
       "      <td>Checkpoint</td>\n",
       "      <td>Books; Magazines &amp; Other</td>\n",
       "      <td>-</td>\n",
       "      <td>-</td>\n",
       "      <td>NaN</td>\n",
       "      <td>NaN</td>\n",
       "    </tr>\n",
       "    <tr>\n",
       "      <td>51063</td>\n",
       "      <td>2015120727336</td>\n",
       "      <td>16-Nov-15</td>\n",
       "      <td>14-Sep-15</td>\n",
       "      <td>-</td>\n",
       "      <td>-</td>\n",
       "      <td>American Airlines</td>\n",
       "      <td>Passenger Property Loss</td>\n",
       "      <td>Checked Baggage</td>\n",
       "      <td>Cosmetics &amp; Grooming</td>\n",
       "      <td>-</td>\n",
       "      <td>-</td>\n",
       "      <td>NaN</td>\n",
       "      <td>NaN</td>\n",
       "    </tr>\n",
       "    <tr>\n",
       "      <td>51064</td>\n",
       "      <td>2015120427297</td>\n",
       "      <td>20-Nov-15</td>\n",
       "      <td>16-Oct-15</td>\n",
       "      <td>-</td>\n",
       "      <td>-</td>\n",
       "      <td>-</td>\n",
       "      <td>Property Damage</td>\n",
       "      <td>Checked Baggage</td>\n",
       "      <td>Baggage/Cases/Purses; Books; Magazines &amp; Other...</td>\n",
       "      <td>-</td>\n",
       "      <td>-</td>\n",
       "      <td>NaN</td>\n",
       "      <td>NaN</td>\n",
       "    </tr>\n",
       "    <tr>\n",
       "      <td>51065</td>\n",
       "      <td>2016010428072</td>\n",
       "      <td>22-Dec-15</td>\n",
       "      <td>20-Dec-15</td>\n",
       "      <td>-</td>\n",
       "      <td>-</td>\n",
       "      <td>-</td>\n",
       "      <td>Passenger Property Loss</td>\n",
       "      <td>Checked Baggage</td>\n",
       "      <td>Clothing</td>\n",
       "      <td>-</td>\n",
       "      <td>-</td>\n",
       "      <td>NaN</td>\n",
       "      <td>NaN</td>\n",
       "    </tr>\n",
       "  </tbody>\n",
       "</table>\n",
       "</div>"
      ],
      "text/plain": [
       "        Claim Number Date Received Incident Date Airport Code Airport Name  \\\n",
       "51061  2015110926685     22-Oct-15     19-Oct-15            -            -   \n",
       "51062  2015110226479      2-Nov-15      2-Nov-15            -            -   \n",
       "51063  2015120727336     16-Nov-15     14-Sep-15            -            -   \n",
       "51064  2015120427297     20-Nov-15     16-Oct-15            -            -   \n",
       "51065  2016010428072     22-Dec-15     20-Dec-15            -            -   \n",
       "\n",
       "            Airline Name               Claim Type       Claim Site  \\\n",
       "51061                  -          Property Damage  Checked Baggage   \n",
       "51062                  -  Passenger Property Loss       Checkpoint   \n",
       "51063  American Airlines  Passenger Property Loss  Checked Baggage   \n",
       "51064                  -          Property Damage  Checked Baggage   \n",
       "51065                  -  Passenger Property Loss  Checked Baggage   \n",
       "\n",
       "                                                    Item Claim Amount Status  \\\n",
       "51061                               Baggage/Cases/Purses            -      -   \n",
       "51062                           Books; Magazines & Other            -      -   \n",
       "51063                               Cosmetics & Grooming            -      -   \n",
       "51064  Baggage/Cases/Purses; Books; Magazines & Other...            -      -   \n",
       "51065                                           Clothing            -      -   \n",
       "\n",
       "      Close Amount Disposition  \n",
       "51061          NaN         NaN  \n",
       "51062          NaN         NaN  \n",
       "51063          NaN         NaN  \n",
       "51064          NaN         NaN  \n",
       "51065          NaN         NaN  "
      ]
     },
     "execution_count": 358,
     "metadata": {},
     "output_type": "execute_result"
    }
   ],
   "source": [
    "tsa.tail(5)"
   ]
  },
  {
   "cell_type": "code",
   "execution_count": 359,
   "metadata": {
    "scrolled": true
   },
   "outputs": [
    {
     "name": "stdout",
     "output_type": "stream",
     "text": [
      "<class 'pandas.core.frame.DataFrame'>\n",
      "RangeIndex: 51066 entries, 0 to 51065\n",
      "Data columns (total 13 columns):\n",
      "Claim Number     51066 non-null object\n",
      "Date Received    50996 non-null object\n",
      "Incident Date    50496 non-null object\n",
      "Airport Code     49014 non-null object\n",
      "Airport Name     49014 non-null object\n",
      "Airline Name     42511 non-null object\n",
      "Claim Type       49106 non-null object\n",
      "Claim Site       50876 non-null object\n",
      "Item             50054 non-null object\n",
      "Claim Amount     50074 non-null object\n",
      "Status           51065 non-null object\n",
      "Close Amount     33786 non-null object\n",
      "Disposition      32846 non-null object\n",
      "dtypes: object(13)\n",
      "memory usage: 5.1+ MB\n"
     ]
    }
   ],
   "source": [
    "tsa.info()"
   ]
  },
  {
   "cell_type": "code",
   "execution_count": 360,
   "metadata": {
    "scrolled": true
   },
   "outputs": [
    {
     "data": {
      "text/html": [
       "<div>\n",
       "<style scoped>\n",
       "    .dataframe tbody tr th:only-of-type {\n",
       "        vertical-align: middle;\n",
       "    }\n",
       "\n",
       "    .dataframe tbody tr th {\n",
       "        vertical-align: top;\n",
       "    }\n",
       "\n",
       "    .dataframe thead th {\n",
       "        text-align: right;\n",
       "    }\n",
       "</style>\n",
       "<table border=\"1\" class=\"dataframe\">\n",
       "  <thead>\n",
       "    <tr style=\"text-align: right;\">\n",
       "      <th></th>\n",
       "      <th>Claim Number</th>\n",
       "      <th>Date Received</th>\n",
       "      <th>Incident Date</th>\n",
       "      <th>Airport Code</th>\n",
       "      <th>Airport Name</th>\n",
       "      <th>Airline Name</th>\n",
       "      <th>Claim Type</th>\n",
       "      <th>Claim Site</th>\n",
       "      <th>Item</th>\n",
       "      <th>Claim Amount</th>\n",
       "      <th>Status</th>\n",
       "      <th>Close Amount</th>\n",
       "      <th>Disposition</th>\n",
       "    </tr>\n",
       "  </thead>\n",
       "  <tbody>\n",
       "    <tr>\n",
       "      <td>count</td>\n",
       "      <td>51066</td>\n",
       "      <td>50996</td>\n",
       "      <td>50496</td>\n",
       "      <td>49014</td>\n",
       "      <td>49014</td>\n",
       "      <td>42511</td>\n",
       "      <td>49106</td>\n",
       "      <td>50876</td>\n",
       "      <td>50054</td>\n",
       "      <td>50074</td>\n",
       "      <td>51065</td>\n",
       "      <td>33786</td>\n",
       "      <td>32846</td>\n",
       "    </tr>\n",
       "    <tr>\n",
       "      <td>unique</td>\n",
       "      <td>51065</td>\n",
       "      <td>3522</td>\n",
       "      <td>10788</td>\n",
       "      <td>405</td>\n",
       "      <td>419</td>\n",
       "      <td>243</td>\n",
       "      <td>8</td>\n",
       "      <td>6</td>\n",
       "      <td>1854</td>\n",
       "      <td>13248</td>\n",
       "      <td>13</td>\n",
       "      <td>6009</td>\n",
       "      <td>3</td>\n",
       "    </tr>\n",
       "    <tr>\n",
       "      <td>top</td>\n",
       "      <td>2013121110011</td>\n",
       "      <td>27-May-04</td>\n",
       "      <td>12/22/2004 0:00</td>\n",
       "      <td>LAX</td>\n",
       "      <td>John F. Kennedy International</td>\n",
       "      <td>American Airlines</td>\n",
       "      <td>Passenger Property Loss</td>\n",
       "      <td>Checked Baggage</td>\n",
       "      <td>Other</td>\n",
       "      <td>$0.00</td>\n",
       "      <td>Denied</td>\n",
       "      <td>$0.00</td>\n",
       "      <td>Deny</td>\n",
       "    </tr>\n",
       "    <tr>\n",
       "      <td>freq</td>\n",
       "      <td>2</td>\n",
       "      <td>182</td>\n",
       "      <td>43</td>\n",
       "      <td>2379</td>\n",
       "      <td>2286</td>\n",
       "      <td>4377</td>\n",
       "      <td>29713</td>\n",
       "      <td>39937</td>\n",
       "      <td>9183</td>\n",
       "      <td>7065</td>\n",
       "      <td>17134</td>\n",
       "      <td>17907</td>\n",
       "      <td>17147</td>\n",
       "    </tr>\n",
       "  </tbody>\n",
       "</table>\n",
       "</div>"
      ],
      "text/plain": [
       "         Claim Number Date Received    Incident Date Airport Code  \\\n",
       "count           51066         50996            50496        49014   \n",
       "unique          51065          3522            10788          405   \n",
       "top     2013121110011     27-May-04  12/22/2004 0:00          LAX   \n",
       "freq                2           182               43         2379   \n",
       "\n",
       "                         Airport Name       Airline Name  \\\n",
       "count                           49014              42511   \n",
       "unique                            419                243   \n",
       "top     John F. Kennedy International  American Airlines   \n",
       "freq                             2286               4377   \n",
       "\n",
       "                     Claim Type       Claim Site   Item Claim Amount  Status  \\\n",
       "count                     49106            50876  50054        50074   51065   \n",
       "unique                        8                6   1854        13248      13   \n",
       "top     Passenger Property Loss  Checked Baggage  Other       $0.00   Denied   \n",
       "freq                      29713            39937   9183         7065   17134   \n",
       "\n",
       "       Close Amount Disposition  \n",
       "count         33786       32846  \n",
       "unique         6009           3  \n",
       "top          $0.00         Deny  \n",
       "freq          17907       17147  "
      ]
     },
     "execution_count": 360,
     "metadata": {},
     "output_type": "execute_result"
    }
   ],
   "source": [
    "tsa.describe()"
   ]
  },
  {
   "cell_type": "code",
   "execution_count": 361,
   "metadata": {
    "scrolled": false
   },
   "outputs": [
    {
     "data": {
      "text/html": [
       "<div>\n",
       "<style scoped>\n",
       "    .dataframe tbody tr th:only-of-type {\n",
       "        vertical-align: middle;\n",
       "    }\n",
       "\n",
       "    .dataframe tbody tr th {\n",
       "        vertical-align: top;\n",
       "    }\n",
       "\n",
       "    .dataframe thead th {\n",
       "        text-align: right;\n",
       "    }\n",
       "</style>\n",
       "<table border=\"1\" class=\"dataframe\">\n",
       "  <thead>\n",
       "    <tr style=\"text-align: right;\">\n",
       "      <th></th>\n",
       "      <th>dataFeatures</th>\n",
       "      <th>dataType</th>\n",
       "      <th>null</th>\n",
       "      <th>nullPct</th>\n",
       "      <th>unique</th>\n",
       "      <th>uniqueSample</th>\n",
       "    </tr>\n",
       "  </thead>\n",
       "  <tbody>\n",
       "    <tr>\n",
       "      <td>0</td>\n",
       "      <td>Claim Number</td>\n",
       "      <td>object</td>\n",
       "      <td>0</td>\n",
       "      <td>0.00</td>\n",
       "      <td>51065</td>\n",
       "      <td>[2010020468303, 2010113078348]</td>\n",
       "    </tr>\n",
       "    <tr>\n",
       "      <td>1</td>\n",
       "      <td>Date Received</td>\n",
       "      <td>object</td>\n",
       "      <td>70</td>\n",
       "      <td>0.14</td>\n",
       "      <td>3522</td>\n",
       "      <td>[12-Jul-06, 24-Mar-05]</td>\n",
       "    </tr>\n",
       "    <tr>\n",
       "      <td>2</td>\n",
       "      <td>Incident Date</td>\n",
       "      <td>object</td>\n",
       "      <td>570</td>\n",
       "      <td>1.12</td>\n",
       "      <td>10788</td>\n",
       "      <td>[1/11/2007 0:00, 2/21/2006 0:00]</td>\n",
       "    </tr>\n",
       "    <tr>\n",
       "      <td>3</td>\n",
       "      <td>Airport Code</td>\n",
       "      <td>object</td>\n",
       "      <td>2052</td>\n",
       "      <td>4.02</td>\n",
       "      <td>405</td>\n",
       "      <td>[ORD, IMT]</td>\n",
       "    </tr>\n",
       "    <tr>\n",
       "      <td>4</td>\n",
       "      <td>Airport Name</td>\n",
       "      <td>object</td>\n",
       "      <td>2052</td>\n",
       "      <td>4.02</td>\n",
       "      <td>419</td>\n",
       "      <td>[San Luis Obispo, Phoenix Sky Harbor Internati...</td>\n",
       "    </tr>\n",
       "    <tr>\n",
       "      <td>5</td>\n",
       "      <td>Airline Name</td>\n",
       "      <td>object</td>\n",
       "      <td>8555</td>\n",
       "      <td>16.75</td>\n",
       "      <td>243</td>\n",
       "      <td>[Mountain Air Express Inc, Avianca  ]</td>\n",
       "    </tr>\n",
       "    <tr>\n",
       "      <td>6</td>\n",
       "      <td>Claim Type</td>\n",
       "      <td>object</td>\n",
       "      <td>1960</td>\n",
       "      <td>3.84</td>\n",
       "      <td>8</td>\n",
       "      <td>[Personal Injury, Employee Loss (MPCECA)]</td>\n",
       "    </tr>\n",
       "    <tr>\n",
       "      <td>7</td>\n",
       "      <td>Claim Site</td>\n",
       "      <td>object</td>\n",
       "      <td>190</td>\n",
       "      <td>0.37</td>\n",
       "      <td>6</td>\n",
       "      <td>[-, Other]</td>\n",
       "    </tr>\n",
       "    <tr>\n",
       "      <td>8</td>\n",
       "      <td>Item</td>\n",
       "      <td>object</td>\n",
       "      <td>1012</td>\n",
       "      <td>1.98</td>\n",
       "      <td>1854</td>\n",
       "      <td>[Clothing; Jewelry &amp; Watches; Jewelry &amp; Watche...</td>\n",
       "    </tr>\n",
       "    <tr>\n",
       "      <td>9</td>\n",
       "      <td>Claim Amount</td>\n",
       "      <td>object</td>\n",
       "      <td>992</td>\n",
       "      <td>1.94</td>\n",
       "      <td>13248</td>\n",
       "      <td>[$2;259.62 , $86.87 ]</td>\n",
       "    </tr>\n",
       "    <tr>\n",
       "      <td>10</td>\n",
       "      <td>Status</td>\n",
       "      <td>object</td>\n",
       "      <td>1</td>\n",
       "      <td>0.00</td>\n",
       "      <td>13</td>\n",
       "      <td>[Settle, Insufficient; one of the following it...</td>\n",
       "    </tr>\n",
       "    <tr>\n",
       "      <td>11</td>\n",
       "      <td>Close Amount</td>\n",
       "      <td>object</td>\n",
       "      <td>17280</td>\n",
       "      <td>33.84</td>\n",
       "      <td>6009</td>\n",
       "      <td>[$23.71 , $288.14 ]</td>\n",
       "    </tr>\n",
       "    <tr>\n",
       "      <td>12</td>\n",
       "      <td>Disposition</td>\n",
       "      <td>object</td>\n",
       "      <td>18220</td>\n",
       "      <td>35.68</td>\n",
       "      <td>3</td>\n",
       "      <td>[nan, Settle]</td>\n",
       "    </tr>\n",
       "  </tbody>\n",
       "</table>\n",
       "</div>"
      ],
      "text/plain": [
       "     dataFeatures dataType   null  nullPct  unique  \\\n",
       "0    Claim Number   object      0     0.00   51065   \n",
       "1   Date Received   object     70     0.14    3522   \n",
       "2   Incident Date   object    570     1.12   10788   \n",
       "3    Airport Code   object   2052     4.02     405   \n",
       "4    Airport Name   object   2052     4.02     419   \n",
       "5    Airline Name   object   8555    16.75     243   \n",
       "6      Claim Type   object   1960     3.84       8   \n",
       "7      Claim Site   object    190     0.37       6   \n",
       "8            Item   object   1012     1.98    1854   \n",
       "9    Claim Amount   object    992     1.94   13248   \n",
       "10         Status   object      1     0.00      13   \n",
       "11   Close Amount   object  17280    33.84    6009   \n",
       "12    Disposition   object  18220    35.68       3   \n",
       "\n",
       "                                         uniqueSample  \n",
       "0                      [2010020468303, 2010113078348]  \n",
       "1                              [12-Jul-06, 24-Mar-05]  \n",
       "2                    [1/11/2007 0:00, 2/21/2006 0:00]  \n",
       "3                                          [ORD, IMT]  \n",
       "4   [San Luis Obispo, Phoenix Sky Harbor Internati...  \n",
       "5               [Mountain Air Express Inc, Avianca  ]  \n",
       "6           [Personal Injury, Employee Loss (MPCECA)]  \n",
       "7                                          [-, Other]  \n",
       "8   [Clothing; Jewelry & Watches; Jewelry & Watche...  \n",
       "9                               [$2;259.62 , $86.87 ]  \n",
       "10  [Settle, Insufficient; one of the following it...  \n",
       "11                                [$23.71 , $288.14 ]  \n",
       "12                                      [nan, Settle]  "
      ]
     },
     "execution_count": 361,
     "metadata": {},
     "output_type": "execute_result"
    }
   ],
   "source": [
    "tsadesc = []\n",
    "for i in tsa.columns:\n",
    "    tsadesc.append([i, \n",
    "                      tsa[i].dtypes, \n",
    "                      tsa[i].isna().sum(), \n",
    "                      round((((tsa[i].isna().sum())/(len(tsa)))*100),2), \n",
    "                      tsa[i].nunique(),\n",
    "                      tsa[i].drop_duplicates().sample(2).values])\n",
    "    \n",
    "pd.DataFrame(tsadesc, columns = ['dataFeatures', 'dataType', 'null', 'nullPct', 'unique', 'uniqueSample'])"
   ]
  },
  {
   "cell_type": "markdown",
   "metadata": {},
   "source": [
    "If you notice, there is '-' value that become a filler for an empty value. Replace all these '-' in every column into NaN object (np.nan) "
   ]
  },
  {
   "cell_type": "code",
   "execution_count": 362,
   "metadata": {},
   "outputs": [],
   "source": [
    "tsa['Airport Code'].replace('-', np.nan, inplace=True)\n",
    "tsa['Airport Name'].replace('-', np.nan, inplace=True)\n",
    "tsa['Airline Name'].replace('-', np.nan, inplace=True)\n",
    "tsa['Claim Type'].replace('-', np.nan, inplace=True)\n",
    "tsa['Claim Site'].replace('-', np.nan, inplace=True)\n",
    "tsa['Item'].replace('-', np.nan, inplace=True)\n",
    "tsa['Claim Amount'].replace('-', np.nan, inplace=True)\n",
    "tsa['Status'].replace('-', np.nan, inplace=True)"
   ]
  },
  {
   "cell_type": "markdown",
   "metadata": {},
   "source": [
    "Try to convert the Date Received and Incident Date data type into Datetime object. For the Incident Date columns, if you directly try to convert the column into datetime object it would raise an error notice. In that case, try to show the dataframe with the Incident Date column contain all the error.  "
   ]
  },
  {
   "cell_type": "code",
   "execution_count": 363,
   "metadata": {},
   "outputs": [],
   "source": [
    "tsa['Date Received'] = pd.to_datetime(tsa['Date Received'])"
   ]
  },
  {
   "cell_type": "code",
   "execution_count": 364,
   "metadata": {},
   "outputs": [],
   "source": [
    "erroridx = []\n",
    "for i in range(len(tsa)):\n",
    "    if len(str(tsa['Incident Date'][i])) == 17:\n",
    "        if str(tsa['Incident Date'][i])[7:10] == '020' or str(tsa['Incident Date'][i])[7:10] == '000':\n",
    "            erroridx.append(i)"
   ]
  },
  {
   "cell_type": "code",
   "execution_count": 365,
   "metadata": {},
   "outputs": [],
   "source": [
    "error = tsa.iloc[erroridx , :]"
   ]
  },
  {
   "cell_type": "code",
   "execution_count": 366,
   "metadata": {},
   "outputs": [
    {
     "data": {
      "text/html": [
       "<div>\n",
       "<style scoped>\n",
       "    .dataframe tbody tr th:only-of-type {\n",
       "        vertical-align: middle;\n",
       "    }\n",
       "\n",
       "    .dataframe tbody tr th {\n",
       "        vertical-align: top;\n",
       "    }\n",
       "\n",
       "    .dataframe thead th {\n",
       "        text-align: right;\n",
       "    }\n",
       "</style>\n",
       "<table border=\"1\" class=\"dataframe\">\n",
       "  <thead>\n",
       "    <tr style=\"text-align: right;\">\n",
       "      <th></th>\n",
       "      <th>Claim Number</th>\n",
       "      <th>Date Received</th>\n",
       "      <th>Incident Date</th>\n",
       "      <th>Airport Code</th>\n",
       "      <th>Airport Name</th>\n",
       "      <th>Airline Name</th>\n",
       "      <th>Claim Type</th>\n",
       "      <th>Claim Site</th>\n",
       "      <th>Item</th>\n",
       "      <th>Claim Amount</th>\n",
       "      <th>Status</th>\n",
       "      <th>Close Amount</th>\n",
       "      <th>Disposition</th>\n",
       "    </tr>\n",
       "  </thead>\n",
       "  <tbody>\n",
       "    <tr>\n",
       "      <td>13729</td>\n",
       "      <td>2005021676300</td>\n",
       "      <td>2005-01-24</td>\n",
       "      <td>17-MAY-0200 00:00</td>\n",
       "      <td>JFK</td>\n",
       "      <td>John F. Kennedy International</td>\n",
       "      <td>NaN</td>\n",
       "      <td>Passenger Property Loss</td>\n",
       "      <td>Checkpoint</td>\n",
       "      <td>Other</td>\n",
       "      <td>$15.00</td>\n",
       "      <td>Approved</td>\n",
       "      <td>$15.00</td>\n",
       "      <td>Approve in Full</td>\n",
       "    </tr>\n",
       "    <tr>\n",
       "      <td>14323</td>\n",
       "      <td>2005031778682</td>\n",
       "      <td>2005-02-23</td>\n",
       "      <td>17-FEB-0205 00:00</td>\n",
       "      <td>MSY</td>\n",
       "      <td>New Orleans International</td>\n",
       "      <td>UAL</td>\n",
       "      <td>Passenger Property Loss</td>\n",
       "      <td>Checked Baggage</td>\n",
       "      <td>Computer - Laptop</td>\n",
       "      <td>$2;463.00</td>\n",
       "      <td>Denied</td>\n",
       "      <td>NaN</td>\n",
       "      <td>Deny</td>\n",
       "    </tr>\n",
       "    <tr>\n",
       "      <td>14856</td>\n",
       "      <td>2005033180821</td>\n",
       "      <td>2005-03-23</td>\n",
       "      <td>07-MAR-0005 00:00</td>\n",
       "      <td>CVG</td>\n",
       "      <td>Cincinnati/Northern Kentucky International</td>\n",
       "      <td>Delta Air Lines</td>\n",
       "      <td>Passenger Property Loss</td>\n",
       "      <td>Checked Baggage</td>\n",
       "      <td>Cameras - Digital</td>\n",
       "      <td>$430.98</td>\n",
       "      <td>Approved</td>\n",
       "      <td>$430.98</td>\n",
       "      <td>Approve in Full</td>\n",
       "    </tr>\n",
       "    <tr>\n",
       "      <td>14976</td>\n",
       "      <td>2005040181143</td>\n",
       "      <td>2005-03-29</td>\n",
       "      <td>04-MAR-0205 00:00</td>\n",
       "      <td>MSP</td>\n",
       "      <td>Minneapolis/ St.Paul International Airport</td>\n",
       "      <td>Northwest Airlines</td>\n",
       "      <td>Passenger Property Loss</td>\n",
       "      <td>Checked Baggage</td>\n",
       "      <td>Jewelry - Fine</td>\n",
       "      <td>$151.00</td>\n",
       "      <td>Insufficient; one of the following items requi...</td>\n",
       "      <td>NaN</td>\n",
       "      <td>NaN</td>\n",
       "    </tr>\n",
       "    <tr>\n",
       "      <td>14995</td>\n",
       "      <td>2005040581540</td>\n",
       "      <td>2005-03-30</td>\n",
       "      <td>18-MAR-0200 00:00</td>\n",
       "      <td>MAF</td>\n",
       "      <td>Midland International Airport</td>\n",
       "      <td>Continental Express Inc</td>\n",
       "      <td>Passenger Property Loss</td>\n",
       "      <td>Checked Baggage</td>\n",
       "      <td>Locks</td>\n",
       "      <td>$10.60</td>\n",
       "      <td>Approved</td>\n",
       "      <td>$10.60</td>\n",
       "      <td>Approve in Full</td>\n",
       "    </tr>\n",
       "    <tr>\n",
       "      <td>15278</td>\n",
       "      <td>2005041282328</td>\n",
       "      <td>2005-04-12</td>\n",
       "      <td>12-MAR-0205 00:00</td>\n",
       "      <td>MSP</td>\n",
       "      <td>Minneapolis/ St.Paul International Airport</td>\n",
       "      <td>Northwest Airlines</td>\n",
       "      <td>Property Damage</td>\n",
       "      <td>Checked Baggage</td>\n",
       "      <td>Clothing - Shoes; belts; accessories; etc.</td>\n",
       "      <td>$710.00</td>\n",
       "      <td>Denied</td>\n",
       "      <td>$0.00</td>\n",
       "      <td>Deny</td>\n",
       "    </tr>\n",
       "    <tr>\n",
       "      <td>15934</td>\n",
       "      <td>2005051985030</td>\n",
       "      <td>2005-05-17</td>\n",
       "      <td>01-MAY-0205 00:00</td>\n",
       "      <td>NaN</td>\n",
       "      <td>NaN</td>\n",
       "      <td>NaN</td>\n",
       "      <td>Passenger Property Loss</td>\n",
       "      <td>Checked Baggage</td>\n",
       "      <td>Jewelry - Fine</td>\n",
       "      <td>$197.73</td>\n",
       "      <td>Insufficient; one of the following items requi...</td>\n",
       "      <td>NaN</td>\n",
       "      <td>NaN</td>\n",
       "    </tr>\n",
       "    <tr>\n",
       "      <td>16813</td>\n",
       "      <td>2005071188622</td>\n",
       "      <td>2005-07-08</td>\n",
       "      <td>01-JUL-0200 00:00</td>\n",
       "      <td>HDN</td>\n",
       "      <td>Yampa Valley Regional</td>\n",
       "      <td>NaN</td>\n",
       "      <td>Passenger Property Loss</td>\n",
       "      <td>Checked Baggage</td>\n",
       "      <td>Clothing - Shoes; belts; accessories; etc.</td>\n",
       "      <td>$300.00</td>\n",
       "      <td>Denied</td>\n",
       "      <td>$0.00</td>\n",
       "      <td>Deny</td>\n",
       "    </tr>\n",
       "    <tr>\n",
       "      <td>17198</td>\n",
       "      <td>2005091492472</td>\n",
       "      <td>2005-08-01</td>\n",
       "      <td>01-MAY-0205 00:00</td>\n",
       "      <td>IAH</td>\n",
       "      <td>Houston - George Bush Intercontinental Airport</td>\n",
       "      <td>UAL</td>\n",
       "      <td>Passenger Property Loss</td>\n",
       "      <td>Checked Baggage</td>\n",
       "      <td>Other</td>\n",
       "      <td>$2;000.72</td>\n",
       "      <td>Denied</td>\n",
       "      <td>$0.00</td>\n",
       "      <td>Deny</td>\n",
       "    </tr>\n",
       "    <tr>\n",
       "      <td>19151</td>\n",
       "      <td>2005121397614</td>\n",
       "      <td>2005-12-08</td>\n",
       "      <td>20-NOV-0205 00:00</td>\n",
       "      <td>LNK</td>\n",
       "      <td>Lincoln Municipal</td>\n",
       "      <td>Northwest Airlines</td>\n",
       "      <td>Passenger Property Loss</td>\n",
       "      <td>Checked Baggage</td>\n",
       "      <td>Locks</td>\n",
       "      <td>$15.00</td>\n",
       "      <td>Approved</td>\n",
       "      <td>$15.00</td>\n",
       "      <td>Approve in Full</td>\n",
       "    </tr>\n",
       "    <tr>\n",
       "      <td>21528</td>\n",
       "      <td>2006060207211</td>\n",
       "      <td>2006-05-30</td>\n",
       "      <td>26-MAY-0200 00:00</td>\n",
       "      <td>JFK</td>\n",
       "      <td>John F. Kennedy International</td>\n",
       "      <td>Air France</td>\n",
       "      <td>Passenger Property Loss</td>\n",
       "      <td>Checked Baggage</td>\n",
       "      <td>Cosmetics - Perfume; toilet articles; medicine...</td>\n",
       "      <td>$821.56</td>\n",
       "      <td>Settled</td>\n",
       "      <td>$261.72</td>\n",
       "      <td>Settle</td>\n",
       "    </tr>\n",
       "    <tr>\n",
       "      <td>22161</td>\n",
       "      <td>2006072610104</td>\n",
       "      <td>2006-07-14</td>\n",
       "      <td>25-OCT-0200 00:00</td>\n",
       "      <td>MEM</td>\n",
       "      <td>Memphis International Airport</td>\n",
       "      <td>Northwest Airlines</td>\n",
       "      <td>Passenger Property Loss</td>\n",
       "      <td>Checked Baggage</td>\n",
       "      <td>Cell Phones</td>\n",
       "      <td>$35.00</td>\n",
       "      <td>Denied</td>\n",
       "      <td>$0.00</td>\n",
       "      <td>Deny</td>\n",
       "    </tr>\n",
       "    <tr>\n",
       "      <td>23232</td>\n",
       "      <td>2006101213887</td>\n",
       "      <td>2006-10-11</td>\n",
       "      <td>27-SEP-0206 00:00</td>\n",
       "      <td>JFK</td>\n",
       "      <td>John F. Kennedy International</td>\n",
       "      <td>Continental Airlines</td>\n",
       "      <td>Passenger Property Loss</td>\n",
       "      <td>Checkpoint</td>\n",
       "      <td>Other</td>\n",
       "      <td>$25.49</td>\n",
       "      <td>Approved</td>\n",
       "      <td>$25.49</td>\n",
       "      <td>Approve in Full</td>\n",
       "    </tr>\n",
       "    <tr>\n",
       "      <td>24355</td>\n",
       "      <td>2007010418246</td>\n",
       "      <td>2007-01-03</td>\n",
       "      <td>03-NOV-0206 00:00</td>\n",
       "      <td>OMA</td>\n",
       "      <td>Eppley Airfield</td>\n",
       "      <td>Skywest Airlines Inc USA</td>\n",
       "      <td>Passenger Property Loss</td>\n",
       "      <td>Checked Baggage</td>\n",
       "      <td>Jewelry - Costume</td>\n",
       "      <td>$135.00</td>\n",
       "      <td>Denied</td>\n",
       "      <td>$0.00</td>\n",
       "      <td>Deny</td>\n",
       "    </tr>\n",
       "    <tr>\n",
       "      <td>24525</td>\n",
       "      <td>2007011718892</td>\n",
       "      <td>2007-01-10</td>\n",
       "      <td>12-AUG-0201 00:00</td>\n",
       "      <td>JFK</td>\n",
       "      <td>John F. Kennedy International</td>\n",
       "      <td>Jet Blue</td>\n",
       "      <td>Passenger Property Loss</td>\n",
       "      <td>Checked Baggage</td>\n",
       "      <td>Video Recordings (blank &amp; commercial)</td>\n",
       "      <td>$317.64</td>\n",
       "      <td>Settled</td>\n",
       "      <td>$158.82</td>\n",
       "      <td>Settle</td>\n",
       "    </tr>\n",
       "    <tr>\n",
       "      <td>24768</td>\n",
       "      <td>2007013119947</td>\n",
       "      <td>2007-01-26</td>\n",
       "      <td>19-DEC-0206 00:00</td>\n",
       "      <td>PHX</td>\n",
       "      <td>Phoenix Sky Harbor International</td>\n",
       "      <td>Northwest Airlines</td>\n",
       "      <td>Property Damage</td>\n",
       "      <td>Checked Baggage</td>\n",
       "      <td>Other</td>\n",
       "      <td>$90.00</td>\n",
       "      <td>Denied</td>\n",
       "      <td>$0.00</td>\n",
       "      <td>Deny</td>\n",
       "    </tr>\n",
       "    <tr>\n",
       "      <td>24903</td>\n",
       "      <td>2007020620372</td>\n",
       "      <td>2007-02-05</td>\n",
       "      <td>13-JAN-0207 00:00</td>\n",
       "      <td>JFK</td>\n",
       "      <td>John F. Kennedy International</td>\n",
       "      <td>Jet Blue</td>\n",
       "      <td>Passenger Property Loss</td>\n",
       "      <td>Checked Baggage</td>\n",
       "      <td>Computer - Laptop</td>\n",
       "      <td>$1;503.35</td>\n",
       "      <td>Settled</td>\n",
       "      <td>$208.47</td>\n",
       "      <td>Settle</td>\n",
       "    </tr>\n",
       "    <tr>\n",
       "      <td>25249</td>\n",
       "      <td>2007031222075</td>\n",
       "      <td>2007-03-06</td>\n",
       "      <td>18-FEB-0207 00:00</td>\n",
       "      <td>SEA</td>\n",
       "      <td>Seattle-Tacoma International</td>\n",
       "      <td>Delta Air Lines</td>\n",
       "      <td>Passenger Property Loss</td>\n",
       "      <td>Checked Baggage</td>\n",
       "      <td>Clothing - Shoes; belts; accessories; etc.; Other</td>\n",
       "      <td>$190.00</td>\n",
       "      <td>Denied</td>\n",
       "      <td>$0.00</td>\n",
       "      <td>Deny</td>\n",
       "    </tr>\n",
       "    <tr>\n",
       "      <td>25705</td>\n",
       "      <td>2007041323942</td>\n",
       "      <td>2007-04-10</td>\n",
       "      <td>07-APR-0200 00:00</td>\n",
       "      <td>IAD</td>\n",
       "      <td>Washington Dulles International</td>\n",
       "      <td>UAL</td>\n",
       "      <td>Passenger Property Loss</td>\n",
       "      <td>Checked Baggage</td>\n",
       "      <td>Cameras - Digital; Other</td>\n",
       "      <td>$470.06</td>\n",
       "      <td>Settled</td>\n",
       "      <td>$198.09</td>\n",
       "      <td>Settle</td>\n",
       "    </tr>\n",
       "    <tr>\n",
       "      <td>25734</td>\n",
       "      <td>2007041323952</td>\n",
       "      <td>2007-04-12</td>\n",
       "      <td>29-JAN-0200 00:00</td>\n",
       "      <td>SAN</td>\n",
       "      <td>San Diego International</td>\n",
       "      <td>Southwest Airlines</td>\n",
       "      <td>Passenger Property Loss</td>\n",
       "      <td>Checked Baggage</td>\n",
       "      <td>MP3 Players-(iPods; etc)</td>\n",
       "      <td>$250.00</td>\n",
       "      <td>Denied</td>\n",
       "      <td>$0.00</td>\n",
       "      <td>Deny</td>\n",
       "    </tr>\n",
       "    <tr>\n",
       "      <td>26129</td>\n",
       "      <td>2007051825607</td>\n",
       "      <td>2007-05-16</td>\n",
       "      <td>06-MAR-0207 00:00</td>\n",
       "      <td>BPT</td>\n",
       "      <td>Southeast Texas Regional</td>\n",
       "      <td>Continental Airlines</td>\n",
       "      <td>Passenger Property Loss</td>\n",
       "      <td>Checked Baggage</td>\n",
       "      <td>Cameras - Digital; Cameras - Non-electronic (C...</td>\n",
       "      <td>$1;400.25</td>\n",
       "      <td>Denied</td>\n",
       "      <td>$0.00</td>\n",
       "      <td>Deny</td>\n",
       "    </tr>\n",
       "    <tr>\n",
       "      <td>26530</td>\n",
       "      <td>2007062127333</td>\n",
       "      <td>2007-06-19</td>\n",
       "      <td>20-MAY-0207 00:00</td>\n",
       "      <td>FLL</td>\n",
       "      <td>Ft. Lauderdale-Hollywood International</td>\n",
       "      <td>Delta Air Lines</td>\n",
       "      <td>Passenger Property Loss</td>\n",
       "      <td>Checked Baggage</td>\n",
       "      <td>Cosmetics - Perfume; toilet articles; medicine...</td>\n",
       "      <td>$10.00</td>\n",
       "      <td>Approved</td>\n",
       "      <td>$10.00</td>\n",
       "      <td>Approve in Full</td>\n",
       "    </tr>\n",
       "    <tr>\n",
       "      <td>27086</td>\n",
       "      <td>2007073129436</td>\n",
       "      <td>2007-07-31</td>\n",
       "      <td>13-JUL-0207 00:00</td>\n",
       "      <td>IND</td>\n",
       "      <td>Indianapolis International</td>\n",
       "      <td>Northwest Airlines</td>\n",
       "      <td>Property Damage</td>\n",
       "      <td>Checked Baggage</td>\n",
       "      <td>Baskets - Wicker or plastic</td>\n",
       "      <td>$15.00</td>\n",
       "      <td>Denied</td>\n",
       "      <td>$0.00</td>\n",
       "      <td>Deny</td>\n",
       "    </tr>\n",
       "    <tr>\n",
       "      <td>27481</td>\n",
       "      <td>2007083131244</td>\n",
       "      <td>2007-08-28</td>\n",
       "      <td>09-JUL-0200 00:00</td>\n",
       "      <td>MSP</td>\n",
       "      <td>Minneapolis/ St.Paul International Airport</td>\n",
       "      <td>Northwest Airlines</td>\n",
       "      <td>Property Damage</td>\n",
       "      <td>Checked Baggage</td>\n",
       "      <td>Luggage (all types including footlockers)</td>\n",
       "      <td>$185.00</td>\n",
       "      <td>Settled</td>\n",
       "      <td>$50.00</td>\n",
       "      <td>Settle</td>\n",
       "    </tr>\n",
       "    <tr>\n",
       "      <td>27628</td>\n",
       "      <td>2007091431890</td>\n",
       "      <td>2007-09-10</td>\n",
       "      <td>02-MAR-0208 00:00</td>\n",
       "      <td>MDW</td>\n",
       "      <td>Midway International Airport</td>\n",
       "      <td>Southwest Airlines</td>\n",
       "      <td>Property Damage</td>\n",
       "      <td>Checked Baggage</td>\n",
       "      <td>Clothing - Shoes; belts; accessories; etc.; Pa...</td>\n",
       "      <td>$250.00</td>\n",
       "      <td>Denied</td>\n",
       "      <td>$0.00</td>\n",
       "      <td>Deny</td>\n",
       "    </tr>\n",
       "    <tr>\n",
       "      <td>27819</td>\n",
       "      <td>2007092732635</td>\n",
       "      <td>2007-09-24</td>\n",
       "      <td>17-SEP-0007 00:00</td>\n",
       "      <td>DTW</td>\n",
       "      <td>Detroit Metropolitan Wayne County Airport</td>\n",
       "      <td>Northwest Airlines</td>\n",
       "      <td>Passenger Property Loss</td>\n",
       "      <td>Checked Baggage</td>\n",
       "      <td>Currency</td>\n",
       "      <td>$420.00</td>\n",
       "      <td>Denied</td>\n",
       "      <td>$0.00</td>\n",
       "      <td>Deny</td>\n",
       "    </tr>\n",
       "    <tr>\n",
       "      <td>27901</td>\n",
       "      <td>2007100533098</td>\n",
       "      <td>2007-10-02</td>\n",
       "      <td>22-MAY-0200 00:00</td>\n",
       "      <td>RSW</td>\n",
       "      <td>Southwest Florida International</td>\n",
       "      <td>Delta Air Lines</td>\n",
       "      <td>Passenger Property Loss</td>\n",
       "      <td>Checked Baggage</td>\n",
       "      <td>Currency</td>\n",
       "      <td>$100.00</td>\n",
       "      <td>Denied</td>\n",
       "      <td>$0.00</td>\n",
       "      <td>Deny</td>\n",
       "    </tr>\n",
       "    <tr>\n",
       "      <td>28031</td>\n",
       "      <td>2007101733560</td>\n",
       "      <td>2007-10-12</td>\n",
       "      <td>28-SEP-0207 00:00</td>\n",
       "      <td>ATL</td>\n",
       "      <td>Hartsfield-Jackson Atlanta International Airport</td>\n",
       "      <td>Delta Air Lines</td>\n",
       "      <td>Passenger Property Loss</td>\n",
       "      <td>Checked Baggage</td>\n",
       "      <td>Cosmetics - Perfume; toilet articles; medicine...</td>\n",
       "      <td>$109.99</td>\n",
       "      <td>Denied</td>\n",
       "      <td>$0.00</td>\n",
       "      <td>Deny</td>\n",
       "    </tr>\n",
       "    <tr>\n",
       "      <td>28037</td>\n",
       "      <td>2007101833587</td>\n",
       "      <td>2007-10-12</td>\n",
       "      <td>04-SEP-0207 00:00</td>\n",
       "      <td>MIA</td>\n",
       "      <td>Miami International Airport</td>\n",
       "      <td>American Airlines</td>\n",
       "      <td>Passenger Property Loss</td>\n",
       "      <td>Checked Baggage</td>\n",
       "      <td>Other</td>\n",
       "      <td>$69.95</td>\n",
       "      <td>Denied</td>\n",
       "      <td>$0.00</td>\n",
       "      <td>Deny</td>\n",
       "    </tr>\n",
       "    <tr>\n",
       "      <td>29065</td>\n",
       "      <td>2008011437819</td>\n",
       "      <td>2008-01-07</td>\n",
       "      <td>30-NOV-0002 00:00</td>\n",
       "      <td>RAP</td>\n",
       "      <td>Rapid City Regional</td>\n",
       "      <td>Northwest Airlines</td>\n",
       "      <td>Passenger Property Loss</td>\n",
       "      <td>Checked Baggage</td>\n",
       "      <td>Clothing - Shoes; belts; accessories; etc.; Lu...</td>\n",
       "      <td>$200.00</td>\n",
       "      <td>Denied</td>\n",
       "      <td>$0.00</td>\n",
       "      <td>Deny</td>\n",
       "    </tr>\n",
       "    <tr>\n",
       "      <td>29652</td>\n",
       "      <td>2008022840321</td>\n",
       "      <td>2008-02-22</td>\n",
       "      <td>08-FEB-0208 00:00</td>\n",
       "      <td>AVL</td>\n",
       "      <td>Asheville Regional Airport</td>\n",
       "      <td>Delta Air Lines</td>\n",
       "      <td>Property Damage</td>\n",
       "      <td>Checked Baggage</td>\n",
       "      <td>Mirrors (including frames)</td>\n",
       "      <td>$21.93</td>\n",
       "      <td>Denied</td>\n",
       "      <td>$0.00</td>\n",
       "      <td>Deny</td>\n",
       "    </tr>\n",
       "    <tr>\n",
       "      <td>31140</td>\n",
       "      <td>2008062646202</td>\n",
       "      <td>2008-06-23</td>\n",
       "      <td>29-JAN-0208 00:00</td>\n",
       "      <td>MIA</td>\n",
       "      <td>Miami International Airport</td>\n",
       "      <td>American Airlines</td>\n",
       "      <td>Property Damage</td>\n",
       "      <td>Checked Baggage</td>\n",
       "      <td>Locks</td>\n",
       "      <td>$5.98</td>\n",
       "      <td>Denied</td>\n",
       "      <td>$0.00</td>\n",
       "      <td>Deny</td>\n",
       "    </tr>\n",
       "    <tr>\n",
       "      <td>31570</td>\n",
       "      <td>2008080548050</td>\n",
       "      <td>2008-07-31</td>\n",
       "      <td>30-JUL-0208 00:00</td>\n",
       "      <td>HOU</td>\n",
       "      <td>William P. Hobby</td>\n",
       "      <td>Continental Airlines</td>\n",
       "      <td>Passenger Property Loss</td>\n",
       "      <td>Checked Baggage</td>\n",
       "      <td>Locks</td>\n",
       "      <td>$16.00</td>\n",
       "      <td>Denied</td>\n",
       "      <td>$0.00</td>\n",
       "      <td>Deny</td>\n",
       "    </tr>\n",
       "    <tr>\n",
       "      <td>31590</td>\n",
       "      <td>2008081148331</td>\n",
       "      <td>2008-08-01</td>\n",
       "      <td>13-JUL-0200 00:00</td>\n",
       "      <td>ATL</td>\n",
       "      <td>Hartsfield-Jackson Atlanta International Airport</td>\n",
       "      <td>Delta Air Lines</td>\n",
       "      <td>Passenger Property Loss</td>\n",
       "      <td>Checked Baggage</td>\n",
       "      <td>Cosmetics - Perfume; toilet articles; medicine...</td>\n",
       "      <td>$40.00</td>\n",
       "      <td>Denied</td>\n",
       "      <td>$0.00</td>\n",
       "      <td>Deny</td>\n",
       "    </tr>\n",
       "    <tr>\n",
       "      <td>31771</td>\n",
       "      <td>2008081948782</td>\n",
       "      <td>2008-08-19</td>\n",
       "      <td>23-JUL-0208 00:00</td>\n",
       "      <td>FLL</td>\n",
       "      <td>Ft. Lauderdale-Hollywood International</td>\n",
       "      <td>Jet Blue</td>\n",
       "      <td>Passenger Property Loss</td>\n",
       "      <td>Checked Baggage</td>\n",
       "      <td>Computer - Laptop; GPS - Global Positioning Sy...</td>\n",
       "      <td>$3;379.00</td>\n",
       "      <td>Denied</td>\n",
       "      <td>$0.00</td>\n",
       "      <td>Deny</td>\n",
       "    </tr>\n",
       "    <tr>\n",
       "      <td>33613</td>\n",
       "      <td>2009032056617</td>\n",
       "      <td>2009-03-04</td>\n",
       "      <td>18-JAN-0200 00:00</td>\n",
       "      <td>FLL</td>\n",
       "      <td>Ft. Lauderdale-Hollywood International</td>\n",
       "      <td>American Airlines</td>\n",
       "      <td>Property Damage</td>\n",
       "      <td>Checkpoint</td>\n",
       "      <td>Eyeglasses - (including contact lenses)</td>\n",
       "      <td>$469.00</td>\n",
       "      <td>Denied</td>\n",
       "      <td>$0.00</td>\n",
       "      <td>Deny</td>\n",
       "    </tr>\n",
       "  </tbody>\n",
       "</table>\n",
       "</div>"
      ],
      "text/plain": [
       "        Claim Number Date Received      Incident Date Airport Code  \\\n",
       "13729  2005021676300    2005-01-24  17-MAY-0200 00:00          JFK   \n",
       "14323  2005031778682    2005-02-23  17-FEB-0205 00:00          MSY   \n",
       "14856  2005033180821    2005-03-23  07-MAR-0005 00:00          CVG   \n",
       "14976  2005040181143    2005-03-29  04-MAR-0205 00:00          MSP   \n",
       "14995  2005040581540    2005-03-30  18-MAR-0200 00:00          MAF   \n",
       "15278  2005041282328    2005-04-12  12-MAR-0205 00:00          MSP   \n",
       "15934  2005051985030    2005-05-17  01-MAY-0205 00:00          NaN   \n",
       "16813  2005071188622    2005-07-08  01-JUL-0200 00:00          HDN   \n",
       "17198  2005091492472    2005-08-01  01-MAY-0205 00:00          IAH   \n",
       "19151  2005121397614    2005-12-08  20-NOV-0205 00:00          LNK   \n",
       "21528  2006060207211    2006-05-30  26-MAY-0200 00:00          JFK   \n",
       "22161  2006072610104    2006-07-14  25-OCT-0200 00:00          MEM   \n",
       "23232  2006101213887    2006-10-11  27-SEP-0206 00:00          JFK   \n",
       "24355  2007010418246    2007-01-03  03-NOV-0206 00:00          OMA   \n",
       "24525  2007011718892    2007-01-10  12-AUG-0201 00:00          JFK   \n",
       "24768  2007013119947    2007-01-26  19-DEC-0206 00:00          PHX   \n",
       "24903  2007020620372    2007-02-05  13-JAN-0207 00:00          JFK   \n",
       "25249  2007031222075    2007-03-06  18-FEB-0207 00:00          SEA   \n",
       "25705  2007041323942    2007-04-10  07-APR-0200 00:00          IAD   \n",
       "25734  2007041323952    2007-04-12  29-JAN-0200 00:00          SAN   \n",
       "26129  2007051825607    2007-05-16  06-MAR-0207 00:00          BPT   \n",
       "26530  2007062127333    2007-06-19  20-MAY-0207 00:00          FLL   \n",
       "27086  2007073129436    2007-07-31  13-JUL-0207 00:00          IND   \n",
       "27481  2007083131244    2007-08-28  09-JUL-0200 00:00          MSP   \n",
       "27628  2007091431890    2007-09-10  02-MAR-0208 00:00          MDW   \n",
       "27819  2007092732635    2007-09-24  17-SEP-0007 00:00          DTW   \n",
       "27901  2007100533098    2007-10-02  22-MAY-0200 00:00          RSW   \n",
       "28031  2007101733560    2007-10-12  28-SEP-0207 00:00          ATL   \n",
       "28037  2007101833587    2007-10-12  04-SEP-0207 00:00          MIA   \n",
       "29065  2008011437819    2008-01-07  30-NOV-0002 00:00          RAP   \n",
       "29652  2008022840321    2008-02-22  08-FEB-0208 00:00          AVL   \n",
       "31140  2008062646202    2008-06-23  29-JAN-0208 00:00          MIA   \n",
       "31570  2008080548050    2008-07-31  30-JUL-0208 00:00          HOU   \n",
       "31590  2008081148331    2008-08-01  13-JUL-0200 00:00          ATL   \n",
       "31771  2008081948782    2008-08-19  23-JUL-0208 00:00          FLL   \n",
       "33613  2009032056617    2009-03-04  18-JAN-0200 00:00          FLL   \n",
       "\n",
       "                                           Airport Name  \\\n",
       "13729                     John F. Kennedy International   \n",
       "14323                         New Orleans International   \n",
       "14856        Cincinnati/Northern Kentucky International   \n",
       "14976        Minneapolis/ St.Paul International Airport   \n",
       "14995                     Midland International Airport   \n",
       "15278        Minneapolis/ St.Paul International Airport   \n",
       "15934                                               NaN   \n",
       "16813                             Yampa Valley Regional   \n",
       "17198    Houston - George Bush Intercontinental Airport   \n",
       "19151                                 Lincoln Municipal   \n",
       "21528                     John F. Kennedy International   \n",
       "22161                     Memphis International Airport   \n",
       "23232                     John F. Kennedy International   \n",
       "24355                                   Eppley Airfield   \n",
       "24525                     John F. Kennedy International   \n",
       "24768                  Phoenix Sky Harbor International   \n",
       "24903                     John F. Kennedy International   \n",
       "25249                      Seattle-Tacoma International   \n",
       "25705                   Washington Dulles International   \n",
       "25734                           San Diego International   \n",
       "26129                          Southeast Texas Regional   \n",
       "26530            Ft. Lauderdale-Hollywood International   \n",
       "27086                        Indianapolis International   \n",
       "27481        Minneapolis/ St.Paul International Airport   \n",
       "27628                      Midway International Airport   \n",
       "27819         Detroit Metropolitan Wayne County Airport   \n",
       "27901                   Southwest Florida International   \n",
       "28031  Hartsfield-Jackson Atlanta International Airport   \n",
       "28037                       Miami International Airport   \n",
       "29065                               Rapid City Regional   \n",
       "29652                        Asheville Regional Airport   \n",
       "31140                       Miami International Airport   \n",
       "31570                                  William P. Hobby   \n",
       "31590  Hartsfield-Jackson Atlanta International Airport   \n",
       "31771            Ft. Lauderdale-Hollywood International   \n",
       "33613            Ft. Lauderdale-Hollywood International   \n",
       "\n",
       "                   Airline Name               Claim Type       Claim Site  \\\n",
       "13729                       NaN  Passenger Property Loss       Checkpoint   \n",
       "14323                       UAL  Passenger Property Loss  Checked Baggage   \n",
       "14856           Delta Air Lines  Passenger Property Loss  Checked Baggage   \n",
       "14976        Northwest Airlines  Passenger Property Loss  Checked Baggage   \n",
       "14995   Continental Express Inc  Passenger Property Loss  Checked Baggage   \n",
       "15278        Northwest Airlines          Property Damage  Checked Baggage   \n",
       "15934                       NaN  Passenger Property Loss  Checked Baggage   \n",
       "16813                       NaN  Passenger Property Loss  Checked Baggage   \n",
       "17198                       UAL  Passenger Property Loss  Checked Baggage   \n",
       "19151        Northwest Airlines  Passenger Property Loss  Checked Baggage   \n",
       "21528                Air France  Passenger Property Loss  Checked Baggage   \n",
       "22161        Northwest Airlines  Passenger Property Loss  Checked Baggage   \n",
       "23232      Continental Airlines  Passenger Property Loss       Checkpoint   \n",
       "24355  Skywest Airlines Inc USA  Passenger Property Loss  Checked Baggage   \n",
       "24525                  Jet Blue  Passenger Property Loss  Checked Baggage   \n",
       "24768        Northwest Airlines          Property Damage  Checked Baggage   \n",
       "24903                  Jet Blue  Passenger Property Loss  Checked Baggage   \n",
       "25249           Delta Air Lines  Passenger Property Loss  Checked Baggage   \n",
       "25705                       UAL  Passenger Property Loss  Checked Baggage   \n",
       "25734        Southwest Airlines  Passenger Property Loss  Checked Baggage   \n",
       "26129      Continental Airlines  Passenger Property Loss  Checked Baggage   \n",
       "26530           Delta Air Lines  Passenger Property Loss  Checked Baggage   \n",
       "27086        Northwest Airlines          Property Damage  Checked Baggage   \n",
       "27481        Northwest Airlines          Property Damage  Checked Baggage   \n",
       "27628        Southwest Airlines          Property Damage  Checked Baggage   \n",
       "27819        Northwest Airlines  Passenger Property Loss  Checked Baggage   \n",
       "27901           Delta Air Lines  Passenger Property Loss  Checked Baggage   \n",
       "28031           Delta Air Lines  Passenger Property Loss  Checked Baggage   \n",
       "28037         American Airlines  Passenger Property Loss  Checked Baggage   \n",
       "29065        Northwest Airlines  Passenger Property Loss  Checked Baggage   \n",
       "29652           Delta Air Lines          Property Damage  Checked Baggage   \n",
       "31140         American Airlines          Property Damage  Checked Baggage   \n",
       "31570      Continental Airlines  Passenger Property Loss  Checked Baggage   \n",
       "31590           Delta Air Lines  Passenger Property Loss  Checked Baggage   \n",
       "31771                  Jet Blue  Passenger Property Loss  Checked Baggage   \n",
       "33613         American Airlines          Property Damage       Checkpoint   \n",
       "\n",
       "                                                    Item Claim Amount  \\\n",
       "13729                                              Other      $15.00    \n",
       "14323                                  Computer - Laptop   $2;463.00    \n",
       "14856                                  Cameras - Digital     $430.98    \n",
       "14976                                     Jewelry - Fine     $151.00    \n",
       "14995                                              Locks      $10.60    \n",
       "15278         Clothing - Shoes; belts; accessories; etc.     $710.00    \n",
       "15934                                     Jewelry - Fine     $197.73    \n",
       "16813         Clothing - Shoes; belts; accessories; etc.     $300.00    \n",
       "17198                                              Other   $2;000.72    \n",
       "19151                                              Locks      $15.00    \n",
       "21528  Cosmetics - Perfume; toilet articles; medicine...     $821.56    \n",
       "22161                                        Cell Phones      $35.00    \n",
       "23232                                              Other      $25.49    \n",
       "24355                                  Jewelry - Costume     $135.00    \n",
       "24525              Video Recordings (blank & commercial)     $317.64    \n",
       "24768                                              Other      $90.00    \n",
       "24903                                  Computer - Laptop   $1;503.35    \n",
       "25249  Clothing - Shoes; belts; accessories; etc.; Other     $190.00    \n",
       "25705                           Cameras - Digital; Other     $470.06    \n",
       "25734                           MP3 Players-(iPods; etc)     $250.00    \n",
       "26129  Cameras - Digital; Cameras - Non-electronic (C...   $1;400.25    \n",
       "26530  Cosmetics - Perfume; toilet articles; medicine...      $10.00    \n",
       "27086                        Baskets - Wicker or plastic      $15.00    \n",
       "27481          Luggage (all types including footlockers)     $185.00    \n",
       "27628  Clothing - Shoes; belts; accessories; etc.; Pa...     $250.00    \n",
       "27819                                           Currency     $420.00    \n",
       "27901                                           Currency     $100.00    \n",
       "28031  Cosmetics - Perfume; toilet articles; medicine...     $109.99    \n",
       "28037                                              Other      $69.95    \n",
       "29065  Clothing - Shoes; belts; accessories; etc.; Lu...     $200.00    \n",
       "29652                         Mirrors (including frames)      $21.93    \n",
       "31140                                              Locks       $5.98    \n",
       "31570                                              Locks      $16.00    \n",
       "31590  Cosmetics - Perfume; toilet articles; medicine...      $40.00    \n",
       "31771  Computer - Laptop; GPS - Global Positioning Sy...   $3;379.00    \n",
       "33613            Eyeglasses - (including contact lenses)     $469.00    \n",
       "\n",
       "                                                  Status Close Amount  \\\n",
       "13729                                           Approved      $15.00    \n",
       "14323                                             Denied          NaN   \n",
       "14856                                           Approved     $430.98    \n",
       "14976  Insufficient; one of the following items requi...          NaN   \n",
       "14995                                           Approved      $10.60    \n",
       "15278                                             Denied       $0.00    \n",
       "15934  Insufficient; one of the following items requi...          NaN   \n",
       "16813                                             Denied       $0.00    \n",
       "17198                                             Denied       $0.00    \n",
       "19151                                           Approved      $15.00    \n",
       "21528                                            Settled     $261.72    \n",
       "22161                                             Denied       $0.00    \n",
       "23232                                           Approved      $25.49    \n",
       "24355                                             Denied       $0.00    \n",
       "24525                                            Settled     $158.82    \n",
       "24768                                             Denied       $0.00    \n",
       "24903                                            Settled     $208.47    \n",
       "25249                                             Denied       $0.00    \n",
       "25705                                            Settled     $198.09    \n",
       "25734                                             Denied       $0.00    \n",
       "26129                                             Denied       $0.00    \n",
       "26530                                           Approved      $10.00    \n",
       "27086                                             Denied       $0.00    \n",
       "27481                                            Settled      $50.00    \n",
       "27628                                             Denied       $0.00    \n",
       "27819                                             Denied       $0.00    \n",
       "27901                                             Denied       $0.00    \n",
       "28031                                             Denied       $0.00    \n",
       "28037                                             Denied       $0.00    \n",
       "29065                                             Denied       $0.00    \n",
       "29652                                             Denied       $0.00    \n",
       "31140                                             Denied       $0.00    \n",
       "31570                                             Denied       $0.00    \n",
       "31590                                             Denied       $0.00    \n",
       "31771                                             Denied       $0.00    \n",
       "33613                                             Denied       $0.00    \n",
       "\n",
       "           Disposition  \n",
       "13729  Approve in Full  \n",
       "14323             Deny  \n",
       "14856  Approve in Full  \n",
       "14976              NaN  \n",
       "14995  Approve in Full  \n",
       "15278             Deny  \n",
       "15934              NaN  \n",
       "16813             Deny  \n",
       "17198             Deny  \n",
       "19151  Approve in Full  \n",
       "21528           Settle  \n",
       "22161             Deny  \n",
       "23232  Approve in Full  \n",
       "24355             Deny  \n",
       "24525           Settle  \n",
       "24768             Deny  \n",
       "24903           Settle  \n",
       "25249             Deny  \n",
       "25705           Settle  \n",
       "25734             Deny  \n",
       "26129             Deny  \n",
       "26530  Approve in Full  \n",
       "27086             Deny  \n",
       "27481           Settle  \n",
       "27628             Deny  \n",
       "27819             Deny  \n",
       "27901             Deny  \n",
       "28031             Deny  \n",
       "28037             Deny  \n",
       "29065             Deny  \n",
       "29652             Deny  \n",
       "31140             Deny  \n",
       "31570             Deny  \n",
       "31590             Deny  \n",
       "31771             Deny  \n",
       "33613             Deny  "
      ]
     },
     "execution_count": 366,
     "metadata": {},
     "output_type": "execute_result"
    }
   ],
   "source": [
    "error"
   ]
  },
  {
   "cell_type": "markdown",
   "metadata": {},
   "source": [
    "For the data in the Incident Date column that contain error, replace the year with the year that come from the Date Received column and replace the Incident Date data type into datetime object"
   ]
  },
  {
   "cell_type": "code",
   "execution_count": 367,
   "metadata": {},
   "outputs": [
    {
     "name": "stderr",
     "output_type": "stream",
     "text": [
      "C:\\Users\\Nicholas\\Anaconda3\\lib\\site-packages\\ipykernel_launcher.py:7: SettingWithCopyWarning: \n",
      "A value is trying to be set on a copy of a slice from a DataFrame.\n",
      "Try using .loc[row_indexer,col_indexer] = value instead\n",
      "\n",
      "See the caveats in the documentation: http://pandas.pydata.org/pandas-docs/stable/user_guide/indexing.html#returning-a-view-versus-a-copy\n",
      "  import sys\n"
     ]
    }
   ],
   "source": [
    "def replace_year(cols):\n",
    "    if str(cols['Incident Date'])[7:10] == '020' or str(cols['Incident Date'])[7:10] == '000':\n",
    "        return '{}{} {}'.format(str(cols['Incident Date'])[:7],str(cols['Date Received'].year),str(cols['Incident Date'])[12:])\n",
    "    else:\n",
    "        return cols['Incident Date']\n",
    "\n",
    "error['Incident Date'] = error[['Incident Date', 'Date Received']].apply(replace_year, axis = 1)"
   ]
  },
  {
   "cell_type": "code",
   "execution_count": 368,
   "metadata": {
    "scrolled": true
   },
   "outputs": [
    {
     "name": "stderr",
     "output_type": "stream",
     "text": [
      "C:\\Users\\Nicholas\\Anaconda3\\lib\\site-packages\\ipykernel_launcher.py:1: SettingWithCopyWarning: \n",
      "A value is trying to be set on a copy of a slice from a DataFrame\n",
      "\n",
      "See the caveats in the documentation: http://pandas.pydata.org/pandas-docs/stable/user_guide/indexing.html#returning-a-view-versus-a-copy\n",
      "  \"\"\"Entry point for launching an IPython kernel.\n"
     ]
    }
   ],
   "source": [
    "tsa['Incident Date'][erroridx] = error['Incident Date'].values"
   ]
  },
  {
   "cell_type": "code",
   "execution_count": 369,
   "metadata": {},
   "outputs": [],
   "source": [
    "tsa['Incident Date'] = pd.to_datetime(tsa['Incident Date'])"
   ]
  },
  {
   "cell_type": "markdown",
   "metadata": {},
   "source": [
    "Check the data info and the dataframe that previously contain the error in their data to see if the data have been properly corrected."
   ]
  },
  {
   "cell_type": "code",
   "execution_count": 370,
   "metadata": {
    "scrolled": true
   },
   "outputs": [
    {
     "name": "stdout",
     "output_type": "stream",
     "text": [
      "<class 'pandas.core.frame.DataFrame'>\n",
      "RangeIndex: 51066 entries, 0 to 51065\n",
      "Data columns (total 13 columns):\n",
      "Claim Number     51066 non-null object\n",
      "Date Received    50996 non-null datetime64[ns]\n",
      "Incident Date    50496 non-null datetime64[ns]\n",
      "Airport Code     48915 non-null object\n",
      "Airport Name     48915 non-null object\n",
      "Airline Name     41470 non-null object\n",
      "Claim Type       49035 non-null object\n",
      "Claim Site       50817 non-null object\n",
      "Item             48918 non-null object\n",
      "Claim Amount     46886 non-null object\n",
      "Status           47877 non-null object\n",
      "Close Amount     33786 non-null object\n",
      "Disposition      32846 non-null object\n",
      "dtypes: datetime64[ns](2), object(11)\n",
      "memory usage: 5.1+ MB\n"
     ]
    }
   ],
   "source": [
    "tsa.info()"
   ]
  },
  {
   "cell_type": "code",
   "execution_count": 371,
   "metadata": {},
   "outputs": [],
   "source": [
    "error = tsa.iloc[erroridx,:]"
   ]
  },
  {
   "cell_type": "code",
   "execution_count": 372,
   "metadata": {},
   "outputs": [
    {
     "data": {
      "text/html": [
       "<div>\n",
       "<style scoped>\n",
       "    .dataframe tbody tr th:only-of-type {\n",
       "        vertical-align: middle;\n",
       "    }\n",
       "\n",
       "    .dataframe tbody tr th {\n",
       "        vertical-align: top;\n",
       "    }\n",
       "\n",
       "    .dataframe thead th {\n",
       "        text-align: right;\n",
       "    }\n",
       "</style>\n",
       "<table border=\"1\" class=\"dataframe\">\n",
       "  <thead>\n",
       "    <tr style=\"text-align: right;\">\n",
       "      <th></th>\n",
       "      <th>Claim Number</th>\n",
       "      <th>Date Received</th>\n",
       "      <th>Incident Date</th>\n",
       "      <th>Airport Code</th>\n",
       "      <th>Airport Name</th>\n",
       "      <th>Airline Name</th>\n",
       "      <th>Claim Type</th>\n",
       "      <th>Claim Site</th>\n",
       "      <th>Item</th>\n",
       "      <th>Claim Amount</th>\n",
       "      <th>Status</th>\n",
       "      <th>Close Amount</th>\n",
       "      <th>Disposition</th>\n",
       "    </tr>\n",
       "  </thead>\n",
       "  <tbody>\n",
       "    <tr>\n",
       "      <td>13729</td>\n",
       "      <td>2005021676300</td>\n",
       "      <td>2005-01-24</td>\n",
       "      <td>2005-05-17</td>\n",
       "      <td>JFK</td>\n",
       "      <td>John F. Kennedy International</td>\n",
       "      <td>NaN</td>\n",
       "      <td>Passenger Property Loss</td>\n",
       "      <td>Checkpoint</td>\n",
       "      <td>Other</td>\n",
       "      <td>$15.00</td>\n",
       "      <td>Approved</td>\n",
       "      <td>$15.00</td>\n",
       "      <td>Approve in Full</td>\n",
       "    </tr>\n",
       "    <tr>\n",
       "      <td>14323</td>\n",
       "      <td>2005031778682</td>\n",
       "      <td>2005-02-23</td>\n",
       "      <td>2005-02-17</td>\n",
       "      <td>MSY</td>\n",
       "      <td>New Orleans International</td>\n",
       "      <td>UAL</td>\n",
       "      <td>Passenger Property Loss</td>\n",
       "      <td>Checked Baggage</td>\n",
       "      <td>Computer - Laptop</td>\n",
       "      <td>$2;463.00</td>\n",
       "      <td>Denied</td>\n",
       "      <td>NaN</td>\n",
       "      <td>Deny</td>\n",
       "    </tr>\n",
       "    <tr>\n",
       "      <td>14856</td>\n",
       "      <td>2005033180821</td>\n",
       "      <td>2005-03-23</td>\n",
       "      <td>2005-03-07</td>\n",
       "      <td>CVG</td>\n",
       "      <td>Cincinnati/Northern Kentucky International</td>\n",
       "      <td>Delta Air Lines</td>\n",
       "      <td>Passenger Property Loss</td>\n",
       "      <td>Checked Baggage</td>\n",
       "      <td>Cameras - Digital</td>\n",
       "      <td>$430.98</td>\n",
       "      <td>Approved</td>\n",
       "      <td>$430.98</td>\n",
       "      <td>Approve in Full</td>\n",
       "    </tr>\n",
       "    <tr>\n",
       "      <td>14976</td>\n",
       "      <td>2005040181143</td>\n",
       "      <td>2005-03-29</td>\n",
       "      <td>2005-03-04</td>\n",
       "      <td>MSP</td>\n",
       "      <td>Minneapolis/ St.Paul International Airport</td>\n",
       "      <td>Northwest Airlines</td>\n",
       "      <td>Passenger Property Loss</td>\n",
       "      <td>Checked Baggage</td>\n",
       "      <td>Jewelry - Fine</td>\n",
       "      <td>$151.00</td>\n",
       "      <td>Insufficient; one of the following items requi...</td>\n",
       "      <td>NaN</td>\n",
       "      <td>NaN</td>\n",
       "    </tr>\n",
       "    <tr>\n",
       "      <td>14995</td>\n",
       "      <td>2005040581540</td>\n",
       "      <td>2005-03-30</td>\n",
       "      <td>2005-03-18</td>\n",
       "      <td>MAF</td>\n",
       "      <td>Midland International Airport</td>\n",
       "      <td>Continental Express Inc</td>\n",
       "      <td>Passenger Property Loss</td>\n",
       "      <td>Checked Baggage</td>\n",
       "      <td>Locks</td>\n",
       "      <td>$10.60</td>\n",
       "      <td>Approved</td>\n",
       "      <td>$10.60</td>\n",
       "      <td>Approve in Full</td>\n",
       "    </tr>\n",
       "    <tr>\n",
       "      <td>15278</td>\n",
       "      <td>2005041282328</td>\n",
       "      <td>2005-04-12</td>\n",
       "      <td>2005-03-12</td>\n",
       "      <td>MSP</td>\n",
       "      <td>Minneapolis/ St.Paul International Airport</td>\n",
       "      <td>Northwest Airlines</td>\n",
       "      <td>Property Damage</td>\n",
       "      <td>Checked Baggage</td>\n",
       "      <td>Clothing - Shoes; belts; accessories; etc.</td>\n",
       "      <td>$710.00</td>\n",
       "      <td>Denied</td>\n",
       "      <td>$0.00</td>\n",
       "      <td>Deny</td>\n",
       "    </tr>\n",
       "    <tr>\n",
       "      <td>15934</td>\n",
       "      <td>2005051985030</td>\n",
       "      <td>2005-05-17</td>\n",
       "      <td>2005-05-01</td>\n",
       "      <td>NaN</td>\n",
       "      <td>NaN</td>\n",
       "      <td>NaN</td>\n",
       "      <td>Passenger Property Loss</td>\n",
       "      <td>Checked Baggage</td>\n",
       "      <td>Jewelry - Fine</td>\n",
       "      <td>$197.73</td>\n",
       "      <td>Insufficient; one of the following items requi...</td>\n",
       "      <td>NaN</td>\n",
       "      <td>NaN</td>\n",
       "    </tr>\n",
       "    <tr>\n",
       "      <td>16813</td>\n",
       "      <td>2005071188622</td>\n",
       "      <td>2005-07-08</td>\n",
       "      <td>2005-07-01</td>\n",
       "      <td>HDN</td>\n",
       "      <td>Yampa Valley Regional</td>\n",
       "      <td>NaN</td>\n",
       "      <td>Passenger Property Loss</td>\n",
       "      <td>Checked Baggage</td>\n",
       "      <td>Clothing - Shoes; belts; accessories; etc.</td>\n",
       "      <td>$300.00</td>\n",
       "      <td>Denied</td>\n",
       "      <td>$0.00</td>\n",
       "      <td>Deny</td>\n",
       "    </tr>\n",
       "    <tr>\n",
       "      <td>17198</td>\n",
       "      <td>2005091492472</td>\n",
       "      <td>2005-08-01</td>\n",
       "      <td>2005-05-01</td>\n",
       "      <td>IAH</td>\n",
       "      <td>Houston - George Bush Intercontinental Airport</td>\n",
       "      <td>UAL</td>\n",
       "      <td>Passenger Property Loss</td>\n",
       "      <td>Checked Baggage</td>\n",
       "      <td>Other</td>\n",
       "      <td>$2;000.72</td>\n",
       "      <td>Denied</td>\n",
       "      <td>$0.00</td>\n",
       "      <td>Deny</td>\n",
       "    </tr>\n",
       "    <tr>\n",
       "      <td>19151</td>\n",
       "      <td>2005121397614</td>\n",
       "      <td>2005-12-08</td>\n",
       "      <td>2005-11-20</td>\n",
       "      <td>LNK</td>\n",
       "      <td>Lincoln Municipal</td>\n",
       "      <td>Northwest Airlines</td>\n",
       "      <td>Passenger Property Loss</td>\n",
       "      <td>Checked Baggage</td>\n",
       "      <td>Locks</td>\n",
       "      <td>$15.00</td>\n",
       "      <td>Approved</td>\n",
       "      <td>$15.00</td>\n",
       "      <td>Approve in Full</td>\n",
       "    </tr>\n",
       "    <tr>\n",
       "      <td>21528</td>\n",
       "      <td>2006060207211</td>\n",
       "      <td>2006-05-30</td>\n",
       "      <td>2006-05-26</td>\n",
       "      <td>JFK</td>\n",
       "      <td>John F. Kennedy International</td>\n",
       "      <td>Air France</td>\n",
       "      <td>Passenger Property Loss</td>\n",
       "      <td>Checked Baggage</td>\n",
       "      <td>Cosmetics - Perfume; toilet articles; medicine...</td>\n",
       "      <td>$821.56</td>\n",
       "      <td>Settled</td>\n",
       "      <td>$261.72</td>\n",
       "      <td>Settle</td>\n",
       "    </tr>\n",
       "    <tr>\n",
       "      <td>22161</td>\n",
       "      <td>2006072610104</td>\n",
       "      <td>2006-07-14</td>\n",
       "      <td>2006-10-25</td>\n",
       "      <td>MEM</td>\n",
       "      <td>Memphis International Airport</td>\n",
       "      <td>Northwest Airlines</td>\n",
       "      <td>Passenger Property Loss</td>\n",
       "      <td>Checked Baggage</td>\n",
       "      <td>Cell Phones</td>\n",
       "      <td>$35.00</td>\n",
       "      <td>Denied</td>\n",
       "      <td>$0.00</td>\n",
       "      <td>Deny</td>\n",
       "    </tr>\n",
       "    <tr>\n",
       "      <td>23232</td>\n",
       "      <td>2006101213887</td>\n",
       "      <td>2006-10-11</td>\n",
       "      <td>2006-09-27</td>\n",
       "      <td>JFK</td>\n",
       "      <td>John F. Kennedy International</td>\n",
       "      <td>Continental Airlines</td>\n",
       "      <td>Passenger Property Loss</td>\n",
       "      <td>Checkpoint</td>\n",
       "      <td>Other</td>\n",
       "      <td>$25.49</td>\n",
       "      <td>Approved</td>\n",
       "      <td>$25.49</td>\n",
       "      <td>Approve in Full</td>\n",
       "    </tr>\n",
       "    <tr>\n",
       "      <td>24355</td>\n",
       "      <td>2007010418246</td>\n",
       "      <td>2007-01-03</td>\n",
       "      <td>2007-11-03</td>\n",
       "      <td>OMA</td>\n",
       "      <td>Eppley Airfield</td>\n",
       "      <td>Skywest Airlines Inc USA</td>\n",
       "      <td>Passenger Property Loss</td>\n",
       "      <td>Checked Baggage</td>\n",
       "      <td>Jewelry - Costume</td>\n",
       "      <td>$135.00</td>\n",
       "      <td>Denied</td>\n",
       "      <td>$0.00</td>\n",
       "      <td>Deny</td>\n",
       "    </tr>\n",
       "    <tr>\n",
       "      <td>24525</td>\n",
       "      <td>2007011718892</td>\n",
       "      <td>2007-01-10</td>\n",
       "      <td>2007-08-12</td>\n",
       "      <td>JFK</td>\n",
       "      <td>John F. Kennedy International</td>\n",
       "      <td>Jet Blue</td>\n",
       "      <td>Passenger Property Loss</td>\n",
       "      <td>Checked Baggage</td>\n",
       "      <td>Video Recordings (blank &amp; commercial)</td>\n",
       "      <td>$317.64</td>\n",
       "      <td>Settled</td>\n",
       "      <td>$158.82</td>\n",
       "      <td>Settle</td>\n",
       "    </tr>\n",
       "    <tr>\n",
       "      <td>24768</td>\n",
       "      <td>2007013119947</td>\n",
       "      <td>2007-01-26</td>\n",
       "      <td>2007-12-19</td>\n",
       "      <td>PHX</td>\n",
       "      <td>Phoenix Sky Harbor International</td>\n",
       "      <td>Northwest Airlines</td>\n",
       "      <td>Property Damage</td>\n",
       "      <td>Checked Baggage</td>\n",
       "      <td>Other</td>\n",
       "      <td>$90.00</td>\n",
       "      <td>Denied</td>\n",
       "      <td>$0.00</td>\n",
       "      <td>Deny</td>\n",
       "    </tr>\n",
       "    <tr>\n",
       "      <td>24903</td>\n",
       "      <td>2007020620372</td>\n",
       "      <td>2007-02-05</td>\n",
       "      <td>2007-01-13</td>\n",
       "      <td>JFK</td>\n",
       "      <td>John F. Kennedy International</td>\n",
       "      <td>Jet Blue</td>\n",
       "      <td>Passenger Property Loss</td>\n",
       "      <td>Checked Baggage</td>\n",
       "      <td>Computer - Laptop</td>\n",
       "      <td>$1;503.35</td>\n",
       "      <td>Settled</td>\n",
       "      <td>$208.47</td>\n",
       "      <td>Settle</td>\n",
       "    </tr>\n",
       "    <tr>\n",
       "      <td>25249</td>\n",
       "      <td>2007031222075</td>\n",
       "      <td>2007-03-06</td>\n",
       "      <td>2007-02-18</td>\n",
       "      <td>SEA</td>\n",
       "      <td>Seattle-Tacoma International</td>\n",
       "      <td>Delta Air Lines</td>\n",
       "      <td>Passenger Property Loss</td>\n",
       "      <td>Checked Baggage</td>\n",
       "      <td>Clothing - Shoes; belts; accessories; etc.; Other</td>\n",
       "      <td>$190.00</td>\n",
       "      <td>Denied</td>\n",
       "      <td>$0.00</td>\n",
       "      <td>Deny</td>\n",
       "    </tr>\n",
       "    <tr>\n",
       "      <td>25705</td>\n",
       "      <td>2007041323942</td>\n",
       "      <td>2007-04-10</td>\n",
       "      <td>2007-04-07</td>\n",
       "      <td>IAD</td>\n",
       "      <td>Washington Dulles International</td>\n",
       "      <td>UAL</td>\n",
       "      <td>Passenger Property Loss</td>\n",
       "      <td>Checked Baggage</td>\n",
       "      <td>Cameras - Digital; Other</td>\n",
       "      <td>$470.06</td>\n",
       "      <td>Settled</td>\n",
       "      <td>$198.09</td>\n",
       "      <td>Settle</td>\n",
       "    </tr>\n",
       "    <tr>\n",
       "      <td>25734</td>\n",
       "      <td>2007041323952</td>\n",
       "      <td>2007-04-12</td>\n",
       "      <td>2007-01-29</td>\n",
       "      <td>SAN</td>\n",
       "      <td>San Diego International</td>\n",
       "      <td>Southwest Airlines</td>\n",
       "      <td>Passenger Property Loss</td>\n",
       "      <td>Checked Baggage</td>\n",
       "      <td>MP3 Players-(iPods; etc)</td>\n",
       "      <td>$250.00</td>\n",
       "      <td>Denied</td>\n",
       "      <td>$0.00</td>\n",
       "      <td>Deny</td>\n",
       "    </tr>\n",
       "    <tr>\n",
       "      <td>26129</td>\n",
       "      <td>2007051825607</td>\n",
       "      <td>2007-05-16</td>\n",
       "      <td>2007-03-06</td>\n",
       "      <td>BPT</td>\n",
       "      <td>Southeast Texas Regional</td>\n",
       "      <td>Continental Airlines</td>\n",
       "      <td>Passenger Property Loss</td>\n",
       "      <td>Checked Baggage</td>\n",
       "      <td>Cameras - Digital; Cameras - Non-electronic (C...</td>\n",
       "      <td>$1;400.25</td>\n",
       "      <td>Denied</td>\n",
       "      <td>$0.00</td>\n",
       "      <td>Deny</td>\n",
       "    </tr>\n",
       "    <tr>\n",
       "      <td>26530</td>\n",
       "      <td>2007062127333</td>\n",
       "      <td>2007-06-19</td>\n",
       "      <td>2007-05-20</td>\n",
       "      <td>FLL</td>\n",
       "      <td>Ft. Lauderdale-Hollywood International</td>\n",
       "      <td>Delta Air Lines</td>\n",
       "      <td>Passenger Property Loss</td>\n",
       "      <td>Checked Baggage</td>\n",
       "      <td>Cosmetics - Perfume; toilet articles; medicine...</td>\n",
       "      <td>$10.00</td>\n",
       "      <td>Approved</td>\n",
       "      <td>$10.00</td>\n",
       "      <td>Approve in Full</td>\n",
       "    </tr>\n",
       "    <tr>\n",
       "      <td>27086</td>\n",
       "      <td>2007073129436</td>\n",
       "      <td>2007-07-31</td>\n",
       "      <td>2007-07-13</td>\n",
       "      <td>IND</td>\n",
       "      <td>Indianapolis International</td>\n",
       "      <td>Northwest Airlines</td>\n",
       "      <td>Property Damage</td>\n",
       "      <td>Checked Baggage</td>\n",
       "      <td>Baskets - Wicker or plastic</td>\n",
       "      <td>$15.00</td>\n",
       "      <td>Denied</td>\n",
       "      <td>$0.00</td>\n",
       "      <td>Deny</td>\n",
       "    </tr>\n",
       "    <tr>\n",
       "      <td>27481</td>\n",
       "      <td>2007083131244</td>\n",
       "      <td>2007-08-28</td>\n",
       "      <td>2007-07-09</td>\n",
       "      <td>MSP</td>\n",
       "      <td>Minneapolis/ St.Paul International Airport</td>\n",
       "      <td>Northwest Airlines</td>\n",
       "      <td>Property Damage</td>\n",
       "      <td>Checked Baggage</td>\n",
       "      <td>Luggage (all types including footlockers)</td>\n",
       "      <td>$185.00</td>\n",
       "      <td>Settled</td>\n",
       "      <td>$50.00</td>\n",
       "      <td>Settle</td>\n",
       "    </tr>\n",
       "    <tr>\n",
       "      <td>27628</td>\n",
       "      <td>2007091431890</td>\n",
       "      <td>2007-09-10</td>\n",
       "      <td>2007-03-02</td>\n",
       "      <td>MDW</td>\n",
       "      <td>Midway International Airport</td>\n",
       "      <td>Southwest Airlines</td>\n",
       "      <td>Property Damage</td>\n",
       "      <td>Checked Baggage</td>\n",
       "      <td>Clothing - Shoes; belts; accessories; etc.; Pa...</td>\n",
       "      <td>$250.00</td>\n",
       "      <td>Denied</td>\n",
       "      <td>$0.00</td>\n",
       "      <td>Deny</td>\n",
       "    </tr>\n",
       "    <tr>\n",
       "      <td>27819</td>\n",
       "      <td>2007092732635</td>\n",
       "      <td>2007-09-24</td>\n",
       "      <td>2007-09-17</td>\n",
       "      <td>DTW</td>\n",
       "      <td>Detroit Metropolitan Wayne County Airport</td>\n",
       "      <td>Northwest Airlines</td>\n",
       "      <td>Passenger Property Loss</td>\n",
       "      <td>Checked Baggage</td>\n",
       "      <td>Currency</td>\n",
       "      <td>$420.00</td>\n",
       "      <td>Denied</td>\n",
       "      <td>$0.00</td>\n",
       "      <td>Deny</td>\n",
       "    </tr>\n",
       "    <tr>\n",
       "      <td>27901</td>\n",
       "      <td>2007100533098</td>\n",
       "      <td>2007-10-02</td>\n",
       "      <td>2007-05-22</td>\n",
       "      <td>RSW</td>\n",
       "      <td>Southwest Florida International</td>\n",
       "      <td>Delta Air Lines</td>\n",
       "      <td>Passenger Property Loss</td>\n",
       "      <td>Checked Baggage</td>\n",
       "      <td>Currency</td>\n",
       "      <td>$100.00</td>\n",
       "      <td>Denied</td>\n",
       "      <td>$0.00</td>\n",
       "      <td>Deny</td>\n",
       "    </tr>\n",
       "    <tr>\n",
       "      <td>28031</td>\n",
       "      <td>2007101733560</td>\n",
       "      <td>2007-10-12</td>\n",
       "      <td>2007-09-28</td>\n",
       "      <td>ATL</td>\n",
       "      <td>Hartsfield-Jackson Atlanta International Airport</td>\n",
       "      <td>Delta Air Lines</td>\n",
       "      <td>Passenger Property Loss</td>\n",
       "      <td>Checked Baggage</td>\n",
       "      <td>Cosmetics - Perfume; toilet articles; medicine...</td>\n",
       "      <td>$109.99</td>\n",
       "      <td>Denied</td>\n",
       "      <td>$0.00</td>\n",
       "      <td>Deny</td>\n",
       "    </tr>\n",
       "    <tr>\n",
       "      <td>28037</td>\n",
       "      <td>2007101833587</td>\n",
       "      <td>2007-10-12</td>\n",
       "      <td>2007-09-04</td>\n",
       "      <td>MIA</td>\n",
       "      <td>Miami International Airport</td>\n",
       "      <td>American Airlines</td>\n",
       "      <td>Passenger Property Loss</td>\n",
       "      <td>Checked Baggage</td>\n",
       "      <td>Other</td>\n",
       "      <td>$69.95</td>\n",
       "      <td>Denied</td>\n",
       "      <td>$0.00</td>\n",
       "      <td>Deny</td>\n",
       "    </tr>\n",
       "    <tr>\n",
       "      <td>29065</td>\n",
       "      <td>2008011437819</td>\n",
       "      <td>2008-01-07</td>\n",
       "      <td>2008-11-30</td>\n",
       "      <td>RAP</td>\n",
       "      <td>Rapid City Regional</td>\n",
       "      <td>Northwest Airlines</td>\n",
       "      <td>Passenger Property Loss</td>\n",
       "      <td>Checked Baggage</td>\n",
       "      <td>Clothing - Shoes; belts; accessories; etc.; Lu...</td>\n",
       "      <td>$200.00</td>\n",
       "      <td>Denied</td>\n",
       "      <td>$0.00</td>\n",
       "      <td>Deny</td>\n",
       "    </tr>\n",
       "    <tr>\n",
       "      <td>29652</td>\n",
       "      <td>2008022840321</td>\n",
       "      <td>2008-02-22</td>\n",
       "      <td>2008-02-08</td>\n",
       "      <td>AVL</td>\n",
       "      <td>Asheville Regional Airport</td>\n",
       "      <td>Delta Air Lines</td>\n",
       "      <td>Property Damage</td>\n",
       "      <td>Checked Baggage</td>\n",
       "      <td>Mirrors (including frames)</td>\n",
       "      <td>$21.93</td>\n",
       "      <td>Denied</td>\n",
       "      <td>$0.00</td>\n",
       "      <td>Deny</td>\n",
       "    </tr>\n",
       "    <tr>\n",
       "      <td>31140</td>\n",
       "      <td>2008062646202</td>\n",
       "      <td>2008-06-23</td>\n",
       "      <td>2008-01-29</td>\n",
       "      <td>MIA</td>\n",
       "      <td>Miami International Airport</td>\n",
       "      <td>American Airlines</td>\n",
       "      <td>Property Damage</td>\n",
       "      <td>Checked Baggage</td>\n",
       "      <td>Locks</td>\n",
       "      <td>$5.98</td>\n",
       "      <td>Denied</td>\n",
       "      <td>$0.00</td>\n",
       "      <td>Deny</td>\n",
       "    </tr>\n",
       "    <tr>\n",
       "      <td>31570</td>\n",
       "      <td>2008080548050</td>\n",
       "      <td>2008-07-31</td>\n",
       "      <td>2008-07-30</td>\n",
       "      <td>HOU</td>\n",
       "      <td>William P. Hobby</td>\n",
       "      <td>Continental Airlines</td>\n",
       "      <td>Passenger Property Loss</td>\n",
       "      <td>Checked Baggage</td>\n",
       "      <td>Locks</td>\n",
       "      <td>$16.00</td>\n",
       "      <td>Denied</td>\n",
       "      <td>$0.00</td>\n",
       "      <td>Deny</td>\n",
       "    </tr>\n",
       "    <tr>\n",
       "      <td>31590</td>\n",
       "      <td>2008081148331</td>\n",
       "      <td>2008-08-01</td>\n",
       "      <td>2008-07-13</td>\n",
       "      <td>ATL</td>\n",
       "      <td>Hartsfield-Jackson Atlanta International Airport</td>\n",
       "      <td>Delta Air Lines</td>\n",
       "      <td>Passenger Property Loss</td>\n",
       "      <td>Checked Baggage</td>\n",
       "      <td>Cosmetics - Perfume; toilet articles; medicine...</td>\n",
       "      <td>$40.00</td>\n",
       "      <td>Denied</td>\n",
       "      <td>$0.00</td>\n",
       "      <td>Deny</td>\n",
       "    </tr>\n",
       "    <tr>\n",
       "      <td>31771</td>\n",
       "      <td>2008081948782</td>\n",
       "      <td>2008-08-19</td>\n",
       "      <td>2008-07-23</td>\n",
       "      <td>FLL</td>\n",
       "      <td>Ft. Lauderdale-Hollywood International</td>\n",
       "      <td>Jet Blue</td>\n",
       "      <td>Passenger Property Loss</td>\n",
       "      <td>Checked Baggage</td>\n",
       "      <td>Computer - Laptop; GPS - Global Positioning Sy...</td>\n",
       "      <td>$3;379.00</td>\n",
       "      <td>Denied</td>\n",
       "      <td>$0.00</td>\n",
       "      <td>Deny</td>\n",
       "    </tr>\n",
       "    <tr>\n",
       "      <td>33613</td>\n",
       "      <td>2009032056617</td>\n",
       "      <td>2009-03-04</td>\n",
       "      <td>2009-01-18</td>\n",
       "      <td>FLL</td>\n",
       "      <td>Ft. Lauderdale-Hollywood International</td>\n",
       "      <td>American Airlines</td>\n",
       "      <td>Property Damage</td>\n",
       "      <td>Checkpoint</td>\n",
       "      <td>Eyeglasses - (including contact lenses)</td>\n",
       "      <td>$469.00</td>\n",
       "      <td>Denied</td>\n",
       "      <td>$0.00</td>\n",
       "      <td>Deny</td>\n",
       "    </tr>\n",
       "  </tbody>\n",
       "</table>\n",
       "</div>"
      ],
      "text/plain": [
       "        Claim Number Date Received Incident Date Airport Code  \\\n",
       "13729  2005021676300    2005-01-24    2005-05-17          JFK   \n",
       "14323  2005031778682    2005-02-23    2005-02-17          MSY   \n",
       "14856  2005033180821    2005-03-23    2005-03-07          CVG   \n",
       "14976  2005040181143    2005-03-29    2005-03-04          MSP   \n",
       "14995  2005040581540    2005-03-30    2005-03-18          MAF   \n",
       "15278  2005041282328    2005-04-12    2005-03-12          MSP   \n",
       "15934  2005051985030    2005-05-17    2005-05-01          NaN   \n",
       "16813  2005071188622    2005-07-08    2005-07-01          HDN   \n",
       "17198  2005091492472    2005-08-01    2005-05-01          IAH   \n",
       "19151  2005121397614    2005-12-08    2005-11-20          LNK   \n",
       "21528  2006060207211    2006-05-30    2006-05-26          JFK   \n",
       "22161  2006072610104    2006-07-14    2006-10-25          MEM   \n",
       "23232  2006101213887    2006-10-11    2006-09-27          JFK   \n",
       "24355  2007010418246    2007-01-03    2007-11-03          OMA   \n",
       "24525  2007011718892    2007-01-10    2007-08-12          JFK   \n",
       "24768  2007013119947    2007-01-26    2007-12-19          PHX   \n",
       "24903  2007020620372    2007-02-05    2007-01-13          JFK   \n",
       "25249  2007031222075    2007-03-06    2007-02-18          SEA   \n",
       "25705  2007041323942    2007-04-10    2007-04-07          IAD   \n",
       "25734  2007041323952    2007-04-12    2007-01-29          SAN   \n",
       "26129  2007051825607    2007-05-16    2007-03-06          BPT   \n",
       "26530  2007062127333    2007-06-19    2007-05-20          FLL   \n",
       "27086  2007073129436    2007-07-31    2007-07-13          IND   \n",
       "27481  2007083131244    2007-08-28    2007-07-09          MSP   \n",
       "27628  2007091431890    2007-09-10    2007-03-02          MDW   \n",
       "27819  2007092732635    2007-09-24    2007-09-17          DTW   \n",
       "27901  2007100533098    2007-10-02    2007-05-22          RSW   \n",
       "28031  2007101733560    2007-10-12    2007-09-28          ATL   \n",
       "28037  2007101833587    2007-10-12    2007-09-04          MIA   \n",
       "29065  2008011437819    2008-01-07    2008-11-30          RAP   \n",
       "29652  2008022840321    2008-02-22    2008-02-08          AVL   \n",
       "31140  2008062646202    2008-06-23    2008-01-29          MIA   \n",
       "31570  2008080548050    2008-07-31    2008-07-30          HOU   \n",
       "31590  2008081148331    2008-08-01    2008-07-13          ATL   \n",
       "31771  2008081948782    2008-08-19    2008-07-23          FLL   \n",
       "33613  2009032056617    2009-03-04    2009-01-18          FLL   \n",
       "\n",
       "                                           Airport Name  \\\n",
       "13729                     John F. Kennedy International   \n",
       "14323                         New Orleans International   \n",
       "14856        Cincinnati/Northern Kentucky International   \n",
       "14976        Minneapolis/ St.Paul International Airport   \n",
       "14995                     Midland International Airport   \n",
       "15278        Minneapolis/ St.Paul International Airport   \n",
       "15934                                               NaN   \n",
       "16813                             Yampa Valley Regional   \n",
       "17198    Houston - George Bush Intercontinental Airport   \n",
       "19151                                 Lincoln Municipal   \n",
       "21528                     John F. Kennedy International   \n",
       "22161                     Memphis International Airport   \n",
       "23232                     John F. Kennedy International   \n",
       "24355                                   Eppley Airfield   \n",
       "24525                     John F. Kennedy International   \n",
       "24768                  Phoenix Sky Harbor International   \n",
       "24903                     John F. Kennedy International   \n",
       "25249                      Seattle-Tacoma International   \n",
       "25705                   Washington Dulles International   \n",
       "25734                           San Diego International   \n",
       "26129                          Southeast Texas Regional   \n",
       "26530            Ft. Lauderdale-Hollywood International   \n",
       "27086                        Indianapolis International   \n",
       "27481        Minneapolis/ St.Paul International Airport   \n",
       "27628                      Midway International Airport   \n",
       "27819         Detroit Metropolitan Wayne County Airport   \n",
       "27901                   Southwest Florida International   \n",
       "28031  Hartsfield-Jackson Atlanta International Airport   \n",
       "28037                       Miami International Airport   \n",
       "29065                               Rapid City Regional   \n",
       "29652                        Asheville Regional Airport   \n",
       "31140                       Miami International Airport   \n",
       "31570                                  William P. Hobby   \n",
       "31590  Hartsfield-Jackson Atlanta International Airport   \n",
       "31771            Ft. Lauderdale-Hollywood International   \n",
       "33613            Ft. Lauderdale-Hollywood International   \n",
       "\n",
       "                   Airline Name               Claim Type       Claim Site  \\\n",
       "13729                       NaN  Passenger Property Loss       Checkpoint   \n",
       "14323                       UAL  Passenger Property Loss  Checked Baggage   \n",
       "14856           Delta Air Lines  Passenger Property Loss  Checked Baggage   \n",
       "14976        Northwest Airlines  Passenger Property Loss  Checked Baggage   \n",
       "14995   Continental Express Inc  Passenger Property Loss  Checked Baggage   \n",
       "15278        Northwest Airlines          Property Damage  Checked Baggage   \n",
       "15934                       NaN  Passenger Property Loss  Checked Baggage   \n",
       "16813                       NaN  Passenger Property Loss  Checked Baggage   \n",
       "17198                       UAL  Passenger Property Loss  Checked Baggage   \n",
       "19151        Northwest Airlines  Passenger Property Loss  Checked Baggage   \n",
       "21528                Air France  Passenger Property Loss  Checked Baggage   \n",
       "22161        Northwest Airlines  Passenger Property Loss  Checked Baggage   \n",
       "23232      Continental Airlines  Passenger Property Loss       Checkpoint   \n",
       "24355  Skywest Airlines Inc USA  Passenger Property Loss  Checked Baggage   \n",
       "24525                  Jet Blue  Passenger Property Loss  Checked Baggage   \n",
       "24768        Northwest Airlines          Property Damage  Checked Baggage   \n",
       "24903                  Jet Blue  Passenger Property Loss  Checked Baggage   \n",
       "25249           Delta Air Lines  Passenger Property Loss  Checked Baggage   \n",
       "25705                       UAL  Passenger Property Loss  Checked Baggage   \n",
       "25734        Southwest Airlines  Passenger Property Loss  Checked Baggage   \n",
       "26129      Continental Airlines  Passenger Property Loss  Checked Baggage   \n",
       "26530           Delta Air Lines  Passenger Property Loss  Checked Baggage   \n",
       "27086        Northwest Airlines          Property Damage  Checked Baggage   \n",
       "27481        Northwest Airlines          Property Damage  Checked Baggage   \n",
       "27628        Southwest Airlines          Property Damage  Checked Baggage   \n",
       "27819        Northwest Airlines  Passenger Property Loss  Checked Baggage   \n",
       "27901           Delta Air Lines  Passenger Property Loss  Checked Baggage   \n",
       "28031           Delta Air Lines  Passenger Property Loss  Checked Baggage   \n",
       "28037         American Airlines  Passenger Property Loss  Checked Baggage   \n",
       "29065        Northwest Airlines  Passenger Property Loss  Checked Baggage   \n",
       "29652           Delta Air Lines          Property Damage  Checked Baggage   \n",
       "31140         American Airlines          Property Damage  Checked Baggage   \n",
       "31570      Continental Airlines  Passenger Property Loss  Checked Baggage   \n",
       "31590           Delta Air Lines  Passenger Property Loss  Checked Baggage   \n",
       "31771                  Jet Blue  Passenger Property Loss  Checked Baggage   \n",
       "33613         American Airlines          Property Damage       Checkpoint   \n",
       "\n",
       "                                                    Item Claim Amount  \\\n",
       "13729                                              Other      $15.00    \n",
       "14323                                  Computer - Laptop   $2;463.00    \n",
       "14856                                  Cameras - Digital     $430.98    \n",
       "14976                                     Jewelry - Fine     $151.00    \n",
       "14995                                              Locks      $10.60    \n",
       "15278         Clothing - Shoes; belts; accessories; etc.     $710.00    \n",
       "15934                                     Jewelry - Fine     $197.73    \n",
       "16813         Clothing - Shoes; belts; accessories; etc.     $300.00    \n",
       "17198                                              Other   $2;000.72    \n",
       "19151                                              Locks      $15.00    \n",
       "21528  Cosmetics - Perfume; toilet articles; medicine...     $821.56    \n",
       "22161                                        Cell Phones      $35.00    \n",
       "23232                                              Other      $25.49    \n",
       "24355                                  Jewelry - Costume     $135.00    \n",
       "24525              Video Recordings (blank & commercial)     $317.64    \n",
       "24768                                              Other      $90.00    \n",
       "24903                                  Computer - Laptop   $1;503.35    \n",
       "25249  Clothing - Shoes; belts; accessories; etc.; Other     $190.00    \n",
       "25705                           Cameras - Digital; Other     $470.06    \n",
       "25734                           MP3 Players-(iPods; etc)     $250.00    \n",
       "26129  Cameras - Digital; Cameras - Non-electronic (C...   $1;400.25    \n",
       "26530  Cosmetics - Perfume; toilet articles; medicine...      $10.00    \n",
       "27086                        Baskets - Wicker or plastic      $15.00    \n",
       "27481          Luggage (all types including footlockers)     $185.00    \n",
       "27628  Clothing - Shoes; belts; accessories; etc.; Pa...     $250.00    \n",
       "27819                                           Currency     $420.00    \n",
       "27901                                           Currency     $100.00    \n",
       "28031  Cosmetics - Perfume; toilet articles; medicine...     $109.99    \n",
       "28037                                              Other      $69.95    \n",
       "29065  Clothing - Shoes; belts; accessories; etc.; Lu...     $200.00    \n",
       "29652                         Mirrors (including frames)      $21.93    \n",
       "31140                                              Locks       $5.98    \n",
       "31570                                              Locks      $16.00    \n",
       "31590  Cosmetics - Perfume; toilet articles; medicine...      $40.00    \n",
       "31771  Computer - Laptop; GPS - Global Positioning Sy...   $3;379.00    \n",
       "33613            Eyeglasses - (including contact lenses)     $469.00    \n",
       "\n",
       "                                                  Status Close Amount  \\\n",
       "13729                                           Approved      $15.00    \n",
       "14323                                             Denied          NaN   \n",
       "14856                                           Approved     $430.98    \n",
       "14976  Insufficient; one of the following items requi...          NaN   \n",
       "14995                                           Approved      $10.60    \n",
       "15278                                             Denied       $0.00    \n",
       "15934  Insufficient; one of the following items requi...          NaN   \n",
       "16813                                             Denied       $0.00    \n",
       "17198                                             Denied       $0.00    \n",
       "19151                                           Approved      $15.00    \n",
       "21528                                            Settled     $261.72    \n",
       "22161                                             Denied       $0.00    \n",
       "23232                                           Approved      $25.49    \n",
       "24355                                             Denied       $0.00    \n",
       "24525                                            Settled     $158.82    \n",
       "24768                                             Denied       $0.00    \n",
       "24903                                            Settled     $208.47    \n",
       "25249                                             Denied       $0.00    \n",
       "25705                                            Settled     $198.09    \n",
       "25734                                             Denied       $0.00    \n",
       "26129                                             Denied       $0.00    \n",
       "26530                                           Approved      $10.00    \n",
       "27086                                             Denied       $0.00    \n",
       "27481                                            Settled      $50.00    \n",
       "27628                                             Denied       $0.00    \n",
       "27819                                             Denied       $0.00    \n",
       "27901                                             Denied       $0.00    \n",
       "28031                                             Denied       $0.00    \n",
       "28037                                             Denied       $0.00    \n",
       "29065                                             Denied       $0.00    \n",
       "29652                                             Denied       $0.00    \n",
       "31140                                             Denied       $0.00    \n",
       "31570                                             Denied       $0.00    \n",
       "31590                                             Denied       $0.00    \n",
       "31771                                             Denied       $0.00    \n",
       "33613                                             Denied       $0.00    \n",
       "\n",
       "           Disposition  \n",
       "13729  Approve in Full  \n",
       "14323             Deny  \n",
       "14856  Approve in Full  \n",
       "14976              NaN  \n",
       "14995  Approve in Full  \n",
       "15278             Deny  \n",
       "15934              NaN  \n",
       "16813             Deny  \n",
       "17198             Deny  \n",
       "19151  Approve in Full  \n",
       "21528           Settle  \n",
       "22161             Deny  \n",
       "23232  Approve in Full  \n",
       "24355             Deny  \n",
       "24525           Settle  \n",
       "24768             Deny  \n",
       "24903           Settle  \n",
       "25249             Deny  \n",
       "25705           Settle  \n",
       "25734             Deny  \n",
       "26129             Deny  \n",
       "26530  Approve in Full  \n",
       "27086             Deny  \n",
       "27481           Settle  \n",
       "27628             Deny  \n",
       "27819             Deny  \n",
       "27901             Deny  \n",
       "28031             Deny  \n",
       "28037             Deny  \n",
       "29065             Deny  \n",
       "29652             Deny  \n",
       "31140             Deny  \n",
       "31570             Deny  \n",
       "31590             Deny  \n",
       "31771             Deny  \n",
       "33613             Deny  "
      ]
     },
     "execution_count": 372,
     "metadata": {},
     "output_type": "execute_result"
    }
   ],
   "source": [
    "error"
   ]
  },
  {
   "cell_type": "markdown",
   "metadata": {},
   "source": [
    "Create a new feature of the day differences between claim received and the day of the incident called Day Differences, which contain the days that come from the Date Received column substracted by the Incident Date column (Date Received - Incident Date). We have this feature to see the time differences between when the claim made with the incident that happen."
   ]
  },
  {
   "cell_type": "code",
   "execution_count": 373,
   "metadata": {
    "ExecuteTime": {
     "end_time": "2019-10-12T18:26:01.106092Z",
     "start_time": "2019-10-12T18:25:58.980946Z"
    }
   },
   "outputs": [],
   "source": [
    "tsa['Day Differences'] = tsa['Date Received'] - tsa['Incident Date']\n",
    "tsa['Day Differences'] = tsa['Day Differences'].dt.days"
   ]
  },
  {
   "cell_type": "markdown",
   "metadata": {},
   "source": [
    "Lets try to visualize the distribution of the Day Differences with all the NaN just to be dropped first"
   ]
  },
  {
   "cell_type": "code",
   "execution_count": 374,
   "metadata": {},
   "outputs": [],
   "source": [
    "import seaborn as sns\n",
    "sns.set_style('darkgrid')"
   ]
  },
  {
   "cell_type": "code",
   "execution_count": 375,
   "metadata": {},
   "outputs": [],
   "source": [
    "dropnan = tsa.dropna()"
   ]
  },
  {
   "cell_type": "code",
   "execution_count": 376,
   "metadata": {},
   "outputs": [
    {
     "data": {
      "text/plain": [
       "Text(0.5, 0, 'Day Differences')"
      ]
     },
     "execution_count": 376,
     "metadata": {},
     "output_type": "execute_result"
    },
    {
     "data": {
      "image/png": "[encoded data removed]",
      "text/plain": [
       "<Figure size 576x576 with 1 Axes>"
      ]
     },
     "metadata": {},
     "output_type": "display_data"
    }
   ],
   "source": [
    "plt.figure(figsize = (8,8))\n",
    "sns.distplot(dropnan['Day Differences'])\n",
    "plt.title('Day Differences Distribution')\n",
    "plt.xlabel('Day Differences')"
   ]
  },
  {
   "cell_type": "markdown",
   "metadata": {},
   "source": [
    "If we seen it from the plot, it seems there is days that less than 0 and even over than 1000. Lets try to visualize them both"
   ]
  },
  {
   "cell_type": "code",
   "execution_count": 377,
   "metadata": {},
   "outputs": [
    {
     "data": {
      "text/plain": [
       "Text(0.5, 0, 'Day Differences')"
      ]
     },
     "execution_count": 377,
     "metadata": {},
     "output_type": "execute_result"
    },
    {
     "data": {
      "image/png": "[encoded data removed]",
      "text/plain": [
       "<Figure size 576x576 with 1 Axes>"
      ]
     },
     "metadata": {},
     "output_type": "display_data"
    }
   ],
   "source": [
    "plt.figure(figsize = (8,8))\n",
    "sns.distplot(tsa[tsa['Day Differences'] < 0]['Day Differences'])\n",
    "plt.xlabel('Day Differences')"
   ]
  },
  {
   "cell_type": "code",
   "execution_count": 378,
   "metadata": {},
   "outputs": [
    {
     "data": {
      "text/plain": [
       "Text(0.5, 0, 'Day Differences')"
      ]
     },
     "execution_count": 378,
     "metadata": {},
     "output_type": "execute_result"
    },
    {
     "data": {
      "image/png": "[encoded data removed]",
      "text/plain": [
       "<Figure size 576x576 with 1 Axes>"
      ]
     },
     "metadata": {},
     "output_type": "display_data"
    }
   ],
   "source": [
    "plt.figure(figsize = (8,8))\n",
    "sns.distplot(tsa[tsa['Day Differences'] > 1000]['Day Differences'])\n",
    "plt.xlabel('Day Differences')"
   ]
  },
  {
   "cell_type": "markdown",
   "metadata": {},
   "source": [
    "## Question\n",
    "\n",
    "Why do you think there is day that way more than thousand days differences, and why some day differences are less than 0? (claim was made before the incident is like someone predicting a future after all)."
   ]
  },
  {
   "cell_type": "code",
   "execution_count": 379,
   "metadata": {
    "scrolled": true
   },
   "outputs": [
    {
     "name": "stdout",
     "output_type": "stream",
     "text": [
      "Airport Name\n",
      "Less than 0\n",
      "Newark International Airport            21\n",
      "Los Angeles International Airport       21\n",
      "Miami International Airport             19\n",
      "Chicago O'Hare International Airport    19\n",
      "Phoenix Sky Harbor International        18\n",
      "                                        ..\n",
      "Rapid City Regional                      1\n",
      "Colorado Springs Municipal               1\n",
      "Ontario International                    1\n",
      "Portland International Jetport           1\n",
      "Joe Foss Field                           1\n",
      "Name: Airport Name, Length: 116, dtype: int64\n",
      "\n",
      "\n",
      "More than 1000\n",
      "Hartsfield-Jackson Atlanta International Airport    3\n",
      "John F. Kennedy International                       2\n",
      "Non TSA Airport (motor vehicle)                     2\n",
      "Seattle-Tacoma International                        2\n",
      "Norman Y Mineta San Jose International              1\n",
      "Colorado Springs Municipal                          1\n",
      "Middle Georgia Regional Airport                     1\n",
      "Washington Dulles International                     1\n",
      "Erie International                                  1\n",
      "Denver International Airport                        1\n",
      "Ft. Lauderdale-Hollywood International              1\n",
      "San Francisco International                         1\n",
      "Minneapolis/ St.Paul International Airport          1\n",
      "Ronald Reagan Washington National Airport           1\n",
      "Orlando International Airport                       1\n",
      "McCarran International                              1\n",
      "Kileen - Ft. Hood Regional                          1\n",
      "Chicago O'Hare International Airport                1\n",
      "Long Island McArthur; Islip                         1\n",
      "Baltimore/Washington Intl Thurgood Marshall         1\n",
      "San Diego International                             1\n",
      "TSA - Non-Specified Airport                         1\n",
      "Detroit Metropolitan Wayne County Airport           1\n",
      "El Paso International Airport                       1\n",
      "Name: Airport Name, dtype: int64\n",
      "\n",
      "\n",
      "Airline Name\n",
      "Less than 0\n",
      "American Airlines                  42\n",
      "UAL                                38\n",
      "Delta Air Lines                    35\n",
      "Continental Airlines               29\n",
      "USAir                              25\n",
      "Southwest Airlines                 24\n",
      "Northwest Airlines                 21\n",
      "Jet Blue                           11\n",
      "AirTran Airlines                   10\n",
      "Southwest Airlines                  9\n",
      "Frontier Airlines                   7\n",
      "UAL                                 6\n",
      "Alaska Airlines                     6\n",
      "Delta Air Lines                     6\n",
      "USAir                               5\n",
      "Spirit Airlines                     4\n",
      "Hawaiian Airlines                   3\n",
      "Qantus Airways                      3\n",
      "Continental Airlines                2\n",
      "Skywest Airlines Inc USA            2\n",
      "Westjet Airlines Ltd                2\n",
      "Alaska Airlines                     2\n",
      "American Airlines                   2\n",
      "Air France                          2\n",
      "American West                       2\n",
      "America West                        2\n",
      "USA 3000 (U5)                       2\n",
      "US Express                          1\n",
      "Malev Hungarian Airlines            1\n",
      "Air Canada                          1\n",
      "Scandinavian Airlines Systems       1\n",
      "Tower Air                           1\n",
      "Swiss Air                           1\n",
      "Cathay Pacific - CX                 1\n",
      "Southeast Airlines                  1\n",
      "American Eagle                      1\n",
      "Scandinavian Airlines Systems       1\n",
      "British Airways                     1\n",
      "British Airways                     1\n",
      "Air Tran Airlines(do not use)       1\n",
      "Mexicana                            1\n",
      "ATA Aerocondor                      1\n",
      "Sun Country Airlines Inc            1\n",
      "Aloha Airlines                      1\n",
      "Name: Airline Name, dtype: int64\n",
      "\n",
      "\n",
      "More than 1000\n",
      "Delta Air Lines         7\n",
      "UAL                     5\n",
      "American Airlines       2\n",
      "Northwest Airlines      2\n",
      "Continental Airlines    2\n",
      "American Eagle          1\n",
      "Frontier Airlines       1\n",
      "USAir                   1\n",
      "Jet Blue                1\n",
      "Southwest Airlines      1\n",
      "Name: Airline Name, dtype: int64\n",
      "\n",
      "\n",
      "Claim Type\n",
      "Less than 0\n",
      "Passenger Property Loss    249\n",
      "Property Damage            169\n",
      "Employee Loss (MPCECA)       5\n",
      "Passenger Theft              3\n",
      "Complaint                    1\n",
      "Personal Injury              1\n",
      "Name: Claim Type, dtype: int64\n",
      "\n",
      "\n",
      "More than 1000\n",
      "Passenger Property Loss    14\n",
      "Property Damage             9\n",
      "Personal Injury             3\n",
      "Motor Vehicle               1\n",
      "Passenger Theft             1\n",
      "Name: Claim Type, dtype: int64\n",
      "\n",
      "\n",
      "Claim Site\n",
      "Less than 0\n",
      "Checked Baggage    341\n",
      "Checkpoint          95\n",
      "Other                3\n",
      "Name: Claim Site, dtype: int64\n",
      "\n",
      "\n",
      "More than 1000\n",
      "Checked Baggage    18\n",
      "Checkpoint         10\n",
      "Other               1\n",
      "Motor Vehicle       1\n",
      "Name: Claim Site, dtype: int64\n",
      "\n",
      "\n",
      "Item\n",
      "Less than 0\n",
      "Other                                                                  92\n",
      "Luggage (all types including footlockers)                              55\n",
      "Clothing - Shoes; belts; accessories; etc.                             42\n",
      "Computer - Laptop                                                      29\n",
      "Jewelry - Fine                                                         27\n",
      "                                                                       ..\n",
      "Cameras - Digital; Other                                                1\n",
      "Cosmetics - Perfume; toilet articles; medicines; soaps; etc.; Locks     1\n",
      "Toys (game systems; cartridges; radio controlled cars; etc.)            1\n",
      "Sporting Equipment & Supplies                                           1\n",
      "Baggage/Cases/Purses; Travel Accessories                                1\n",
      "Name: Item, Length: 71, dtype: int64\n",
      "\n",
      "\n",
      "More than 1000\n",
      "Other                                                           6\n",
      "Clothing - Shoes; belts; accessories; etc.                      4\n",
      "Jewelry - Fine                                                  3\n",
      "Luggage (all types including footlockers)                       3\n",
      "Currency                                                        2\n",
      "Sporting Equipment & Supplies                                   1\n",
      "Photographic Film                                               1\n",
      "Eyeglasses - (including contact lenses)                         1\n",
      "Audio - Other (Phonograph; cassettes; etc)                      1\n",
      "Lighters - (cigar; cigerette; etc.); Other                      1\n",
      "PDA - Personal Data Assistants                                  1\n",
      "Medicines                                                       1\n",
      "Cosmetics - Perfume; toilet articles; medicines; soaps; etc.    1\n",
      "Locks                                                           1\n",
      "Name: Item, dtype: int64\n",
      "\n",
      "\n",
      "Claim Amount\n",
      "Less than 0\n",
      "$50.00        17\n",
      "$0.00         17\n",
      "$200.00       10\n",
      "$300.00       10\n",
      "$100.00        8\n",
      "              ..\n",
      "$174.98        1\n",
      "$42.64         1\n",
      "$743.00        1\n",
      "$3;250.00      1\n",
      "$164.86        1\n",
      "Name: Claim Amount, Length: 281, dtype: int64\n",
      "\n",
      "\n",
      "More than 1000\n",
      "$100.00           2\n",
      "$3;767.85         1\n",
      "$65.00            1\n",
      "$273.00           1\n",
      "$32.14            1\n",
      "$1;065.09         1\n",
      "$190.00           1\n",
      "$800.00           1\n",
      "$18.00            1\n",
      "$96.58            1\n",
      "$25.00            1\n",
      "$550.00           1\n",
      "$58.25            1\n",
      "$40.00            1\n",
      "$5;015.00         1\n",
      "$249.99           1\n",
      "$12.72            1\n",
      "$8.48             1\n",
      "$3;540.00         1\n",
      "$30.00            1\n",
      "$199.99           1\n",
      "$1;034;650.00     1\n",
      "$13.78            1\n",
      "$58;750.00        1\n",
      "$29.99            1\n",
      "$487.00           1\n",
      "Name: Claim Amount, dtype: int64\n",
      "\n",
      "\n",
      "Status\n",
      "Less than 0\n",
      "Denied                                                                                                                           190\n",
      "Approved                                                                                                                          90\n",
      "Settled                                                                                                                           73\n",
      "Canceled                                                                                                                          21\n",
      "Deny                                                                                                                              16\n",
      "Insufficient; one of the following items required: sum certain; statement of fact; signature; location of incident; and date.     13\n",
      "Approve in Full                                                                                                                   13\n",
      "Closed as a contractor claim                                                                                                       7\n",
      "Settle                                                                                                                             4\n",
      "In litigation                                                                                                                      1\n",
      "Name: Status, dtype: int64\n",
      "\n",
      "\n",
      "More than 1000\n",
      "Denied                                                                                                                           12\n",
      "Approved                                                                                                                          8\n",
      "Settled                                                                                                                           3\n",
      "Closed as a contractor claim                                                                                                      2\n",
      "Canceled                                                                                                                          2\n",
      "Insufficient; one of the following items required: sum certain; statement of fact; signature; location of incident; and date.     1\n",
      "Name: Status, dtype: int64\n",
      "\n",
      "\n",
      "Close Amount\n",
      "Less than 0\n",
      "$0.00       204\n",
      "$50.00       19\n",
      "$40.00        6\n",
      "$100.00       5\n",
      "$75.00        4\n",
      "           ... \n",
      "$12.00        1\n",
      "$602.35       1\n",
      "$531.00       1\n",
      "$220.61       1\n",
      "$216.83       1\n",
      "Name: Close Amount, Length: 123, dtype: int64\n",
      "\n",
      "\n",
      "More than 1000\n",
      "$0.00       16\n",
      "$243.50      1\n",
      "$58.25       1\n",
      "$40.00       1\n",
      "$65.00       1\n",
      "$30.00       1\n",
      "$12.72       1\n",
      "$100.00      1\n",
      "$90.00       1\n",
      "$71.25       1\n",
      "$273.00      1\n",
      "$8.48        1\n",
      "Name: Close Amount, dtype: int64\n",
      "\n",
      "\n",
      "Disposition\n",
      "Less than 0\n",
      "Deny               191\n",
      "Approve in Full     90\n",
      "Settle              73\n",
      "Name: Disposition, dtype: int64\n",
      "\n",
      "\n",
      "More than 1000\n",
      "Deny               12\n",
      "Approve in Full     8\n",
      "Settle              3\n",
      "Name: Disposition, dtype: int64\n",
      "\n",
      "\n"
     ]
    }
   ],
   "source": [
    "col = ['Airport Name', 'Airline Name', 'Claim Type', 'Claim Site', 'Item', 'Claim Amount', 'Status', 'Close Amount', 'Disposition']\n",
    "for i in col:\n",
    "    print(i)\n",
    "    print('Less than 0')\n",
    "    print(tsa[tsa['Day Differences'] < 0][i].value_counts())\n",
    "    print('\\n')\n",
    "    print('More than 1000')\n",
    "    print(tsa[tsa['Day Differences'] > 1000][i].value_counts())\n",
    "    print('\\n')"
   ]
  },
  {
   "cell_type": "markdown",
   "metadata": {},
   "source": [
    "It seems that Status and Disposition did not really affecting before 0 days difference and after 1000 days difference. For Claim Amount, before 0 days difference numbers are lower compared to after 1000 days difference numbers, might indicate items after 1000 days difference are more expensive and valuable. It seems that Item(s) that was damaged or lost was varied. Most Claim Site for both before 0 days difference and after 1000 days difference is at Checked Baggage site. Most Claim Type for both before 0 days difference and after 1000 days difference is Passenger Property Loss and followed by Property Damage. For Airlines, UAL and Delta Airlines appear for both before 0 days difference and after 1000 days difference. For Airport Name, interestingly most cases of before 0 days difference happened in big cities such as LA, Chicago, Miami, Phoenix and most cases of after 1000 days difference happened in smaller towns."
   ]
  },
  {
   "cell_type": "markdown",
   "metadata": {},
   "source": [
    "Thus, I would assume that before 0 days difference is caused by the officers that report damages or loss first before the passengers report it to the TSA. I would assume that the officers cause the damages or loss when loading before the flight even takeoff which usually happens in big city Airports. I also would also assume that after 1000 days difference can be caused by the location of Airport that most are located in small towns, I assume that the location of the Airport is a far from living place so people report the incident when they have time to go the Airport."
   ]
  },
  {
   "cell_type": "markdown",
   "metadata": {},
   "source": [
    "Remove the $ sign (some data need even more clean up by replacing the ; sign into . sign) from the Claim Amount columns and Close Amount columns, and change those columns datatype into float datatype"
   ]
  },
  {
   "cell_type": "code",
   "execution_count": 380,
   "metadata": {},
   "outputs": [],
   "source": [
    "tsa['Close Amount'] = tsa['Close Amount'].replace({'\\$':''}, regex = True)\n",
    "tsa['Close Amount'] = tsa['Close Amount'].replace({';':''}, regex = True)\n",
    "tsa['Close Amount'] = tsa['Close Amount'].apply(lambda x: float(x))\n",
    "tsa['Claim Amount'] = tsa['Claim Amount'].replace({'\\$':''}, regex = True)\n",
    "tsa['Claim Amount'] = tsa['Claim Amount'].replace({';':''}, regex = True)\n",
    "tsa['Claim Amount'] = tsa['Claim Amount'].apply(lambda x: float(x))"
   ]
  },
  {
   "cell_type": "markdown",
   "metadata": {},
   "source": [
    "Create a new columns called Amount Differences by substract the Claim Amount with Close Amount columns"
   ]
  },
  {
   "cell_type": "code",
   "execution_count": 384,
   "metadata": {},
   "outputs": [],
   "source": [
    "tsa['Amount Differences'] = tsa['Claim Amount'] - tsa['Close Amount']"
   ]
  },
  {
   "cell_type": "code",
   "execution_count": 385,
   "metadata": {},
   "outputs": [
    {
     "name": "stdout",
     "output_type": "stream",
     "text": [
      "<class 'pandas.core.frame.DataFrame'>\n",
      "RangeIndex: 51066 entries, 0 to 51065\n",
      "Data columns (total 15 columns):\n",
      "Claim Number          51066 non-null object\n",
      "Date Received         50996 non-null datetime64[ns]\n",
      "Incident Date         50496 non-null datetime64[ns]\n",
      "Airport Code          48915 non-null object\n",
      "Airport Name          48915 non-null object\n",
      "Airline Name          41470 non-null object\n",
      "Claim Type            49035 non-null object\n",
      "Claim Site            50817 non-null object\n",
      "Item                  48918 non-null object\n",
      "Claim Amount          46886 non-null float64\n",
      "Status                47877 non-null object\n",
      "Close Amount          33786 non-null float64\n",
      "Disposition           32846 non-null object\n",
      "Day Differences       50460 non-null float64\n",
      "Amount Differences    33470 non-null float64\n",
      "dtypes: datetime64[ns](2), float64(4), object(9)\n",
      "memory usage: 5.8+ MB\n"
     ]
    }
   ],
   "source": [
    "tsa.info()"
   ]
  },
  {
   "cell_type": "code",
   "execution_count": 386,
   "metadata": {},
   "outputs": [
    {
     "data": {
      "text/html": [
       "<div>\n",
       "<style scoped>\n",
       "    .dataframe tbody tr th:only-of-type {\n",
       "        vertical-align: middle;\n",
       "    }\n",
       "\n",
       "    .dataframe tbody tr th {\n",
       "        vertical-align: top;\n",
       "    }\n",
       "\n",
       "    .dataframe thead th {\n",
       "        text-align: right;\n",
       "    }\n",
       "</style>\n",
       "<table border=\"1\" class=\"dataframe\">\n",
       "  <thead>\n",
       "    <tr style=\"text-align: right;\">\n",
       "      <th></th>\n",
       "      <th>Claim Number</th>\n",
       "      <th>Date Received</th>\n",
       "      <th>Incident Date</th>\n",
       "      <th>Airport Code</th>\n",
       "      <th>Airport Name</th>\n",
       "      <th>Airline Name</th>\n",
       "      <th>Claim Type</th>\n",
       "      <th>Claim Site</th>\n",
       "      <th>Item</th>\n",
       "      <th>Claim Amount</th>\n",
       "      <th>Status</th>\n",
       "      <th>Close Amount</th>\n",
       "      <th>Disposition</th>\n",
       "      <th>Day Differences</th>\n",
       "      <th>Amount Differences</th>\n",
       "    </tr>\n",
       "  </thead>\n",
       "  <tbody>\n",
       "    <tr>\n",
       "      <td>0</td>\n",
       "      <td>0909816M</td>\n",
       "      <td>2002-02-07</td>\n",
       "      <td>2003-01-06</td>\n",
       "      <td>MIA</td>\n",
       "      <td>Miami International Airport</td>\n",
       "      <td>American Airlines</td>\n",
       "      <td>Property Damage</td>\n",
       "      <td>Checkpoint</td>\n",
       "      <td>Luggage (all types including footlockers)</td>\n",
       "      <td>50.00</td>\n",
       "      <td>Approved</td>\n",
       "      <td>50.0</td>\n",
       "      <td>Approve in Full</td>\n",
       "      <td>-333.0</td>\n",
       "      <td>0.00</td>\n",
       "    </tr>\n",
       "    <tr>\n",
       "      <td>1</td>\n",
       "      <td>14268</td>\n",
       "      <td>2002-06-20</td>\n",
       "      <td>2002-06-16</td>\n",
       "      <td>PHX</td>\n",
       "      <td>Phoenix Sky Harbor International</td>\n",
       "      <td>NaN</td>\n",
       "      <td>Property Damage</td>\n",
       "      <td>Checkpoint</td>\n",
       "      <td>Computer - Laptop</td>\n",
       "      <td>2270.09</td>\n",
       "      <td>Canceled</td>\n",
       "      <td>NaN</td>\n",
       "      <td>NaN</td>\n",
       "      <td>4.0</td>\n",
       "      <td>NaN</td>\n",
       "    </tr>\n",
       "    <tr>\n",
       "      <td>2</td>\n",
       "      <td>15242</td>\n",
       "      <td>2002-07-12</td>\n",
       "      <td>2002-05-31</td>\n",
       "      <td>BWI</td>\n",
       "      <td>Baltimore/Washington Intl Thurgood Marshall</td>\n",
       "      <td>American Airlines</td>\n",
       "      <td>NaN</td>\n",
       "      <td>Other</td>\n",
       "      <td>Luggage (all types including footlockers)</td>\n",
       "      <td>200.00</td>\n",
       "      <td>Denied</td>\n",
       "      <td>0.0</td>\n",
       "      <td>Deny</td>\n",
       "      <td>42.0</td>\n",
       "      <td>200.00</td>\n",
       "    </tr>\n",
       "    <tr>\n",
       "      <td>3</td>\n",
       "      <td>16759</td>\n",
       "      <td>2002-08-21</td>\n",
       "      <td>2002-07-12</td>\n",
       "      <td>BWI</td>\n",
       "      <td>Baltimore/Washington Intl Thurgood Marshall</td>\n",
       "      <td>Southwest Airlines</td>\n",
       "      <td>Passenger Property Loss</td>\n",
       "      <td>Checkpoint</td>\n",
       "      <td>Other</td>\n",
       "      <td>21.44</td>\n",
       "      <td>Approved</td>\n",
       "      <td>21.0</td>\n",
       "      <td>Approve in Full</td>\n",
       "      <td>40.0</td>\n",
       "      <td>0.44</td>\n",
       "    </tr>\n",
       "    <tr>\n",
       "      <td>4</td>\n",
       "      <td>17846</td>\n",
       "      <td>2002-09-09</td>\n",
       "      <td>2002-08-30</td>\n",
       "      <td>BOS</td>\n",
       "      <td>Boston (Logan) International Airport</td>\n",
       "      <td>NaN</td>\n",
       "      <td>Property Damage</td>\n",
       "      <td>Checkpoint</td>\n",
       "      <td>Luggage (all types including footlockers)</td>\n",
       "      <td>1832.22</td>\n",
       "      <td>Canceled</td>\n",
       "      <td>0.0</td>\n",
       "      <td>NaN</td>\n",
       "      <td>10.0</td>\n",
       "      <td>1832.22</td>\n",
       "    </tr>\n",
       "  </tbody>\n",
       "</table>\n",
       "</div>"
      ],
      "text/plain": [
       "  Claim Number Date Received Incident Date Airport Code  \\\n",
       "0     0909816M    2002-02-07    2003-01-06          MIA   \n",
       "1        14268    2002-06-20    2002-06-16          PHX   \n",
       "2        15242    2002-07-12    2002-05-31          BWI   \n",
       "3        16759    2002-08-21    2002-07-12          BWI   \n",
       "4        17846    2002-09-09    2002-08-30          BOS   \n",
       "\n",
       "                                  Airport Name        Airline Name  \\\n",
       "0                  Miami International Airport   American Airlines   \n",
       "1             Phoenix Sky Harbor International                 NaN   \n",
       "2  Baltimore/Washington Intl Thurgood Marshall   American Airlines   \n",
       "3  Baltimore/Washington Intl Thurgood Marshall  Southwest Airlines   \n",
       "4         Boston (Logan) International Airport                 NaN   \n",
       "\n",
       "                Claim Type  Claim Site  \\\n",
       "0          Property Damage  Checkpoint   \n",
       "1          Property Damage  Checkpoint   \n",
       "2                      NaN       Other   \n",
       "3  Passenger Property Loss  Checkpoint   \n",
       "4          Property Damage  Checkpoint   \n",
       "\n",
       "                                        Item  Claim Amount    Status  \\\n",
       "0  Luggage (all types including footlockers)         50.00  Approved   \n",
       "1                          Computer - Laptop       2270.09  Canceled   \n",
       "2  Luggage (all types including footlockers)        200.00    Denied   \n",
       "3                                      Other         21.44  Approved   \n",
       "4  Luggage (all types including footlockers)       1832.22  Canceled   \n",
       "\n",
       "   Close Amount      Disposition  Day Differences  Amount Differences  \n",
       "0          50.0  Approve in Full           -333.0                0.00  \n",
       "1           NaN              NaN              4.0                 NaN  \n",
       "2           0.0             Deny             42.0              200.00  \n",
       "3          21.0  Approve in Full             40.0                0.44  \n",
       "4           0.0              NaN             10.0             1832.22  "
      ]
     },
     "execution_count": 386,
     "metadata": {},
     "output_type": "execute_result"
    }
   ],
   "source": [
    "tsa.head(5)"
   ]
  },
  {
   "cell_type": "markdown",
   "metadata": {
    "ExecuteTime": {
     "end_time": "2019-10-12T13:39:07.676434Z",
     "start_time": "2019-10-12T13:39:07.603597Z"
    }
   },
   "source": [
    "Lets try to visualize it again similar to the Day Differences feature, but this time we would use the Amount Differences feature (still just drop the NaN first)"
   ]
  },
  {
   "cell_type": "code",
   "execution_count": 388,
   "metadata": {},
   "outputs": [],
   "source": [
    "dropnan = tsa.dropna()"
   ]
  },
  {
   "cell_type": "code",
   "execution_count": 389,
   "metadata": {},
   "outputs": [
    {
     "data": {
      "text/plain": [
       "Text(0.5, 0, 'Amount Differences')"
      ]
     },
     "execution_count": 389,
     "metadata": {},
     "output_type": "execute_result"
    },
    {
     "data": {
      "image/png": "[encoded data removed]",
      "text/plain": [
       "<Figure size 576x576 with 1 Axes>"
      ]
     },
     "metadata": {},
     "output_type": "display_data"
    }
   ],
   "source": [
    "plt.figure(figsize = (8,8))\n",
    "sns.distplot(dropnan['Amount Differences'])\n",
    "plt.title('Amount Differences Distribution')\n",
    "plt.xlabel('Amount Differences')"
   ]
  },
  {
   "cell_type": "markdown",
   "metadata": {},
   "source": [
    "There is seems a differences in number that was way far. This time, lets use the Interquartile range (IQR) method to find the datapoint that seems to be an outlier based on the Amount Differences column, show the dataframe, and lets describe the Claim Amount and Close Amount column of the outlier dataframe based on the Amount Differences column"
   ]
  },
  {
   "cell_type": "code",
   "execution_count": 392,
   "metadata": {},
   "outputs": [],
   "source": [
    "Q1_ad = tsa['Amount Differences'].describe()['25%']\n",
    "Q3_ad = tsa['Amount Differences'].describe()['75%']\n",
    "IQR = Q3_ad - Q1_ad"
   ]
  },
  {
   "cell_type": "code",
   "execution_count": 403,
   "metadata": {
    "scrolled": false
   },
   "outputs": [],
   "source": [
    "# Q1 equal to zero\n",
    "out_ad = tsa[(tsa['Amount Differences'] > Q3_ad + (1.5 * IQR))]\n",
    "ad = tsa[(tsa['Amount Differences'] <= Q3_ad + (1.5 * IQR))]"
   ]
  },
  {
   "cell_type": "code",
   "execution_count": 615,
   "metadata": {},
   "outputs": [
    {
     "data": {
      "text/html": [
       "<div>\n",
       "<style scoped>\n",
       "    .dataframe tbody tr th:only-of-type {\n",
       "        vertical-align: middle;\n",
       "    }\n",
       "\n",
       "    .dataframe tbody tr th {\n",
       "        vertical-align: top;\n",
       "    }\n",
       "\n",
       "    .dataframe thead th {\n",
       "        text-align: right;\n",
       "    }\n",
       "</style>\n",
       "<table border=\"1\" class=\"dataframe\">\n",
       "  <thead>\n",
       "    <tr style=\"text-align: right;\">\n",
       "      <th></th>\n",
       "      <th>Claim Number</th>\n",
       "      <th>Date Received</th>\n",
       "      <th>Incident Date</th>\n",
       "      <th>Airport Code</th>\n",
       "      <th>Airport Name</th>\n",
       "      <th>Airline Name</th>\n",
       "      <th>Claim Type</th>\n",
       "      <th>Claim Site</th>\n",
       "      <th>Item</th>\n",
       "      <th>Claim Amount</th>\n",
       "      <th>Status</th>\n",
       "      <th>Close Amount</th>\n",
       "      <th>Disposition</th>\n",
       "      <th>Day Differences</th>\n",
       "      <th>Amount Differences</th>\n",
       "    </tr>\n",
       "  </thead>\n",
       "  <tbody>\n",
       "    <tr>\n",
       "      <td>4</td>\n",
       "      <td>17846</td>\n",
       "      <td>2002-09-09</td>\n",
       "      <td>2002-08-30</td>\n",
       "      <td>BOS</td>\n",
       "      <td>Boston (Logan) International Airport</td>\n",
       "      <td>NaN</td>\n",
       "      <td>Property Damage</td>\n",
       "      <td>Checkpoint</td>\n",
       "      <td>Luggage (all types including footlockers)</td>\n",
       "      <td>1832.22</td>\n",
       "      <td>Canceled</td>\n",
       "      <td>0.00</td>\n",
       "      <td>NaN</td>\n",
       "      <td>10.0</td>\n",
       "      <td>1832.22</td>\n",
       "    </tr>\n",
       "    <tr>\n",
       "      <td>13</td>\n",
       "      <td>19133</td>\n",
       "      <td>2002-10-02</td>\n",
       "      <td>2002-08-22</td>\n",
       "      <td>CLE</td>\n",
       "      <td>Cleveland Hopkins International</td>\n",
       "      <td>Northwest Airlines</td>\n",
       "      <td>NaN</td>\n",
       "      <td>Other</td>\n",
       "      <td>Computer - Laptop</td>\n",
       "      <td>2000.00</td>\n",
       "      <td>Denied</td>\n",
       "      <td>0.00</td>\n",
       "      <td>Deny</td>\n",
       "      <td>41.0</td>\n",
       "      <td>2000.00</td>\n",
       "    </tr>\n",
       "    <tr>\n",
       "      <td>21</td>\n",
       "      <td>18614</td>\n",
       "      <td>2002-10-17</td>\n",
       "      <td>2002-09-14</td>\n",
       "      <td>MCO</td>\n",
       "      <td>Orlando International Airport</td>\n",
       "      <td>American Airlines</td>\n",
       "      <td>Property Damage</td>\n",
       "      <td>Checkpoint</td>\n",
       "      <td>Computer - Laptop</td>\n",
       "      <td>2000.00</td>\n",
       "      <td>Settled</td>\n",
       "      <td>600.00</td>\n",
       "      <td>Settle</td>\n",
       "      <td>33.0</td>\n",
       "      <td>1400.00</td>\n",
       "    </tr>\n",
       "    <tr>\n",
       "      <td>23</td>\n",
       "      <td>18356</td>\n",
       "      <td>2002-10-23</td>\n",
       "      <td>2002-09-18</td>\n",
       "      <td>LGA</td>\n",
       "      <td>LaGuardia</td>\n",
       "      <td>NaN</td>\n",
       "      <td>NaN</td>\n",
       "      <td>Checkpoint</td>\n",
       "      <td>Computer - Laptop</td>\n",
       "      <td>1801.99</td>\n",
       "      <td>Settled</td>\n",
       "      <td>291.67</td>\n",
       "      <td>Settle</td>\n",
       "      <td>35.0</td>\n",
       "      <td>1510.32</td>\n",
       "    </tr>\n",
       "    <tr>\n",
       "      <td>27</td>\n",
       "      <td>21817</td>\n",
       "      <td>2002-10-29</td>\n",
       "      <td>2002-10-05</td>\n",
       "      <td>MCO</td>\n",
       "      <td>Orlando International Airport</td>\n",
       "      <td>Delta Air Lines</td>\n",
       "      <td>NaN</td>\n",
       "      <td>Other</td>\n",
       "      <td>Other</td>\n",
       "      <td>7500.00</td>\n",
       "      <td>Denied</td>\n",
       "      <td>0.00</td>\n",
       "      <td>Deny</td>\n",
       "      <td>24.0</td>\n",
       "      <td>7500.00</td>\n",
       "    </tr>\n",
       "  </tbody>\n",
       "</table>\n",
       "</div>"
      ],
      "text/plain": [
       "   Claim Number Date Received Incident Date Airport Code  \\\n",
       "4         17846    2002-09-09    2002-08-30          BOS   \n",
       "13        19133    2002-10-02    2002-08-22          CLE   \n",
       "21        18614    2002-10-17    2002-09-14          MCO   \n",
       "23        18356    2002-10-23    2002-09-18          LGA   \n",
       "27        21817    2002-10-29    2002-10-05          MCO   \n",
       "\n",
       "                            Airport Name        Airline Name       Claim Type  \\\n",
       "4   Boston (Logan) International Airport                 NaN  Property Damage   \n",
       "13       Cleveland Hopkins International  Northwest Airlines              NaN   \n",
       "21         Orlando International Airport   American Airlines  Property Damage   \n",
       "23                             LaGuardia                 NaN              NaN   \n",
       "27         Orlando International Airport     Delta Air Lines              NaN   \n",
       "\n",
       "    Claim Site                                       Item  Claim Amount  \\\n",
       "4   Checkpoint  Luggage (all types including footlockers)       1832.22   \n",
       "13       Other                          Computer - Laptop       2000.00   \n",
       "21  Checkpoint                          Computer - Laptop       2000.00   \n",
       "23  Checkpoint                          Computer - Laptop       1801.99   \n",
       "27       Other                                      Other       7500.00   \n",
       "\n",
       "      Status  Close Amount Disposition  Day Differences  Amount Differences  \n",
       "4   Canceled          0.00         NaN             10.0             1832.22  \n",
       "13    Denied          0.00        Deny             41.0             2000.00  \n",
       "21   Settled        600.00      Settle             33.0             1400.00  \n",
       "23   Settled        291.67      Settle             35.0             1510.32  \n",
       "27    Denied          0.00        Deny             24.0             7500.00  "
      ]
     },
     "execution_count": 615,
     "metadata": {},
     "output_type": "execute_result"
    }
   ],
   "source": [
    "out_ad.head()"
   ]
  },
  {
   "cell_type": "code",
   "execution_count": 401,
   "metadata": {},
   "outputs": [
    {
     "data": {
      "text/plain": [
       "count    4.103000e+03\n",
       "mean     4.164579e+04\n",
       "std      1.954354e+06\n",
       "min      8.510100e+02\n",
       "25%      1.214375e+03\n",
       "50%      1.821750e+03\n",
       "75%      3.000000e+03\n",
       "max      1.250000e+08\n",
       "Name: Claim Amount, dtype: float64"
      ]
     },
     "execution_count": 401,
     "metadata": {},
     "output_type": "execute_result"
    }
   ],
   "source": [
    "out_ad['Claim Amount'].describe()"
   ]
  },
  {
   "cell_type": "code",
   "execution_count": 402,
   "metadata": {
    "ExecuteTime": {
     "end_time": "2019-10-12T18:26:03.861909Z",
     "start_time": "2019-10-12T18:26:03.852945Z"
    }
   },
   "outputs": [
    {
     "data": {
      "text/plain": [
       "count     4103.000000\n",
       "mean       114.613646\n",
       "std        686.521806\n",
       "min          0.000000\n",
       "25%          0.000000\n",
       "50%          0.000000\n",
       "75%          0.000000\n",
       "max      20000.000000\n",
       "Name: Close Amount, dtype: float64"
      ]
     },
     "execution_count": 402,
     "metadata": {},
     "output_type": "execute_result"
    }
   ],
   "source": [
    "out_ad['Close Amount'].describe()"
   ]
  },
  {
   "cell_type": "markdown",
   "metadata": {},
   "source": [
    "It seems that Claim Amount feature really affecting lot of the differences that happen as 75% outlier data that in the Close Amount feature is still 0.\n",
    "\n",
    "## Question\n",
    "\n",
    "I assume that many of this big differences happen because these people tend to request for bigger money than what it should be. Do you agree or disagree with my assumption (With an assumption that not outlier is have normal amount differences and outlier have a really big amount differences)? why? Try to explain it with the data "
   ]
  },
  {
   "cell_type": "code",
   "execution_count": 433,
   "metadata": {},
   "outputs": [
    {
     "data": {
      "text/plain": [
       "Text(0.5, 1.0, 'Close Amount Outlier data')"
      ]
     },
     "execution_count": 433,
     "metadata": {},
     "output_type": "execute_result"
    },
    {
     "data": {
      "image/png": "[encoded data removed]",
      "text/plain": [
       "<Figure size 432x288 with 1 Axes>"
      ]
     },
     "metadata": {},
     "output_type": "display_data"
    },
    {
     "data": {
      "image/png": "[encoded data removed]",
      "text/plain": [
       "<Figure size 432x288 with 1 Axes>"
      ]
     },
     "metadata": {},
     "output_type": "display_data"
    }
   ],
   "source": [
    "import statsmodels.api as sm\n",
    "import pylab\n",
    "\n",
    "sm.qqplot(out_ad['Claim Amount'], line = '45')\n",
    "plt.title('Claim Amount Outlier data')\n",
    "\n",
    "sm.qqplot(out_ad['Close Amount'], line = '45')\n",
    "plt.title('Close Amount Outlier data')"
   ]
  },
  {
   "cell_type": "code",
   "execution_count": 434,
   "metadata": {},
   "outputs": [],
   "source": [
    "from scipy.stats import shapiro, normaltest, anderson\n",
    "def try_normal(data):\n",
    "    result = {'Anderson' : {i:j for i,j in zip(anderson(data)[2], anderson(data)[1])}, 'Shapiro': shapiro(data)[1], \n",
    "     'K^2': normaltest(data)[1]}\n",
    "    result['Anderson']['stat'] = anderson(data)[0]\n",
    "    return result"
   ]
  },
  {
   "cell_type": "code",
   "execution_count": 435,
   "metadata": {},
   "outputs": [
    {
     "data": {
      "text/plain": [
       "{'Anderson': {15.0: 0.575,\n",
       "  10.0: 0.655,\n",
       "  5.0: 0.786,\n",
       "  2.5: 0.917,\n",
       "  1.0: 1.091,\n",
       "  'stat': 1559.8322253694841},\n",
       " 'Shapiro': 0.0,\n",
       " 'K^2': 0.0}"
      ]
     },
     "execution_count": 435,
     "metadata": {},
     "output_type": "execute_result"
    }
   ],
   "source": [
    "try_normal(out_ad['Claim Amount'])"
   ]
  },
  {
   "cell_type": "code",
   "execution_count": 436,
   "metadata": {
    "scrolled": true
   },
   "outputs": [
    {
     "data": {
      "text/plain": [
       "{'Anderson': {15.0: 0.575,\n",
       "  10.0: 0.655,\n",
       "  5.0: 0.786,\n",
       "  2.5: 0.917,\n",
       "  1.0: 1.091,\n",
       "  'stat': 1244.9229604344491},\n",
       " 'Shapiro': 0.0,\n",
       " 'K^2': 0.0}"
      ]
     },
     "execution_count": 436,
     "metadata": {},
     "output_type": "execute_result"
    }
   ],
   "source": [
    "try_normal(out_ad['Close Amount'])"
   ]
  },
  {
   "cell_type": "markdown",
   "metadata": {},
   "source": [
    "Both Claim dan Close Amount in outlier data are not normally distributed."
   ]
  },
  {
   "cell_type": "code",
   "execution_count": 447,
   "metadata": {},
   "outputs": [
    {
     "data": {
      "text/plain": [
       "Text(0.5, 1.0, 'Close Amount Outlier data')"
      ]
     },
     "execution_count": 447,
     "metadata": {},
     "output_type": "execute_result"
    },
    {
     "data": {
      "image/png": "[encoded data removed]",
      "text/plain": [
       "<Figure size 432x288 with 1 Axes>"
      ]
     },
     "metadata": {},
     "output_type": "display_data"
    },
    {
     "data": {
      "image/png": "[encoded data removed]",
      "text/plain": [
       "<Figure size 432x288 with 1 Axes>"
      ]
     },
     "metadata": {},
     "output_type": "display_data"
    }
   ],
   "source": [
    "sm.qqplot(ad['Claim Amount'], line = '45')\n",
    "plt.title('Claim Amount Outlier data')\n",
    "\n",
    "sm.qqplot(ad['Close Amount'], line = '45')\n",
    "plt.title('Close Amount Outlier data')"
   ]
  },
  {
   "cell_type": "code",
   "execution_count": 441,
   "metadata": {},
   "outputs": [
    {
     "name": "stderr",
     "output_type": "stream",
     "text": [
      "C:\\Users\\Nicholas\\Anaconda3\\lib\\site-packages\\scipy\\stats\\morestats.py:1660: UserWarning: p-value may not be accurate for N > 5000.\n",
      "  warnings.warn(\"p-value may not be accurate for N > 5000.\")\n"
     ]
    },
    {
     "data": {
      "text/plain": [
       "{'Anderson': {15.0: 0.576,\n",
       "  10.0: 0.656,\n",
       "  5.0: 0.787,\n",
       "  2.5: 0.918,\n",
       "  1.0: 1.092,\n",
       "  'stat': 8141.234927112389},\n",
       " 'Shapiro': 0.0,\n",
       " 'K^2': 0.0}"
      ]
     },
     "execution_count": 441,
     "metadata": {},
     "output_type": "execute_result"
    }
   ],
   "source": [
    "try_normal(ad['Claim Amount'])"
   ]
  },
  {
   "cell_type": "code",
   "execution_count": 442,
   "metadata": {
    "scrolled": true
   },
   "outputs": [
    {
     "data": {
      "text/plain": [
       "{'Anderson': {15.0: 0.576,\n",
       "  10.0: 0.656,\n",
       "  5.0: 0.787,\n",
       "  2.5: 0.918,\n",
       "  1.0: 1.092,\n",
       "  'stat': 9617.577509332841},\n",
       " 'Shapiro': 0.0,\n",
       " 'K^2': 0.0}"
      ]
     },
     "execution_count": 442,
     "metadata": {},
     "output_type": "execute_result"
    }
   ],
   "source": [
    "try_normal(ad['Close Amount'])"
   ]
  },
  {
   "cell_type": "markdown",
   "metadata": {},
   "source": [
    "Both Claim dan Close Amount in not outlier data are not normally distributed."
   ]
  },
  {
   "cell_type": "code",
   "execution_count": 456,
   "metadata": {},
   "outputs": [
    {
     "data": {
      "text/plain": [
       "1821.75"
      ]
     },
     "execution_count": 456,
     "metadata": {},
     "output_type": "execute_result"
    }
   ],
   "source": [
    "out_ad['Claim Amount'].median()"
   ]
  },
  {
   "cell_type": "code",
   "execution_count": 458,
   "metadata": {},
   "outputs": [
    {
     "data": {
      "text/plain": [
       "0.0"
      ]
     },
     "execution_count": 458,
     "metadata": {},
     "output_type": "execute_result"
    }
   ],
   "source": [
    "out_ad['Close Amount'].median()"
   ]
  },
  {
   "cell_type": "code",
   "execution_count": 459,
   "metadata": {},
   "outputs": [
    {
     "data": {
      "text/plain": [
       "139.99"
      ]
     },
     "execution_count": 459,
     "metadata": {},
     "output_type": "execute_result"
    }
   ],
   "source": [
    "ad['Claim Amount'].median()"
   ]
  },
  {
   "cell_type": "code",
   "execution_count": 460,
   "metadata": {},
   "outputs": [
    {
     "data": {
      "text/plain": [
       "10.0"
      ]
     },
     "execution_count": 460,
     "metadata": {},
     "output_type": "execute_result"
    }
   ],
   "source": [
    "ad['Close Amount'].median()"
   ]
  },
  {
   "cell_type": "markdown",
   "metadata": {},
   "source": [
    "I look at the median of Claim Amount and Close Amount in the outlier data and the non-outlier data (because both are not normally distributed for both data), The difference between median is much bigger for outlier data compared to not-outlier data so I agree with your assumption that not outlier is have normal amount differences and outlier have a really big amount differences. I'll try to use statistic to see and check whether the assumption is correct statistically."
   ]
  },
  {
   "cell_type": "code",
   "execution_count": 437,
   "metadata": {},
   "outputs": [],
   "source": [
    "from scipy.stats import levene, bartlett, kruskal"
   ]
  },
  {
   "cell_type": "code",
   "execution_count": 461,
   "metadata": {},
   "outputs": [
    {
     "data": {
      "text/plain": [
       "LeveneResult(statistic=1.7423510662913355, pvalue=0.18687803519500246)"
      ]
     },
     "execution_count": 461,
     "metadata": {},
     "output_type": "execute_result"
    }
   ],
   "source": [
    "levene(out_ad['Claim Amount'], out_ad['Close Amount'])"
   ]
  },
  {
   "cell_type": "markdown",
   "metadata": {},
   "source": [
    "Equal Variance"
   ]
  },
  {
   "cell_type": "code",
   "execution_count": 462,
   "metadata": {
    "scrolled": true
   },
   "outputs": [
    {
     "name": "stdout",
     "output_type": "stream",
     "text": [
      "U-Statistic: 261430.5\n",
      "P-Value: 0.0\n"
     ]
    }
   ],
   "source": [
    "from scipy.stats import mannwhitneyu\n",
    "result = list(mannwhitneyu(out_ad['Claim Amount'], out_ad['Close Amount']))\n",
    "print('U-Statistic:', result[0])\n",
    "print('P-Value:', result[1])"
   ]
  },
  {
   "cell_type": "markdown",
   "metadata": {},
   "source": [
    "U-Statistic is very big, There must be a big difference between Claim Amount and Close Amount"
   ]
  },
  {
   "cell_type": "code",
   "execution_count": 463,
   "metadata": {},
   "outputs": [
    {
     "data": {
      "text/plain": [
       "LeveneResult(statistic=44.04776745683587, pvalue=3.2323535819784387e-11)"
      ]
     },
     "execution_count": 463,
     "metadata": {},
     "output_type": "execute_result"
    }
   ],
   "source": [
    "levene(ad['Claim Amount'], ad['Close Amount'])"
   ]
  },
  {
   "cell_type": "markdown",
   "metadata": {},
   "source": [
    "Not Equal Variance"
   ]
  },
  {
   "cell_type": "code",
   "execution_count": 464,
   "metadata": {},
   "outputs": [
    {
     "name": "stdout",
     "output_type": "stream",
     "text": [
      "U-Statistic: 174045689.0\n",
      "P-Value: 0.0\n"
     ]
    }
   ],
   "source": [
    "from scipy.stats import mannwhitneyu\n",
    "result = list(mannwhitneyu(ad['Claim Amount'], ad['Close Amount']))\n",
    "print('U-Statistic:', result[0])\n",
    "print('P-Value:', result[1])"
   ]
  },
  {
   "cell_type": "markdown",
   "metadata": {},
   "source": [
    "U-Statistic is very big and much bigger than outlier, The not-outlier difference must be bigger than outlier difference. "
   ]
  },
  {
   "cell_type": "markdown",
   "metadata": {},
   "source": [
    "It seems that according to the statistic, the difference in not-outlier data is much bigger than outlier data. So our assumption is proven incorrect. This must be caused by the bigger diffence of skewness between Claim and Close Amount in not-outlier data compared to outlier data."
   ]
  },
  {
   "cell_type": "markdown",
   "metadata": {},
   "source": [
    "## Analysis\n",
    "\n",
    "We have try to cleaning some of the data that we have, and now we could try to done few analysis from the data we had. Try to answer this following question.\n",
    "\n",
    "### Question\n",
    "\n",
    "1. Is there Any relationship between the Airport and/or the Airline with the number of the claim that happen and the Claim Type? Also why is there a NaN in the Claim Type column?"
   ]
  },
  {
   "cell_type": "code",
   "execution_count": 567,
   "metadata": {},
   "outputs": [
    {
     "data": {
      "text/plain": [
       "John F. Kennedy International           2286\n",
       "Los Angeles International Airport       1813\n",
       "Newark International Airport            1747\n",
       "Chicago O'Hare International Airport    1712\n",
       "Orlando International Airport           1633\n",
       "                                        ... \n",
       "Charles Shulz-Sonoma County                1\n",
       "Houghton County Memorial                   1\n",
       "Mercer County; Bluefield                   1\n",
       "Dodge City Regional                        1\n",
       "Sloulin Field International                1\n",
       "Name: Airport Name, Length: 418, dtype: int64"
      ]
     },
     "execution_count": 567,
     "metadata": {},
     "output_type": "execute_result"
    }
   ],
   "source": [
    "tsa['Airport Name'].value_counts()"
   ]
  },
  {
   "cell_type": "code",
   "execution_count": 568,
   "metadata": {},
   "outputs": [
    {
     "data": {
      "text/plain": [
       "Passenger Property Loss    1607\n",
       "Property Damage             599\n",
       "Personal Injury              16\n",
       "Passenger Theft               6\n",
       "Motor Vehicle                 3\n",
       "Employee Loss (MPCECA)        2\n",
       "Name: Claim Type, dtype: int64"
      ]
     },
     "execution_count": 568,
     "metadata": {},
     "output_type": "execute_result"
    }
   ],
   "source": [
    "tsa[tsa['Airport Name'] == 'John F. Kennedy International']['Claim Type'].value_counts()"
   ]
  },
  {
   "cell_type": "code",
   "execution_count": 569,
   "metadata": {},
   "outputs": [
    {
     "data": {
      "text/plain": [
       "Passenger Property Loss    29713\n",
       "Property Damage            18590\n",
       "Personal Injury              394\n",
       "Passenger Theft              115\n",
       "Employee Loss (MPCECA)       114\n",
       "Motor Vehicle                 96\n",
       "Complaint                     13\n",
       "Name: Claim Type, dtype: int64"
      ]
     },
     "execution_count": 569,
     "metadata": {},
     "output_type": "execute_result"
    }
   ],
   "source": [
    "tsa['Claim Type'].value_counts()"
   ]
  },
  {
   "cell_type": "markdown",
   "metadata": {},
   "source": [
    "I don't really see the connection or relationship between Airport and Claim Type because the type of claim that dominates one airport is similar to the type of claim that dominates the whole data."
   ]
  },
  {
   "cell_type": "code",
   "execution_count": 513,
   "metadata": {},
   "outputs": [
    {
     "data": {
      "text/html": [
       "<div>\n",
       "<style scoped>\n",
       "    .dataframe tbody tr th:only-of-type {\n",
       "        vertical-align: middle;\n",
       "    }\n",
       "\n",
       "    .dataframe tbody tr th {\n",
       "        vertical-align: top;\n",
       "    }\n",
       "\n",
       "    .dataframe thead th {\n",
       "        text-align: right;\n",
       "    }\n",
       "</style>\n",
       "<table border=\"1\" class=\"dataframe\">\n",
       "  <thead>\n",
       "    <tr style=\"text-align: right;\">\n",
       "      <th></th>\n",
       "      <th>Airport Name</th>\n",
       "      <th>Claim Type</th>\n",
       "    </tr>\n",
       "  </thead>\n",
       "  <tbody>\n",
       "    <tr>\n",
       "      <td>Airport Name</td>\n",
       "      <td>1.000000</td>\n",
       "      <td>0.042477</td>\n",
       "    </tr>\n",
       "    <tr>\n",
       "      <td>Claim Type</td>\n",
       "      <td>0.042477</td>\n",
       "      <td>1.000000</td>\n",
       "    </tr>\n",
       "  </tbody>\n",
       "</table>\n",
       "</div>"
      ],
      "text/plain": [
       "              Airport Name  Claim Type\n",
       "Airport Name      1.000000    0.042477\n",
       "Claim Type        0.042477    1.000000"
      ]
     },
     "execution_count": 513,
     "metadata": {},
     "output_type": "execute_result"
    }
   ],
   "source": [
    "tsa[['Airport Name','Claim Type']].apply(lambda x: x.factorize()[0]).corr('spearman')"
   ]
  },
  {
   "cell_type": "code",
   "execution_count": 514,
   "metadata": {
    "scrolled": false
   },
   "outputs": [
    {
     "data": {
      "text/html": [
       "<div>\n",
       "<style scoped>\n",
       "    .dataframe tbody tr th:only-of-type {\n",
       "        vertical-align: middle;\n",
       "    }\n",
       "\n",
       "    .dataframe tbody tr th {\n",
       "        vertical-align: top;\n",
       "    }\n",
       "\n",
       "    .dataframe thead th {\n",
       "        text-align: right;\n",
       "    }\n",
       "</style>\n",
       "<table border=\"1\" class=\"dataframe\">\n",
       "  <thead>\n",
       "    <tr style=\"text-align: right;\">\n",
       "      <th></th>\n",
       "      <th>Airport Name</th>\n",
       "      <th>Claim Type</th>\n",
       "    </tr>\n",
       "  </thead>\n",
       "  <tbody>\n",
       "    <tr>\n",
       "      <td>Airport Name</td>\n",
       "      <td>1.000000</td>\n",
       "      <td>0.059168</td>\n",
       "    </tr>\n",
       "    <tr>\n",
       "      <td>Claim Type</td>\n",
       "      <td>0.059168</td>\n",
       "      <td>1.000000</td>\n",
       "    </tr>\n",
       "  </tbody>\n",
       "</table>\n",
       "</div>"
      ],
      "text/plain": [
       "              Airport Name  Claim Type\n",
       "Airport Name      1.000000    0.059168\n",
       "Claim Type        0.059168    1.000000"
      ]
     },
     "execution_count": 514,
     "metadata": {},
     "output_type": "execute_result"
    }
   ],
   "source": [
    "tsa[['Airport Name','Claim Type']].apply(lambda x: x.factorize()[0]).corr('pearson')"
   ]
  },
  {
   "cell_type": "markdown",
   "metadata": {},
   "source": [
    "Using factorize, it seems that there is no correlation between Airport Name and Claim Type."
   ]
  },
  {
   "cell_type": "code",
   "execution_count": 579,
   "metadata": {},
   "outputs": [
    {
     "data": {
      "text/plain": [
       "American Airlines             4377\n",
       "Delta Air Lines               4371\n",
       "UAL                           3507\n",
       "Southwest Airlines            3258\n",
       "Continental Airlines          2363\n",
       "                              ... \n",
       "Aerosvit Airlines                1\n",
       "Arik Airlines                    1\n",
       "Royal Air Maroc                  1\n",
       "Malev Hungarian Airlines         1\n",
       "Liat Airlines                    1\n",
       "Name: Airline Name, Length: 242, dtype: int64"
      ]
     },
     "execution_count": 579,
     "metadata": {},
     "output_type": "execute_result"
    }
   ],
   "source": [
    "tsa['Airline Name'].value_counts()"
   ]
  },
  {
   "cell_type": "code",
   "execution_count": 580,
   "metadata": {},
   "outputs": [
    {
     "data": {
      "text/plain": [
       "Passenger Property Loss    2646\n",
       "Property Damage            1507\n",
       "Personal Injury              24\n",
       "Passenger Theft              17\n",
       "Employee Loss (MPCECA)       16\n",
       "Complaint                     1\n",
       "Name: Claim Type, dtype: int64"
      ]
     },
     "execution_count": 580,
     "metadata": {},
     "output_type": "execute_result"
    }
   ],
   "source": [
    "tsa[tsa['Airline Name'] == 'American Airlines']['Claim Type'].value_counts()"
   ]
  },
  {
   "cell_type": "markdown",
   "metadata": {},
   "source": [
    "I also don't really see the connection or relationship between Airline and Claim Type because the type of claim that dominates one airline is similar to the type of claim that dominates the whole data."
   ]
  },
  {
   "cell_type": "code",
   "execution_count": 522,
   "metadata": {},
   "outputs": [
    {
     "data": {
      "text/html": [
       "<div>\n",
       "<style scoped>\n",
       "    .dataframe tbody tr th:only-of-type {\n",
       "        vertical-align: middle;\n",
       "    }\n",
       "\n",
       "    .dataframe tbody tr th {\n",
       "        vertical-align: top;\n",
       "    }\n",
       "\n",
       "    .dataframe thead th {\n",
       "        text-align: right;\n",
       "    }\n",
       "</style>\n",
       "<table border=\"1\" class=\"dataframe\">\n",
       "  <thead>\n",
       "    <tr style=\"text-align: right;\">\n",
       "      <th></th>\n",
       "      <th>Airline Name</th>\n",
       "      <th>Claim Type</th>\n",
       "    </tr>\n",
       "  </thead>\n",
       "  <tbody>\n",
       "    <tr>\n",
       "      <td>Airline Name</td>\n",
       "      <td>1.00000</td>\n",
       "      <td>0.11976</td>\n",
       "    </tr>\n",
       "    <tr>\n",
       "      <td>Claim Type</td>\n",
       "      <td>0.11976</td>\n",
       "      <td>1.00000</td>\n",
       "    </tr>\n",
       "  </tbody>\n",
       "</table>\n",
       "</div>"
      ],
      "text/plain": [
       "              Airline Name  Claim Type\n",
       "Airline Name       1.00000     0.11976\n",
       "Claim Type         0.11976     1.00000"
      ]
     },
     "execution_count": 522,
     "metadata": {},
     "output_type": "execute_result"
    }
   ],
   "source": [
    "tsa[['Airline Name','Claim Type']].apply(lambda x: x.factorize()[0]).corr('spearman')"
   ]
  },
  {
   "cell_type": "code",
   "execution_count": 523,
   "metadata": {},
   "outputs": [
    {
     "data": {
      "text/html": [
       "<div>\n",
       "<style scoped>\n",
       "    .dataframe tbody tr th:only-of-type {\n",
       "        vertical-align: middle;\n",
       "    }\n",
       "\n",
       "    .dataframe tbody tr th {\n",
       "        vertical-align: top;\n",
       "    }\n",
       "\n",
       "    .dataframe thead th {\n",
       "        text-align: right;\n",
       "    }\n",
       "</style>\n",
       "<table border=\"1\" class=\"dataframe\">\n",
       "  <thead>\n",
       "    <tr style=\"text-align: right;\">\n",
       "      <th></th>\n",
       "      <th>Airline Name</th>\n",
       "      <th>Claim Type</th>\n",
       "    </tr>\n",
       "  </thead>\n",
       "  <tbody>\n",
       "    <tr>\n",
       "      <td>Airline Name</td>\n",
       "      <td>1.000000</td>\n",
       "      <td>0.057824</td>\n",
       "    </tr>\n",
       "    <tr>\n",
       "      <td>Claim Type</td>\n",
       "      <td>0.057824</td>\n",
       "      <td>1.000000</td>\n",
       "    </tr>\n",
       "  </tbody>\n",
       "</table>\n",
       "</div>"
      ],
      "text/plain": [
       "              Airline Name  Claim Type\n",
       "Airline Name      1.000000    0.057824\n",
       "Claim Type        0.057824    1.000000"
      ]
     },
     "execution_count": 523,
     "metadata": {},
     "output_type": "execute_result"
    }
   ],
   "source": [
    "tsa[['Airline Name','Claim Type']].apply(lambda x: x.factorize()[0]).corr('pearson')"
   ]
  },
  {
   "cell_type": "markdown",
   "metadata": {},
   "source": [
    "Using factorize, it seems that there is no correlation between Airline Name and Claim Type."
   ]
  },
  {
   "cell_type": "code",
   "execution_count": 524,
   "metadata": {},
   "outputs": [],
   "source": [
    "claimnan = tsa[tsa['Claim Type'].isna()]"
   ]
  },
  {
   "cell_type": "code",
   "execution_count": 535,
   "metadata": {},
   "outputs": [
    {
     "name": "stdout",
     "output_type": "stream",
     "text": [
      "Claim Number have 0 NaN\n",
      "Date Received have 35 NaN\n",
      "Incident Date have 382 NaN\n",
      "Airport Code have 547 NaN\n",
      "Airport Name have 547 NaN\n",
      "Airline Name have 1003 NaN\n",
      "Claim Type have 2031 NaN\n",
      "Claim Site have 130 NaN\n",
      "Item have 154 NaN\n",
      "Claim Amount have 473 NaN\n",
      "Status have 52 NaN\n",
      "Close Amount have 496 NaN\n",
      "Disposition have 571 NaN\n",
      "Day Differences have 384 NaN\n",
      "Amount Differences have 688 NaN\n"
     ]
    }
   ],
   "source": [
    "for i in claimnan.columns:\n",
    "    print(i,'have',claimnan[i].isna().sum(),'NaN')"
   ]
  },
  {
   "cell_type": "markdown",
   "metadata": {},
   "source": [
    "It's hard to single out a single column that make Claim Type column filled with NaN. But I assume that the claimant forgot to fill the Claim Type or there are multiple Claim Type in one claim."
   ]
  },
  {
   "cell_type": "code",
   "execution_count": 537,
   "metadata": {},
   "outputs": [
    {
     "data": {
      "text/plain": [
       "Other                                         563\n",
       "Luggage (all types including footlockers)     268\n",
       "Clothing - Shoes; belts; accessories; etc.    257\n",
       "Jewelry - Fine                                192\n",
       "Cameras - Digital                             145\n",
       "Name: Item, dtype: int64"
      ]
     },
     "execution_count": 537,
     "metadata": {},
     "output_type": "execute_result"
    }
   ],
   "source": [
    "claimnan['Item'].value_counts().head(5)"
   ]
  },
  {
   "cell_type": "markdown",
   "metadata": {},
   "source": [
    "Other type of Item tops the type of Item with NaN claim type. The top 4 Item is filled with multiple items grouped into one. So I assume that some of the items must be lost and some of others damaged so there are multiple Claim Type in one Claim."
   ]
  },
  {
   "cell_type": "markdown",
   "metadata": {},
   "source": [
    "There is no relationship between the Airport and/or the Airline with the number of the claim that happen and the Claim Type. NaN in Claim Type can be caused by multiple types of claim in one claim ticket."
   ]
  },
  {
   "cell_type": "markdown",
   "metadata": {},
   "source": [
    "### Question\n",
    "\n",
    "2. If you realize, there is many different classes in the Status and Disposition column. What pattern you could find in these 2 columns because of this classes variation? is there any relation with the other columns?"
   ]
  },
  {
   "cell_type": "code",
   "execution_count": 560,
   "metadata": {
    "scrolled": true
   },
   "outputs": [
    {
     "data": {
      "text/plain": [
       "array(['Approved', 'Canceled', 'Denied', 'Settled', 'In litigation',\n",
       "       'Insufficient; one of the following items required: sum certain; statement of fact; signature; location of incident; and date.',\n",
       "       'Closed as a contractor claim', 'In review', 'Claim entered',\n",
       "       'Deny', nan, 'Settle', 'Approve in Full'], dtype=object)"
      ]
     },
     "execution_count": 560,
     "metadata": {},
     "output_type": "execute_result"
    }
   ],
   "source": [
    "tsa['Status'].unique()"
   ]
  },
  {
   "cell_type": "code",
   "execution_count": 561,
   "metadata": {},
   "outputs": [
    {
     "data": {
      "text/plain": [
       "array(['Approve in Full', nan, 'Deny', 'Settle'], dtype=object)"
      ]
     },
     "execution_count": 561,
     "metadata": {},
     "output_type": "execute_result"
    }
   ],
   "source": [
    "tsa['Disposition'].unique()"
   ]
  },
  {
   "cell_type": "markdown",
   "metadata": {},
   "source": [
    "It seems that disposition is TSA's own guess or hypothesis whether the claim will be Denied, Approved in Full or Settled. The classes of Status prove this because words such as Deny, Approve or Settle is in the classes of status."
   ]
  },
  {
   "cell_type": "code",
   "execution_count": 555,
   "metadata": {},
   "outputs": [
    {
     "data": {
      "text/plain": [
       "Deny    17125\n",
       "Name: Disposition, dtype: int64"
      ]
     },
     "execution_count": 555,
     "metadata": {},
     "output_type": "execute_result"
    }
   ],
   "source": [
    "tsa[tsa['Status'] == 'Denied']['Disposition'].value_counts()"
   ]
  },
  {
   "cell_type": "code",
   "execution_count": 556,
   "metadata": {},
   "outputs": [
    {
     "data": {
      "text/plain": [
       "Approve in Full    8724\n",
       "Name: Disposition, dtype: int64"
      ]
     },
     "execution_count": 556,
     "metadata": {},
     "output_type": "execute_result"
    }
   ],
   "source": [
    "tsa[tsa['Status'] == 'Approved']['Disposition'].value_counts()"
   ]
  },
  {
   "cell_type": "code",
   "execution_count": 558,
   "metadata": {},
   "outputs": [
    {
     "data": {
      "text/plain": [
       "Settle    6970\n",
       "Name: Disposition, dtype: int64"
      ]
     },
     "execution_count": 558,
     "metadata": {},
     "output_type": "execute_result"
    }
   ],
   "source": [
    "tsa[tsa['Status'] == 'Settled']['Disposition'].value_counts()"
   ]
  },
  {
   "cell_type": "code",
   "execution_count": 565,
   "metadata": {},
   "outputs": [
    {
     "data": {
      "text/plain": [
       "Deny               17147\n",
       "Approve in Full     8727\n",
       "Settle              6972\n",
       "Name: Disposition, dtype: int64"
      ]
     },
     "execution_count": 565,
     "metadata": {},
     "output_type": "execute_result"
    }
   ],
   "source": [
    "tsa['Disposition'].value_counts()"
   ]
  },
  {
   "cell_type": "markdown",
   "metadata": {},
   "source": [
    "I think it is proven that one disposition by TSA usually result in one Status, Deny will result in Status Denied and etc. "
   ]
  },
  {
   "cell_type": "code",
   "execution_count": 576,
   "metadata": {},
   "outputs": [],
   "source": [
    "three_status = tsa[(tsa['Status'] == 'Denied') | (tsa['Status'] == 'Approved') | (tsa['Status'] == 'Settled')]"
   ]
  },
  {
   "cell_type": "code",
   "execution_count": 577,
   "metadata": {},
   "outputs": [
    {
     "data": {
      "text/html": [
       "<div>\n",
       "<style scoped>\n",
       "    .dataframe tbody tr th:only-of-type {\n",
       "        vertical-align: middle;\n",
       "    }\n",
       "\n",
       "    .dataframe tbody tr th {\n",
       "        vertical-align: top;\n",
       "    }\n",
       "\n",
       "    .dataframe thead th {\n",
       "        text-align: right;\n",
       "    }\n",
       "</style>\n",
       "<table border=\"1\" class=\"dataframe\">\n",
       "  <thead>\n",
       "    <tr style=\"text-align: right;\">\n",
       "      <th></th>\n",
       "      <th>Disposition</th>\n",
       "      <th>Status</th>\n",
       "    </tr>\n",
       "  </thead>\n",
       "  <tbody>\n",
       "    <tr>\n",
       "      <td>Disposition</td>\n",
       "      <td>1.00000</td>\n",
       "      <td>0.99945</td>\n",
       "    </tr>\n",
       "    <tr>\n",
       "      <td>Status</td>\n",
       "      <td>0.99945</td>\n",
       "      <td>1.00000</td>\n",
       "    </tr>\n",
       "  </tbody>\n",
       "</table>\n",
       "</div>"
      ],
      "text/plain": [
       "             Disposition   Status\n",
       "Disposition      1.00000  0.99945\n",
       "Status           0.99945  1.00000"
      ]
     },
     "execution_count": 577,
     "metadata": {},
     "output_type": "execute_result"
    }
   ],
   "source": [
    "three_status[['Disposition','Status']].apply(lambda x: x.factorize()[0]).corr('spearman')"
   ]
  },
  {
   "cell_type": "code",
   "execution_count": 578,
   "metadata": {
    "scrolled": true
   },
   "outputs": [
    {
     "data": {
      "text/html": [
       "<div>\n",
       "<style scoped>\n",
       "    .dataframe tbody tr th:only-of-type {\n",
       "        vertical-align: middle;\n",
       "    }\n",
       "\n",
       "    .dataframe tbody tr th {\n",
       "        vertical-align: top;\n",
       "    }\n",
       "\n",
       "    .dataframe thead th {\n",
       "        text-align: right;\n",
       "    }\n",
       "</style>\n",
       "<table border=\"1\" class=\"dataframe\">\n",
       "  <thead>\n",
       "    <tr style=\"text-align: right;\">\n",
       "      <th></th>\n",
       "      <th>Disposition</th>\n",
       "      <th>Status</th>\n",
       "    </tr>\n",
       "  </thead>\n",
       "  <tbody>\n",
       "    <tr>\n",
       "      <td>Disposition</td>\n",
       "      <td>1.000000</td>\n",
       "      <td>0.998848</td>\n",
       "    </tr>\n",
       "    <tr>\n",
       "      <td>Status</td>\n",
       "      <td>0.998848</td>\n",
       "      <td>1.000000</td>\n",
       "    </tr>\n",
       "  </tbody>\n",
       "</table>\n",
       "</div>"
      ],
      "text/plain": [
       "             Disposition    Status\n",
       "Disposition     1.000000  0.998848\n",
       "Status          0.998848  1.000000"
      ]
     },
     "execution_count": 578,
     "metadata": {},
     "output_type": "execute_result"
    }
   ],
   "source": [
    "three_status[['Disposition','Status']].apply(lambda x: x.factorize()[0]).corr('pearson')"
   ]
  },
  {
   "cell_type": "markdown",
   "metadata": {},
   "source": [
    "Look how close the correlation is between disposition and status if there are only three certain status to meet with three disposition made by TSA."
   ]
  },
  {
   "cell_type": "code",
   "execution_count": 581,
   "metadata": {},
   "outputs": [
    {
     "data": {
      "text/plain": [
       "Index(['Claim Number', 'Date Received', 'Incident Date', 'Airport Code',\n",
       "       'Airport Name', 'Airline Name', 'Claim Type', 'Claim Site', 'Item',\n",
       "       'Claim Amount', 'Status', 'Close Amount', 'Disposition',\n",
       "       'Day Differences', 'Amount Differences'],\n",
       "      dtype='object')"
      ]
     },
     "execution_count": 581,
     "metadata": {},
     "output_type": "execute_result"
    }
   ],
   "source": [
    "tsa.columns"
   ]
  },
  {
   "cell_type": "markdown",
   "metadata": {},
   "source": [
    "Looking at the columns I think there are several impossible columns that will correlate to Status/Disposition ex: claim number, dates, airport code/name, airline name, and claim site"
   ]
  },
  {
   "cell_type": "code",
   "execution_count": 582,
   "metadata": {},
   "outputs": [
    {
     "data": {
      "text/html": [
       "<div>\n",
       "<style scoped>\n",
       "    .dataframe tbody tr th:only-of-type {\n",
       "        vertical-align: middle;\n",
       "    }\n",
       "\n",
       "    .dataframe tbody tr th {\n",
       "        vertical-align: top;\n",
       "    }\n",
       "\n",
       "    .dataframe thead th {\n",
       "        text-align: right;\n",
       "    }\n",
       "</style>\n",
       "<table border=\"1\" class=\"dataframe\">\n",
       "  <thead>\n",
       "    <tr style=\"text-align: right;\">\n",
       "      <th></th>\n",
       "      <th>Status</th>\n",
       "      <th>Item</th>\n",
       "    </tr>\n",
       "  </thead>\n",
       "  <tbody>\n",
       "    <tr>\n",
       "      <td>Status</td>\n",
       "      <td>1.000000</td>\n",
       "      <td>0.279619</td>\n",
       "    </tr>\n",
       "    <tr>\n",
       "      <td>Item</td>\n",
       "      <td>0.279619</td>\n",
       "      <td>1.000000</td>\n",
       "    </tr>\n",
       "  </tbody>\n",
       "</table>\n",
       "</div>"
      ],
      "text/plain": [
       "          Status      Item\n",
       "Status  1.000000  0.279619\n",
       "Item    0.279619  1.000000"
      ]
     },
     "execution_count": 582,
     "metadata": {},
     "output_type": "execute_result"
    }
   ],
   "source": [
    "tsa[['Status','Item']].apply(lambda x: x.factorize()[0]).corr('spearman')"
   ]
  },
  {
   "cell_type": "code",
   "execution_count": 583,
   "metadata": {
    "scrolled": true
   },
   "outputs": [
    {
     "data": {
      "text/html": [
       "<div>\n",
       "<style scoped>\n",
       "    .dataframe tbody tr th:only-of-type {\n",
       "        vertical-align: middle;\n",
       "    }\n",
       "\n",
       "    .dataframe tbody tr th {\n",
       "        vertical-align: top;\n",
       "    }\n",
       "\n",
       "    .dataframe thead th {\n",
       "        text-align: right;\n",
       "    }\n",
       "</style>\n",
       "<table border=\"1\" class=\"dataframe\">\n",
       "  <thead>\n",
       "    <tr style=\"text-align: right;\">\n",
       "      <th></th>\n",
       "      <th>Status</th>\n",
       "      <th>Item</th>\n",
       "    </tr>\n",
       "  </thead>\n",
       "  <tbody>\n",
       "    <tr>\n",
       "      <td>Status</td>\n",
       "      <td>1.0000</td>\n",
       "      <td>0.5901</td>\n",
       "    </tr>\n",
       "    <tr>\n",
       "      <td>Item</td>\n",
       "      <td>0.5901</td>\n",
       "      <td>1.0000</td>\n",
       "    </tr>\n",
       "  </tbody>\n",
       "</table>\n",
       "</div>"
      ],
      "text/plain": [
       "        Status    Item\n",
       "Status  1.0000  0.5901\n",
       "Item    0.5901  1.0000"
      ]
     },
     "execution_count": 583,
     "metadata": {},
     "output_type": "execute_result"
    }
   ],
   "source": [
    "tsa[['Status','Item']].apply(lambda x: x.factorize()[0]).corr('pearson')"
   ]
  },
  {
   "cell_type": "markdown",
   "metadata": {},
   "source": [
    "I see that there are some correlation between Status and Item"
   ]
  },
  {
   "cell_type": "code",
   "execution_count": 585,
   "metadata": {},
   "outputs": [
    {
     "data": {
      "text/html": [
       "<div>\n",
       "<style scoped>\n",
       "    .dataframe tbody tr th:only-of-type {\n",
       "        vertical-align: middle;\n",
       "    }\n",
       "\n",
       "    .dataframe tbody tr th {\n",
       "        vertical-align: top;\n",
       "    }\n",
       "\n",
       "    .dataframe thead th {\n",
       "        text-align: right;\n",
       "    }\n",
       "</style>\n",
       "<table border=\"1\" class=\"dataframe\">\n",
       "  <thead>\n",
       "    <tr style=\"text-align: right;\">\n",
       "      <th></th>\n",
       "      <th>Disposition</th>\n",
       "      <th>Item</th>\n",
       "    </tr>\n",
       "  </thead>\n",
       "  <tbody>\n",
       "    <tr>\n",
       "      <td>Disposition</td>\n",
       "      <td>1.000000</td>\n",
       "      <td>-0.388485</td>\n",
       "    </tr>\n",
       "    <tr>\n",
       "      <td>Item</td>\n",
       "      <td>-0.388485</td>\n",
       "      <td>1.000000</td>\n",
       "    </tr>\n",
       "  </tbody>\n",
       "</table>\n",
       "</div>"
      ],
      "text/plain": [
       "             Disposition      Item\n",
       "Disposition     1.000000 -0.388485\n",
       "Item           -0.388485  1.000000"
      ]
     },
     "execution_count": 585,
     "metadata": {},
     "output_type": "execute_result"
    }
   ],
   "source": [
    "tsa[['Disposition','Item']].apply(lambda x: x.factorize()[0]).corr('spearman')"
   ]
  },
  {
   "cell_type": "code",
   "execution_count": 584,
   "metadata": {
    "scrolled": true
   },
   "outputs": [
    {
     "data": {
      "text/html": [
       "<div>\n",
       "<style scoped>\n",
       "    .dataframe tbody tr th:only-of-type {\n",
       "        vertical-align: middle;\n",
       "    }\n",
       "\n",
       "    .dataframe tbody tr th {\n",
       "        vertical-align: top;\n",
       "    }\n",
       "\n",
       "    .dataframe thead th {\n",
       "        text-align: right;\n",
       "    }\n",
       "</style>\n",
       "<table border=\"1\" class=\"dataframe\">\n",
       "  <thead>\n",
       "    <tr style=\"text-align: right;\">\n",
       "      <th></th>\n",
       "      <th>Disposition</th>\n",
       "      <th>Item</th>\n",
       "    </tr>\n",
       "  </thead>\n",
       "  <tbody>\n",
       "    <tr>\n",
       "      <td>Disposition</td>\n",
       "      <td>1.000000</td>\n",
       "      <td>-0.600032</td>\n",
       "    </tr>\n",
       "    <tr>\n",
       "      <td>Item</td>\n",
       "      <td>-0.600032</td>\n",
       "      <td>1.000000</td>\n",
       "    </tr>\n",
       "  </tbody>\n",
       "</table>\n",
       "</div>"
      ],
      "text/plain": [
       "             Disposition      Item\n",
       "Disposition     1.000000 -0.600032\n",
       "Item           -0.600032  1.000000"
      ]
     },
     "execution_count": 584,
     "metadata": {},
     "output_type": "execute_result"
    }
   ],
   "source": [
    "tsa[['Disposition','Item']].apply(lambda x: x.factorize()[0]).corr('pearson')"
   ]
  },
  {
   "cell_type": "markdown",
   "metadata": {},
   "source": [
    "I see that it is also similarly correlated but on the negative."
   ]
  },
  {
   "cell_type": "code",
   "execution_count": 586,
   "metadata": {},
   "outputs": [
    {
     "data": {
      "text/html": [
       "<div>\n",
       "<style scoped>\n",
       "    .dataframe tbody tr th:only-of-type {\n",
       "        vertical-align: middle;\n",
       "    }\n",
       "\n",
       "    .dataframe tbody tr th {\n",
       "        vertical-align: top;\n",
       "    }\n",
       "\n",
       "    .dataframe thead th {\n",
       "        text-align: right;\n",
       "    }\n",
       "</style>\n",
       "<table border=\"1\" class=\"dataframe\">\n",
       "  <thead>\n",
       "    <tr style=\"text-align: right;\">\n",
       "      <th></th>\n",
       "      <th>Status</th>\n",
       "      <th>Amount Differences</th>\n",
       "    </tr>\n",
       "  </thead>\n",
       "  <tbody>\n",
       "    <tr>\n",
       "      <td>Status</td>\n",
       "      <td>1.000000</td>\n",
       "      <td>-0.207765</td>\n",
       "    </tr>\n",
       "    <tr>\n",
       "      <td>Amount Differences</td>\n",
       "      <td>-0.207765</td>\n",
       "      <td>1.000000</td>\n",
       "    </tr>\n",
       "  </tbody>\n",
       "</table>\n",
       "</div>"
      ],
      "text/plain": [
       "                      Status  Amount Differences\n",
       "Status              1.000000           -0.207765\n",
       "Amount Differences -0.207765            1.000000"
      ]
     },
     "execution_count": 586,
     "metadata": {},
     "output_type": "execute_result"
    }
   ],
   "source": [
    "tsa[['Status','Amount Differences']].apply(lambda x: x.factorize()[0]).corr('spearman')"
   ]
  },
  {
   "cell_type": "code",
   "execution_count": 587,
   "metadata": {
    "scrolled": true
   },
   "outputs": [
    {
     "data": {
      "text/html": [
       "<div>\n",
       "<style scoped>\n",
       "    .dataframe tbody tr th:only-of-type {\n",
       "        vertical-align: middle;\n",
       "    }\n",
       "\n",
       "    .dataframe tbody tr th {\n",
       "        vertical-align: top;\n",
       "    }\n",
       "\n",
       "    .dataframe thead th {\n",
       "        text-align: right;\n",
       "    }\n",
       "</style>\n",
       "<table border=\"1\" class=\"dataframe\">\n",
       "  <thead>\n",
       "    <tr style=\"text-align: right;\">\n",
       "      <th></th>\n",
       "      <th>Status</th>\n",
       "      <th>Amount Differences</th>\n",
       "    </tr>\n",
       "  </thead>\n",
       "  <tbody>\n",
       "    <tr>\n",
       "      <td>Status</td>\n",
       "      <td>1.000000</td>\n",
       "      <td>-0.166247</td>\n",
       "    </tr>\n",
       "    <tr>\n",
       "      <td>Amount Differences</td>\n",
       "      <td>-0.166247</td>\n",
       "      <td>1.000000</td>\n",
       "    </tr>\n",
       "  </tbody>\n",
       "</table>\n",
       "</div>"
      ],
      "text/plain": [
       "                      Status  Amount Differences\n",
       "Status              1.000000           -0.166247\n",
       "Amount Differences -0.166247            1.000000"
      ]
     },
     "execution_count": 587,
     "metadata": {},
     "output_type": "execute_result"
    }
   ],
   "source": [
    "tsa[['Status','Amount Differences']].apply(lambda x: x.factorize()[0]).corr('pearson')"
   ]
  },
  {
   "cell_type": "markdown",
   "metadata": {},
   "source": [
    "It seems that there is no correlation between Status and Amount Differences."
   ]
  },
  {
   "cell_type": "code",
   "execution_count": 588,
   "metadata": {},
   "outputs": [
    {
     "data": {
      "text/html": [
       "<div>\n",
       "<style scoped>\n",
       "    .dataframe tbody tr th:only-of-type {\n",
       "        vertical-align: middle;\n",
       "    }\n",
       "\n",
       "    .dataframe tbody tr th {\n",
       "        vertical-align: top;\n",
       "    }\n",
       "\n",
       "    .dataframe thead th {\n",
       "        text-align: right;\n",
       "    }\n",
       "</style>\n",
       "<table border=\"1\" class=\"dataframe\">\n",
       "  <thead>\n",
       "    <tr style=\"text-align: right;\">\n",
       "      <th></th>\n",
       "      <th>Disposition</th>\n",
       "      <th>Amount Differences</th>\n",
       "    </tr>\n",
       "  </thead>\n",
       "  <tbody>\n",
       "    <tr>\n",
       "      <td>Disposition</td>\n",
       "      <td>1.000000</td>\n",
       "      <td>0.830399</td>\n",
       "    </tr>\n",
       "    <tr>\n",
       "      <td>Amount Differences</td>\n",
       "      <td>0.830399</td>\n",
       "      <td>1.000000</td>\n",
       "    </tr>\n",
       "  </tbody>\n",
       "</table>\n",
       "</div>"
      ],
      "text/plain": [
       "                    Disposition  Amount Differences\n",
       "Disposition            1.000000            0.830399\n",
       "Amount Differences     0.830399            1.000000"
      ]
     },
     "execution_count": 588,
     "metadata": {},
     "output_type": "execute_result"
    }
   ],
   "source": [
    "tsa[['Disposition','Amount Differences']].apply(lambda x: x.factorize()[0]).corr('spearman')"
   ]
  },
  {
   "cell_type": "code",
   "execution_count": 589,
   "metadata": {
    "scrolled": true
   },
   "outputs": [
    {
     "data": {
      "text/html": [
       "<div>\n",
       "<style scoped>\n",
       "    .dataframe tbody tr th:only-of-type {\n",
       "        vertical-align: middle;\n",
       "    }\n",
       "\n",
       "    .dataframe tbody tr th {\n",
       "        vertical-align: top;\n",
       "    }\n",
       "\n",
       "    .dataframe thead th {\n",
       "        text-align: right;\n",
       "    }\n",
       "</style>\n",
       "<table border=\"1\" class=\"dataframe\">\n",
       "  <thead>\n",
       "    <tr style=\"text-align: right;\">\n",
       "      <th></th>\n",
       "      <th>Disposition</th>\n",
       "      <th>Amount Differences</th>\n",
       "    </tr>\n",
       "  </thead>\n",
       "  <tbody>\n",
       "    <tr>\n",
       "      <td>Disposition</td>\n",
       "      <td>1.000000</td>\n",
       "      <td>0.423439</td>\n",
       "    </tr>\n",
       "    <tr>\n",
       "      <td>Amount Differences</td>\n",
       "      <td>0.423439</td>\n",
       "      <td>1.000000</td>\n",
       "    </tr>\n",
       "  </tbody>\n",
       "</table>\n",
       "</div>"
      ],
      "text/plain": [
       "                    Disposition  Amount Differences\n",
       "Disposition            1.000000            0.423439\n",
       "Amount Differences     0.423439            1.000000"
      ]
     },
     "execution_count": 589,
     "metadata": {},
     "output_type": "execute_result"
    }
   ],
   "source": [
    "tsa[['Disposition','Amount Differences']].apply(lambda x: x.factorize()[0]).corr('pearson')"
   ]
  },
  {
   "cell_type": "markdown",
   "metadata": {},
   "source": [
    "Interestingly, Disposition and Amount Differences somehow have a correlation. It maybe that absurd Amount Differences might influence the Disposition."
   ]
  },
  {
   "cell_type": "markdown",
   "metadata": {},
   "source": [
    "I found out that Disposition affected the Status of Claim and Disposition itself is affected by Amount Differences. I guess making an acceptable Claim Amount can increase your chance of getting your claim Approved or Settled."
   ]
  },
  {
   "cell_type": "markdown",
   "metadata": {},
   "source": [
    "## Bonus Question\n",
    "\n",
    "Could you find any interesting Insight from our data that you could explain? Try to explain it with the available data"
   ]
  },
  {
   "cell_type": "code",
   "execution_count": 614,
   "metadata": {},
   "outputs": [
    {
     "data": {
      "text/plain": [
       "Airline Name\n",
       "Sun Country Airlines Inc    2.551300e+06\n",
       "Westjet Airlines Ltd        1.053564e+05\n",
       "Swiss Air                   6.772754e+04\n",
       "Champion Airlines           5.007417e+04\n",
       "Canadian Airlines           4.559650e+04\n",
       "Aerolineas Argentinas       6.279833e+03\n",
       "Air China                   5.823613e+03\n",
       "Allegiant Air               5.012368e+03\n",
       "Mountain West               4.132500e+03\n",
       "TAM airlines                2.827358e+03\n",
       "Name: Amount Differences, dtype: float64"
      ]
     },
     "execution_count": 614,
     "metadata": {},
     "output_type": "execute_result"
    }
   ],
   "source": [
    "tsa.groupby('Airline Name').mean()['Amount Differences'].sort_values(ascending=False).head(10)"
   ]
  },
  {
   "cell_type": "markdown",
   "metadata": {},
   "source": [
    "I found out that Sun Country Airlines Inc, Westjet Airlines Ltd, Swiss Air, Champion Airlines and Canadian Airlines have the highest Amount Differences of any Airlines respectively. These airlines might endanger your (expensive) belongings."
   ]
  },
  {
   "cell_type": "code",
   "execution_count": 616,
   "metadata": {},
   "outputs": [
    {
     "data": {
      "text/plain": [
       "Airport Name\n",
       "Phoenix Sky Harbor International           143867.376124\n",
       "TSA - Non-Specified Airport                117537.713810\n",
       "Gulfport-Biloxi International               57752.233714\n",
       "Laughlin/Bullhead International Airport     39381.031429\n",
       "Long Island McArthur; Islip                 19462.265370\n",
       "Buffalo Niagara International               17826.253411\n",
       "Sacramento International Airport            14315.196784\n",
       "Sioux Gateway                               10045.194000\n",
       "San Francisco International                  6452.605370\n",
       "Northwest Arkansas Regional                  4310.513333\n",
       "Name: Amount Differences, dtype: float64"
      ]
     },
     "execution_count": 616,
     "metadata": {},
     "output_type": "execute_result"
    }
   ],
   "source": [
    "tsa.groupby('Airport Name').mean()['Amount Differences'].sort_values(ascending=False).head(10)"
   ]
  },
  {
   "cell_type": "markdown",
   "metadata": {},
   "source": [
    "I also found out that Phoenix Sky Harbor International, Gulfport-Biloxi International and Laughlin/Bullhead International Airport are the top 3 airport that have the highest Amount Differences of any Airports respectively. Beware of your (expensive) belongings if you are going through these airports."
   ]
  },
  {
   "cell_type": "code",
   "execution_count": 621,
   "metadata": {},
   "outputs": [
    {
     "data": {
      "text/plain": [
       "Status\n",
       "Approve in Full     5271.0\n",
       "Approved           13060.0\n",
       "Name: Claim Amount, dtype: float64"
      ]
     },
     "execution_count": 621,
     "metadata": {},
     "output_type": "execute_result"
    }
   ],
   "source": [
    "tsa.groupby('Status').max().loc[['Approve in Full','Approved'],'Claim Amount']"
   ]
  },
  {
   "cell_type": "markdown",
   "metadata": {},
   "source": [
    "This number is the maximum of approved refund by TSA to claimant. Beware if the value of your belongings is higher than USD 13060, you might not get the reparations for your belongings."
   ]
  },
  {
   "cell_type": "markdown",
   "metadata": {},
   "source": [
    "To create our dashboard, lets use only the data that was not outlier according to the Amount Differences. As we did not process all the NaN, just drop all those NaN. Save the file as 'tsa_claims_dashboard_ujian.csv', don't include the Index. As we don't want to have too much data in our dashboard, let's just sample 1000 data from our current data.\n",
    "\n",
    "Also, set the random seed to 101."
   ]
  },
  {
   "cell_type": "code",
   "execution_count": 32,
   "metadata": {
    "ExecuteTime": {
     "end_time": "2019-10-12T18:26:03.876870Z",
     "start_time": "2019-10-12T18:26:03.872932Z"
    }
   },
   "outputs": [],
   "source": [
    "np.random.seed(101)"
   ]
  },
  {
   "cell_type": "code",
   "execution_count": 590,
   "metadata": {
    "ExecuteTime": {
     "end_time": "2019-10-12T18:26:03.920830Z",
     "start_time": "2019-10-12T18:26:03.877868Z"
    }
   },
   "outputs": [],
   "source": [
    "df = ad.dropna()"
   ]
  },
  {
   "cell_type": "code",
   "execution_count": 595,
   "metadata": {},
   "outputs": [],
   "source": [
    "df = df.sample(1000)"
   ]
  },
  {
   "cell_type": "code",
   "execution_count": 596,
   "metadata": {},
   "outputs": [],
   "source": [
    "df.to_csv('tsa_claims_dashboard_ujian.csv', index=False)"
   ]
  },
  {
   "cell_type": "markdown",
   "metadata": {},
   "source": [
    "Export the data to your SQL database, and try to connect the database to the dashboard"
   ]
  },
  {
   "cell_type": "code",
   "execution_count": null,
   "metadata": {},
   "outputs": [],
   "source": []
  },
  {
   "cell_type": "code",
   "execution_count": null,
   "metadata": {},
   "outputs": [],
   "source": []
  }
 ],
 "metadata": {
  "hide_input": false,
  "kernelspec": {
   "display_name": "Python 3",
   "language": "python",
   "name": "python3"
  },
  "language_info": {
   "codemirror_mode": {
    "name": "ipython",
    "version": 3
   },
   "file_extension": ".py",
   "mimetype": "text/x-python",
   "name": "python",
   "nbconvert_exporter": "python",
   "pygments_lexer": "ipython3",
   "version": "3.7.4"
  },
  "varInspector": {
   "cols": {
    "lenName": 16,
    "lenType": 16,
    "lenVar": 40
   },
   "kernels_config": {
    "python": {
     "delete_cmd_postfix": "",
     "delete_cmd_prefix": "del ",
     "library": "var_list.py",
     "varRefreshCmd": "print(var_dic_list())"
    },
    "r": {
     "delete_cmd_postfix": ") ",
     "delete_cmd_prefix": "rm(",
     "library": "var_list.r",
     "varRefreshCmd": "cat(var_dic_list()) "
    }
   },
   "types_to_exclude": [
    "module",
    "function",
    "builtin_function_or_method",
    "instance",
    "_Feature"
   ],
   "window_display": false
  }
 },
 "nbformat": 4,
 "nbformat_minor": 2
}
